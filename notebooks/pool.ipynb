{
 "cells": [
  {
   "cell_type": "code",
   "execution_count": null,
   "id": "8921d622-f7c4-48f3-852c-1f159083bf55",
   "metadata": {},
   "outputs": [],
   "source": [
    "pool\n"
   ]
  },
  {
   "cell_type": "code",
   "execution_count": null,
   "id": "eb8a34c7-3c4c-4320-81a8-3a8fc49df805",
   "metadata": {},
   "outputs": [],
   "source": [
    "# # separate features and labels\n",
    "\n",
    "# features = data.copy()\n",
    "# labels = features.pop('revenue')"
   ]
  },
  {
   "cell_type": "code",
   "execution_count": null,
   "id": "f27c9647-c9cd-4831-bd4a-34f58b047eca",
   "metadata": {},
   "outputs": [],
   "source": [
    "# feature_ds = tf.data.Dataset.from_tensor_slices(features.values)\n",
    "# label_ds = tf.data.Dataset.from_tensor_slices(labels.values)"
   ]
  },
  {
   "cell_type": "code",
   "execution_count": null,
   "id": "4902d243-eac0-4910-a5b0-edadd170348a",
   "metadata": {},
   "outputs": [],
   "source": [
    "# full_ds = tf.data.Dataset.zip((feature_ds, label_ds))"
   ]
  },
  {
   "cell_type": "code",
   "execution_count": null,
   "id": "d9f4ce08-3a8a-4c8d-982b-3e91febf3457",
   "metadata": {},
   "outputs": [],
   "source": [
    "# full_data_size = tf.data.experimental.cardinality(full_ds)"
   ]
  },
  {
   "cell_type": "code",
   "execution_count": null,
   "id": "066f5fe8-53fd-4140-b2d5-ae7a5cd40d93",
   "metadata": {},
   "outputs": [],
   "source": [
    "# full_data_size"
   ]
  },
  {
   "cell_type": "code",
   "execution_count": null,
   "id": "59de239f-a2cb-4628-82e9-3cd263ff44ae",
   "metadata": {},
   "outputs": [],
   "source": [
    "# full_ds.element_spec"
   ]
  },
  {
   "cell_type": "code",
   "execution_count": null,
   "id": "2958a43d-c704-4859-931f-246796f2d1f7",
   "metadata": {},
   "outputs": [],
   "source": [
    "# train_ds = full_ds.take(train_val_split)\n",
    "# val_ds = full_ds.skip(train_val_split)"
   ]
  },
  {
   "cell_type": "code",
   "execution_count": null,
   "id": "94e9f22b-d997-4e54-a0cf-9ae37fe53b77",
   "metadata": {},
   "outputs": [],
   "source": [
    "# # double check the shape before batching\n",
    "# N = tf.data.experimental.cardinality(train_ds).numpy()"
   ]
  },
  {
   "cell_type": "code",
   "execution_count": null,
   "id": "17970837-07cf-4d06-a501-d85af7f0e16d",
   "metadata": {},
   "outputs": [],
   "source": [
    "# # configure the dataset\n",
    "\n",
    "# train_ds = train_ds.batch(32).cache().shuffle(1000).prefetch(tf.data.AUTOTUNE)\n",
    "\n",
    "# val_ds = val_ds.batch(32).cache().shuffle(1000).prefetch(tf.data.AUTOTUNE)"
   ]
  },
  {
   "cell_type": "code",
   "execution_count": null,
   "id": "0de2f0be-87d9-40d0-b32c-446cbcee707e",
   "metadata": {},
   "outputs": [],
   "source": [
    "# print(N)"
   ]
  }
 ],
 "metadata": {
  "kernelspec": {
   "display_name": "Python 3 (ipykernel)",
   "language": "python",
   "name": "python3"
  },
  "language_info": {
   "codemirror_mode": {
    "name": "ipython",
    "version": 3
   },
   "file_extension": ".py",
   "mimetype": "text/x-python",
   "name": "python",
   "nbconvert_exporter": "python",
   "pygments_lexer": "ipython3",
   "version": "3.8.13"
  }
 },
 "nbformat": 4,
 "nbformat_minor": 5
}
