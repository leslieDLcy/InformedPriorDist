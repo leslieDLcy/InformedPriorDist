{
 "cells": [
  {
   "cell_type": "code",
   "execution_count": 1,
   "id": "b838cd37-b1f6-44dc-a8b5-3f6cef1f3b31",
   "metadata": {},
   "outputs": [],
   "source": [
    "## test example of using Temporal fusion transformer"
   ]
  },
  {
   "cell_type": "code",
   "execution_count": 2,
   "id": "5709c39e-b19f-4734-a3ed-a71b44d1261d",
   "metadata": {},
   "outputs": [],
   "source": [
    "from darts import TimeSeries"
   ]
  },
  {
   "cell_type": "code",
   "execution_count": 3,
   "id": "cde9d7ba-ea77-4cf0-b212-35c9d14cc01b",
   "metadata": {},
   "outputs": [
    {
     "name": "stderr",
     "output_type": "stream",
     "text": [
      "/opt/anaconda3/envs/tfp/lib/python3.8/site-packages/pkg_resources/__init__.py:123: PkgResourcesDeprecationWarning: R2022a is an invalid version and will not be supported in a future release\n",
      "  warnings.warn(\n",
      "The `LightGBM` module could not be imported. To enable LightGBM support in Darts, follow the detailed instructions in the installation guide: https://github.com/unit8co/darts/blob/master/INSTALL.md\n",
      "The `Prophet` module could not be imported. To enable Prophet support in Darts, follow the detailed instructions in the installation guide: https://github.com/unit8co/darts/blob/master/INSTALL.md\n",
      "The `CatBoost` module could not be imported. To enable CatBoost support in Darts, follow the detailed instructions in the installation guide: https://github.com/unit8co/darts/blob/master/INSTALL.md\n"
     ]
    }
   ],
   "source": [
    "import numpy as np\n",
    "import pandas as pd\n",
    "from tqdm import tqdm_notebook as tqdm\n",
    "\n",
    "import matplotlib.pyplot as plt\n",
    "\n",
    "from darts import TimeSeries, concatenate\n",
    "from darts.dataprocessing.transformers import Scaler\n",
    "from darts.models import TFTModel\n",
    "from darts.metrics import mape\n",
    "from darts.utils.statistics import check_seasonality, plot_acf\n",
    "from darts.datasets import AirPassengersDataset, IceCreamHeaterDataset\n",
    "from darts.utils.timeseries_generation import datetime_attribute_timeseries\n",
    "from darts.utils.likelihood_models import QuantileRegression\n",
    "\n",
    "import warnings\n",
    "\n",
    "warnings.filterwarnings(\"ignore\")\n",
    "import logging\n",
    "\n",
    "logging.disable(logging.CRITICAL)"
   ]
  },
  {
   "cell_type": "code",
   "execution_count": 29,
   "id": "3a3e86c6-e86b-482b-93c4-2d5c48803876",
   "metadata": {},
   "outputs": [],
   "source": [
    "from pipeline import import_data, base_process_data, feature_normalization, ensemble_predict, temporal_process_data\n",
    "from utils import cd_root_dir, save2Vis"
   ]
  },
  {
   "cell_type": "code",
   "execution_count": 5,
   "id": "51b93b0c-3041-4a46-be91-6327f435fbc5",
   "metadata": {},
   "outputs": [],
   "source": [
    "%load_ext autoreload\n",
    "%autoreload 2\n"
   ]
  },
  {
   "cell_type": "code",
   "execution_count": 6,
   "id": "8847a79f-6a6c-495a-a64c-14405f270383",
   "metadata": {},
   "outputs": [],
   "source": [
    "%matplotlib widget"
   ]
  },
  {
   "cell_type": "code",
   "execution_count": 7,
   "id": "abe9655b-1925-478a-910f-44080de7b8c4",
   "metadata": {},
   "outputs": [],
   "source": [
    "# set up a global plt style for the script\n",
    "# plt.style.use('classic')\n",
    "plt.rcParams.update({\n",
    "        \"font.size\": 9,\n",
    "        \"text.usetex\": True,\n",
    "        \"font.family\": \"serif\",\n",
    "        \"figure.figsize\": (4, 3),\n",
    "        \"legend.fontsize\": 'medium',\n",
    "        })"
   ]
  },
  {
   "cell_type": "code",
   "execution_count": 8,
   "id": "0671d07c-7fa3-4f99-89cb-12dbec14ecf1",
   "metadata": {},
   "outputs": [],
   "source": [
    "# tf.random.set_seed(9527)"
   ]
  },
  {
   "cell_type": "code",
   "execution_count": 9,
   "id": "46d4412f-0e27-40f4-81d1-9975ffc0ffd8",
   "metadata": {},
   "outputs": [
    {
     "name": "stdout",
     "output_type": "stream",
     "text": [
      "current directory: /Users/lesliec/Documents/Github_repos/KTP_Croud/KTP_Croud\n"
     ]
    }
   ],
   "source": [
    "cd_root_dir()"
   ]
  },
  {
   "cell_type": "markdown",
   "id": "5f1f618d-cf83-418d-9365-35adb2e4cdf2",
   "metadata": {},
   "source": [
    "# import the data"
   ]
  },
  {
   "cell_type": "code",
   "execution_count": 10,
   "id": "fb44a672-bf1c-4753-b2a9-9f21acc72f5c",
   "metadata": {},
   "outputs": [],
   "source": [
    "# import the data and get the time axis !\n",
    "dataset, time_axis = import_data(path='data/raw/weekly_media_sample.csv')"
   ]
  },
  {
   "cell_type": "code",
   "execution_count": 11,
   "id": "e02691e8-c03a-46e6-93c0-23609e5903b4",
   "metadata": {},
   "outputs": [],
   "source": [
    "time_axis = pd.to_datetime(time_axis, format='%d/%m/%Y')"
   ]
  },
  {
   "cell_type": "code",
   "execution_count": 12,
   "id": "c95968ea-02e9-4eb4-8042-2c858bbb49ff",
   "metadata": {},
   "outputs": [],
   "source": [
    "# plot the val results\n",
    "val_x_axis = np.arange(200, 208)"
   ]
  },
  {
   "cell_type": "code",
   "execution_count": 13,
   "id": "e0cd035f-d751-483d-afae-23a2181a37fa",
   "metadata": {},
   "outputs": [
    {
     "name": "stdout",
     "output_type": "stream",
     "text": [
      "Processed dataset shape:  (208, 7)\n"
     ]
    }
   ],
   "source": [
    "train_df, val_df = temporal_process_data(dataset, split_index=200)"
   ]
  },
  {
   "cell_type": "code",
   "execution_count": 14,
   "id": "6db76e40-6945-4337-b137-28a2b9565289",
   "metadata": {},
   "outputs": [
    {
     "data": {
      "text/plain": [
       "(200, 7)"
      ]
     },
     "execution_count": 14,
     "metadata": {},
     "output_type": "execute_result"
    }
   ],
   "source": [
    "train_df.shape"
   ]
  },
  {
   "cell_type": "code",
   "execution_count": 15,
   "id": "f29ef2a4-1d66-4592-bf14-1c2be6d1673e",
   "metadata": {},
   "outputs": [
    {
     "data": {
      "text/html": [
       "<div>\n",
       "<style scoped>\n",
       "    .dataframe tbody tr th:only-of-type {\n",
       "        vertical-align: middle;\n",
       "    }\n",
       "\n",
       "    .dataframe tbody tr th {\n",
       "        vertical-align: top;\n",
       "    }\n",
       "\n",
       "    .dataframe thead th {\n",
       "        text-align: right;\n",
       "    }\n",
       "</style>\n",
       "<table border=\"1\" class=\"dataframe\">\n",
       "  <thead>\n",
       "    <tr style=\"text-align: right;\">\n",
       "      <th></th>\n",
       "      <th>revenue</th>\n",
       "      <th>media1_S</th>\n",
       "      <th>media2_S</th>\n",
       "      <th>media3_S</th>\n",
       "      <th>competitor_sales</th>\n",
       "      <th>newsletter</th>\n",
       "      <th>year_sin</th>\n",
       "    </tr>\n",
       "  </thead>\n",
       "  <tbody>\n",
       "    <tr>\n",
       "      <th>0</th>\n",
       "      <td>1.336430</td>\n",
       "      <td>0.251134</td>\n",
       "      <td>1.422358</td>\n",
       "      <td>1.838231</td>\n",
       "      <td>1.297616</td>\n",
       "      <td>-0.118711</td>\n",
       "      <td>0.155231</td>\n",
       "    </tr>\n",
       "    <tr>\n",
       "      <th>1</th>\n",
       "      <td>1.099240</td>\n",
       "      <td>0.466640</td>\n",
       "      <td>-0.571763</td>\n",
       "      <td>-0.311544</td>\n",
       "      <td>1.189288</td>\n",
       "      <td>-0.373604</td>\n",
       "      <td>0.337454</td>\n",
       "    </tr>\n",
       "    <tr>\n",
       "      <th>2</th>\n",
       "      <td>1.047799</td>\n",
       "      <td>-0.519174</td>\n",
       "      <td>-0.500657</td>\n",
       "      <td>0.724051</td>\n",
       "      <td>1.382543</td>\n",
       "      <td>-0.387260</td>\n",
       "      <td>0.513386</td>\n",
       "    </tr>\n",
       "    <tr>\n",
       "      <th>3</th>\n",
       "      <td>1.504948</td>\n",
       "      <td>2.355924</td>\n",
       "      <td>2.198091</td>\n",
       "      <td>0.239946</td>\n",
       "      <td>1.296585</td>\n",
       "      <td>-1.036511</td>\n",
       "      <td>0.680018</td>\n",
       "    </tr>\n",
       "    <tr>\n",
       "      <th>4</th>\n",
       "      <td>0.585630</td>\n",
       "      <td>-0.519174</td>\n",
       "      <td>-0.571763</td>\n",
       "      <td>-0.461964</td>\n",
       "      <td>0.803617</td>\n",
       "      <td>-0.335625</td>\n",
       "      <td>0.834499</td>\n",
       "    </tr>\n",
       "  </tbody>\n",
       "</table>\n",
       "</div>"
      ],
      "text/plain": [
       "    revenue  media1_S  media2_S  media3_S  competitor_sales  newsletter  \\\n",
       "0  1.336430  0.251134  1.422358  1.838231          1.297616   -0.118711   \n",
       "1  1.099240  0.466640 -0.571763 -0.311544          1.189288   -0.373604   \n",
       "2  1.047799 -0.519174 -0.500657  0.724051          1.382543   -0.387260   \n",
       "3  1.504948  2.355924  2.198091  0.239946          1.296585   -1.036511   \n",
       "4  0.585630 -0.519174 -0.571763 -0.461964          0.803617   -0.335625   \n",
       "\n",
       "   year_sin  \n",
       "0  0.155231  \n",
       "1  0.337454  \n",
       "2  0.513386  \n",
       "3  0.680018  \n",
       "4  0.834499  "
      ]
     },
     "execution_count": 15,
     "metadata": {},
     "output_type": "execute_result"
    }
   ],
   "source": [
    "train_df.head()"
   ]
  },
  {
   "cell_type": "code",
   "execution_count": 16,
   "id": "a221822c-ae62-40de-90c4-0645f33407f1",
   "metadata": {},
   "outputs": [
    {
     "data": {
      "text/plain": [
       "Index(['revenue', 'media1_S', 'media2_S', 'media3_S', 'competitor_sales',\n",
       "       'newsletter', 'year_sin'],\n",
       "      dtype='object')"
      ]
     },
     "execution_count": 16,
     "metadata": {},
     "output_type": "execute_result"
    }
   ],
   "source": [
    "train_df.columns"
   ]
  },
  {
   "cell_type": "code",
   "execution_count": 17,
   "id": "53f273c7-9333-4c90-af04-b94577ceb684",
   "metadata": {},
   "outputs": [
    {
     "data": {
      "text/plain": [
       "(8, 7)"
      ]
     },
     "execution_count": 17,
     "metadata": {},
     "output_type": "execute_result"
    }
   ],
   "source": [
    "val_df.shape"
   ]
  },
  {
   "cell_type": "code",
   "execution_count": 18,
   "id": "63517740-edb1-4858-a3c8-e1e49cff3c19",
   "metadata": {},
   "outputs": [],
   "source": [
    "train_target = TimeSeries.from_series(train_df['revenue'])"
   ]
  },
  {
   "cell_type": "code",
   "execution_count": 19,
   "id": "7f58887e-a7c5-4340-9ce8-2282af6d0980",
   "metadata": {},
   "outputs": [],
   "source": [
    "train_features = TimeSeries.from_dataframe(train_df[['media1_S', 'media2_S', 'media3_S', 'competitor_sales',\n",
    "       'newsletter', 'year_sin']])"
   ]
  },
  {
   "cell_type": "code",
   "execution_count": 20,
   "id": "8bb7bfbc-49ac-4c96-a7db-774ef8c5934c",
   "metadata": {},
   "outputs": [],
   "source": [
    "val_target = TimeSeries.from_series(val_df['revenue'])"
   ]
  },
  {
   "cell_type": "code",
   "execution_count": 21,
   "id": "ef20f321-6203-4cc1-ae94-b3807d2a96e2",
   "metadata": {},
   "outputs": [],
   "source": [
    "val_features = TimeSeries.from_dataframe(val_df[['media1_S', 'media2_S', 'media3_S', 'competitor_sales',\n",
    "       'newsletter', 'year_sin']])"
   ]
  },
  {
   "cell_type": "markdown",
   "id": "1620b0b8-89d6-4d03-bd2f-1d6c74621781",
   "metadata": {},
   "source": [
    "# build the TFT model"
   ]
  },
  {
   "cell_type": "code",
   "execution_count": 22,
   "id": "17e352f9-374b-42ea-bc40-ee087654b7d1",
   "metadata": {},
   "outputs": [],
   "source": [
    "# default quantiles for QuantileRegression\n",
    "quantiles = [\n",
    "    0.01,\n",
    "    0.05,\n",
    "    0.5,\n",
    "    0.95,\n",
    "    0.99,\n",
    "]\n",
    "\n",
    "input_chunk_length = 4\n",
    "forecast_horizon = 1\n",
    "\n",
    "my_model = TFTModel(\n",
    "    input_chunk_length=input_chunk_length,\n",
    "    output_chunk_length=forecast_horizon,\n",
    "    hidden_size=64,\n",
    "    lstm_layers=1,\n",
    "    num_attention_heads=4,\n",
    "    dropout=0.1,\n",
    "    batch_size=16,\n",
    "    n_epochs=300,\n",
    "    add_relative_index=True,\n",
    "    add_encoders=None,\n",
    "    likelihood=QuantileRegression(\n",
    "        quantiles=quantiles\n",
    "    ),  # QuantileRegression is set per default\n",
    "    # loss_fn=MSELoss(),\n",
    "    random_state=42,\n",
    ")"
   ]
  },
  {
   "cell_type": "code",
   "execution_count": 23,
   "id": "da7e886a-e9eb-4284-aff7-9df1c4ba2bab",
   "metadata": {},
   "outputs": [
    {
     "data": {
      "application/vnd.jupyter.widget-view+json": {
       "model_id": "8e37e7478b744d64a8f5970bb03fdcd0",
       "version_major": 2,
       "version_minor": 0
      },
      "text/plain": [
       "Training: 0it [00:00, ?it/s]"
      ]
     },
     "metadata": {},
     "output_type": "display_data"
    },
    {
     "data": {
      "text/plain": [
       "TFTModel(hidden_size=64, lstm_layers=1, num_attention_heads=4, full_attention=False, feed_forward=GatedResidualNetwork, dropout=0.1, hidden_continuous_size=8, categorical_embedding_sizes=None, add_relative_index=True, loss_fn=None, likelihood=<darts.utils.likelihood_models.QuantileRegression object at 0x7fb63772ee80>, norm_type=LayerNorm, use_static_covariates=True, input_chunk_length=4, output_chunk_length=1, batch_size=16, n_epochs=300, add_encoders=None, random_state=42)"
      ]
     },
     "execution_count": 23,
     "metadata": {},
     "output_type": "execute_result"
    }
   ],
   "source": [
    "my_model.fit(\n",
    "    series=train_target, \n",
    "    past_covariates=train_features,\n",
    "    verbose=True)"
   ]
  },
  {
   "cell_type": "code",
   "execution_count": 24,
   "id": "9a3a3ed1-a389-4526-a570-b3f31abf2bab",
   "metadata": {},
   "outputs": [],
   "source": [
    "from darts.explainability import TFTExplainer"
   ]
  },
  {
   "cell_type": "code",
   "execution_count": 25,
   "id": "3874a849-3407-4cf7-8f03-5cc82c97c100",
   "metadata": {},
   "outputs": [],
   "source": [
    "explainer = TFTExplainer(my_model)"
   ]
  },
  {
   "cell_type": "code",
   "execution_count": 26,
   "id": "632a0422-c350-4539-8a42-22b256ec2c53",
   "metadata": {},
   "outputs": [
    {
     "data": {
      "application/vnd.jupyter.widget-view+json": {
       "model_id": "abfe90ec67b947ed9f98cbd5e7821a05",
       "version_major": 2,
       "version_minor": 0
      },
      "text/plain": [
       "Predicting: 0it [00:00, ?it/s]"
      ]
     },
     "metadata": {},
     "output_type": "display_data"
    }
   ],
   "source": [
    "explainability_result = explainer.explain()"
   ]
  },
  {
   "cell_type": "code",
   "execution_count": 30,
   "id": "b9c50d3a-856a-4235-8986-aa186f1355d7",
   "metadata": {},
   "outputs": [
    {
     "data": {
      "application/vnd.jupyter.widget-view+json": {
       "model_id": "f18aa2e5659c4c29860d93b373b20c9c",
       "version_major": 2,
       "version_minor": 0
      },
      "image/png": "[encoded data removed]",
      "text/html": [
       "\n",
       "            <div style=\"display: inline-block;\">\n",
       "                <div class=\"jupyter-widgets widget-label\" style=\"text-align: center;\">\n",
       "                    Figure\n",
       "                </div>\n",
       "                <img src='data:image/png;base64,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' width=400.0/>\n",
       "            </div>\n",
       "        "
      ],
      "text/plain": [
       "Canvas(toolbar=Toolbar(toolitems=[('Home', 'Reset original view', 'home', 'home'), ('Back', 'Back to previous …"
      ]
     },
     "metadata": {},
     "output_type": "display_data"
    }
   ],
   "source": [
    "explainer.plot_variable_selection(explainability_result)\n",
    "save2Vis('TFT_variable_importance')"
   ]
  },
  {
   "cell_type": "code",
   "execution_count": null,
   "id": "ff169b2c-d6d5-481e-a759-f34be1fa3914",
   "metadata": {},
   "outputs": [],
   "source": []
  }
 ],
 "metadata": {
  "kernelspec": {
   "display_name": "Python 3 (ipykernel)",
   "language": "python",
   "name": "python3"
  },
  "language_info": {
   "codemirror_mode": {
    "name": "ipython",
    "version": 3
   },
   "file_extension": ".py",
   "mimetype": "text/x-python",
   "name": "python",
   "nbconvert_exporter": "python",
   "pygments_lexer": "ipython3",
   "version": "3.8.13"
  }
 },
 "nbformat": 4,
 "nbformat_minor": 5
}
