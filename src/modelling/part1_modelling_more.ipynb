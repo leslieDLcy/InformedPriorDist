{
 "cells": [
  {
   "cell_type": "code",
   "execution_count": 1,
   "id": "bb6a3413-e7f9-494d-904b-d030aac62b89",
   "metadata": {},
   "outputs": [
    {
     "data": {
      "text/plain": [
       "' revenue in millions '"
      ]
     },
     "execution_count": 1,
     "metadata": {},
     "output_type": "execute_result"
    }
   ],
   "source": [
    "\"\"\" revenue in millions \"\"\""
   ]
  },
  {
   "cell_type": "code",
   "execution_count": 2,
   "id": "388222da-c05e-497f-8814-2a566dd4beef",
   "metadata": {},
   "outputs": [],
   "source": [
    "import tqdm\n",
    "import os\n",
    "import pathlib\n",
    "import matplotlib.pyplot as plt\n",
    "import numpy as np\n",
    "import pandas as pd\n",
    "import seaborn as sns\n",
    "import tensorflow as tf\n",
    "from tensorflow import keras\n",
    "from tensorflow.keras import layers\n",
    "from tensorflow.keras.layers.experimental import preprocessing"
   ]
  },
  {
   "cell_type": "code",
   "execution_count": 3,
   "id": "328c30b6-6831-4de2-8155-e945b7899120",
   "metadata": {},
   "outputs": [
    {
     "name": "stdout",
     "output_type": "stream",
     "text": [
      "2.8.0\n"
     ]
    }
   ],
   "source": [
    "print(tf.__version__)"
   ]
  },
  {
   "cell_type": "code",
   "execution_count": 4,
   "id": "36b39ba4-0722-4fff-bb07-ed6c686b2f4d",
   "metadata": {},
   "outputs": [],
   "source": [
    "import tensorflow_probability as tfp\n",
    "tfd = tfp.distributions\n",
    "tfpl = tfp.layers\n",
    "from keras.models import Sequential"
   ]
  },
  {
   "cell_type": "code",
   "execution_count": 5,
   "id": "6704350a-2d1e-4898-afa2-a6056eb60c33",
   "metadata": {},
   "outputs": [],
   "source": [
    "from utils import cd_root_dir, sin_transformer, cos_transformer, save2Vis, pl_residual, pl_residual_horizontal, pl_residual_hist\n",
    "from modules import pl_preds_uncertainty, plot_history_info, EnsemblePredict, cp_dp_PI_bound, show_dist, AleatoricPredict\n",
    "from models import build_and_compile_model, create_and_compile_aleatoric_model, build_lstm, compile_and_fit_lstm, build_BLSTM_svi\n",
    "from pipeline import import_data, base_process_data, feature_normalization, ensemble_predict, temporal_process_data\n",
    "from windowing import WindowGenerator\n",
    "from models import sg_prior, nll, BDNN_svi, BDNN_flipout, build_BLSTM_svi2, lstm_SRT, buildNcompile_linear"
   ]
  },
  {
   "cell_type": "code",
   "execution_count": 6,
   "id": "5e1320ca-86c4-447f-b1a2-4fde49bb4bf2",
   "metadata": {},
   "outputs": [
    {
     "name": "stderr",
     "output_type": "stream",
     "text": [
      "WARNING (pytensor.tensor.blas): Using NumPy C-API based implementation for BLAS functions.\n"
     ]
    },
    {
     "name": "stdout",
     "output_type": "stream",
     "text": [
      "Running on PyMC v5.6.1\n"
     ]
    }
   ],
   "source": [
    "import arviz as az\n",
    "import matplotlib.pyplot as plt\n",
    "import numpy as np\n",
    "import pandas as pd\n",
    "import pymc as pm\n",
    "import xarray as xr\n",
    "\n",
    "from pymc import HalfCauchy, Model, Normal, sample\n",
    "\n",
    "print(f\"Running on PyMC v{pm.__version__}\")"
   ]
  },
  {
   "cell_type": "code",
   "execution_count": 7,
   "id": "513de658-fdd7-485e-ad94-b5afa1986757",
   "metadata": {},
   "outputs": [],
   "source": [
    "# set up a global plt style for the script\n",
    "# plt.style.use('classic')\n",
    "plt.rcParams.update({\n",
    "        \"font.size\": 9,\n",
    "        \"text.usetex\": True,\n",
    "        \"font.family\": \"serif\",\n",
    "        \"figure.figsize\": (4, 3),\n",
    "        \"legend.fontsize\": 'medium',\n",
    "        })"
   ]
  },
  {
   "cell_type": "code",
   "execution_count": 8,
   "id": "a38a8244-97f1-4677-988c-3d4d48b0ee7d",
   "metadata": {},
   "outputs": [],
   "source": [
    "%matplotlib widget\n",
    "%load_ext rich"
   ]
  },
  {
   "cell_type": "code",
   "execution_count": 9,
   "id": "f85e5c28-1cb4-4b33-92cc-b7e7bce597fc",
   "metadata": {},
   "outputs": [],
   "source": [
    "%load_ext autoreload\n",
    "%autoreload 2"
   ]
  },
  {
   "cell_type": "code",
   "execution_count": 10,
   "id": "3c35a0d0-e925-4f69-8637-1df31bd71b71",
   "metadata": {},
   "outputs": [],
   "source": [
    "tf.random.set_seed(9527)"
   ]
  },
  {
   "cell_type": "code",
   "execution_count": 11,
   "id": "e6902634-6ab0-4cfa-a74b-fc359c6e604c",
   "metadata": {},
   "outputs": [
    {
     "name": "stdout",
     "output_type": "stream",
     "text": [
      "current directory: /home/yuchen/work_leslie/KTP_Croud\n"
     ]
    }
   ],
   "source": [
    "cd_root_dir()"
   ]
  },
  {
   "cell_type": "code",
   "execution_count": 12,
   "id": "144abedd-8edd-4ebc-a4ab-7c8a5d28db1e",
   "metadata": {},
   "outputs": [],
   "source": [
    "# dummy xaxis \n",
    "val_x_axis = np.arange(200, 208)"
   ]
  },
  {
   "cell_type": "markdown",
   "id": "50073f0d-36d0-4eb9-9d41-1bea9f0afc41",
   "metadata": {
    "tags": []
   },
   "source": [
    "# import the data"
   ]
  },
  {
   "cell_type": "code",
   "execution_count": 13,
   "id": "ab638360-fad1-4a33-ac4b-0814d3817a7f",
   "metadata": {},
   "outputs": [],
   "source": [
    "# import the data and get the time axis !\n",
    "dataset, time_axis = import_data(path='data/raw/weekly_media_sample.csv')"
   ]
  },
  {
   "cell_type": "code",
   "execution_count": 14,
   "id": "2a1ee0c8-9bbf-4b26-a2d0-30f3baa4ae04",
   "metadata": {},
   "outputs": [],
   "source": [
    "time_axis = pd.to_datetime(time_axis, format='%d/%m/%Y')"
   ]
  },
  {
   "cell_type": "code",
   "execution_count": 15,
   "id": "f7e759cc-8e53-417e-ac9a-701f5daad36c",
   "metadata": {},
   "outputs": [],
   "source": [
    "# plot the val results\n",
    "val_x_axis = np.arange(200, 208)"
   ]
  },
  {
   "cell_type": "code",
   "execution_count": 16,
   "id": "1c903070-4437-4c59-8a16-a3edf520329d",
   "metadata": {},
   "outputs": [
    {
     "data": {
      "text/html": [
       "<div>\n",
       "<style scoped>\n",
       "    .dataframe tbody tr th:only-of-type {\n",
       "        vertical-align: middle;\n",
       "    }\n",
       "\n",
       "    .dataframe tbody tr th {\n",
       "        vertical-align: top;\n",
       "    }\n",
       "\n",
       "    .dataframe thead th {\n",
       "        text-align: right;\n",
       "    }\n",
       "</style>\n",
       "<table border=\"1\" class=\"dataframe\">\n",
       "  <thead>\n",
       "    <tr style=\"text-align: right;\">\n",
       "      <th></th>\n",
       "      <th>revenue</th>\n",
       "      <th>media1_S</th>\n",
       "      <th>media2_S</th>\n",
       "      <th>media3_S</th>\n",
       "      <th>competitor_sales</th>\n",
       "      <th>newsletter</th>\n",
       "    </tr>\n",
       "  </thead>\n",
       "  <tbody>\n",
       "    <tr>\n",
       "      <th>203</th>\n",
       "      <td>2456240.000</td>\n",
       "      <td>0.0</td>\n",
       "      <td>153723.66670</td>\n",
       "      <td>0.0000</td>\n",
       "      <td>7612762</td>\n",
       "      <td>28157.00</td>\n",
       "    </tr>\n",
       "    <tr>\n",
       "      <th>204</th>\n",
       "      <td>2182825.000</td>\n",
       "      <td>154917.6</td>\n",
       "      <td>0.00000</td>\n",
       "      <td>133624.5755</td>\n",
       "      <td>6701667</td>\n",
       "      <td>10644.00</td>\n",
       "    </tr>\n",
       "    <tr>\n",
       "      <th>205</th>\n",
       "      <td>2377706.667</td>\n",
       "      <td>21982.5</td>\n",
       "      <td>17476.00000</td>\n",
       "      <td>0.0000</td>\n",
       "      <td>7688920</td>\n",
       "      <td>9597.00</td>\n",
       "    </tr>\n",
       "    <tr>\n",
       "      <th>206</th>\n",
       "      <td>2732825.000</td>\n",
       "      <td>22453.0</td>\n",
       "      <td>24051.33333</td>\n",
       "      <td>0.0000</td>\n",
       "      <td>8815710</td>\n",
       "      <td>90189.00</td>\n",
       "    </tr>\n",
       "    <tr>\n",
       "      <th>207</th>\n",
       "      <td>2767788.333</td>\n",
       "      <td>0.0</td>\n",
       "      <td>0.00000</td>\n",
       "      <td>366190.7594</td>\n",
       "      <td>9067759</td>\n",
       "      <td>19401.65</td>\n",
       "    </tr>\n",
       "  </tbody>\n",
       "</table>\n",
       "</div>"
      ]
     },
     "execution_count": 16,
     "metadata": {},
     "output_type": "execute_result"
    }
   ],
   "source": [
    "dataset.tail()"
   ]
  },
  {
   "cell_type": "markdown",
   "id": "b2360dad-ab93-489e-873b-73138fe0fb49",
   "metadata": {
    "jp-MarkdownHeadingCollapsed": true,
    "tags": []
   },
   "source": [
    "# Explanatory of dataset"
   ]
  },
  {
   "cell_type": "code",
   "execution_count": null,
   "id": "52f6b118-5982-4bf7-bb32-e6031e6fe178",
   "metadata": {},
   "outputs": [],
   "source": [
    "dataset.describe().transpose()"
   ]
  },
  {
   "cell_type": "code",
   "execution_count": null,
   "id": "00bf5bc0-a22b-4a2b-b730-90b7fedab3c4",
   "metadata": {},
   "outputs": [],
   "source": [
    "# correlation\n",
    "\n",
    "sns.set_theme(style=\"white\")\n",
    "corr = dataset.corr()\n",
    "mask = np.triu(corr)\n",
    "f, ax = plt.subplots(figsize=(10, 10))\n",
    "cmap = sns.color_palette(\"coolwarm\")\n",
    "\n",
    "sns.heatmap(corr, \n",
    "            mask=mask, \n",
    "            cmap=cmap, \n",
    "            vmax=.3, \n",
    "            center=0,\n",
    "            square=True, \n",
    "            linewidths=3, \n",
    "            cbar_kws={\"shrink\": .5}\n",
    "           )\n"
   ]
  },
  {
   "cell_type": "code",
   "execution_count": null,
   "id": "df68c12b-637d-4eaf-87d6-4edc9fdbd436",
   "metadata": {},
   "outputs": [],
   "source": [
    "plot_features = dataset.copy()\n",
    "plot_features.index = time_axis\n",
    "_ = plot_features.plot(subplots=True)"
   ]
  },
  {
   "cell_type": "code",
   "execution_count": null,
   "id": "6f13ad40-3ac7-431e-8c4f-7997b42941e0",
   "metadata": {},
   "outputs": [],
   "source": [
    "# # plot\n",
    "# sns.pairplot(dataset[['revenue', 'media1_S', 'media2_S', 'media3_S']], diag_kind='kde')"
   ]
  },
  {
   "cell_type": "code",
   "execution_count": null,
   "id": "abcd2779-d6b6-4272-83f0-23b3cd452d5b",
   "metadata": {},
   "outputs": [],
   "source": [
    "# sns.pairplot(dataset[['newsletter', 'media1_S', 'media2_S', 'media3_S']], diag_kind='kde')"
   ]
  },
  {
   "cell_type": "markdown",
   "id": "9ced43bc-1e4b-40b5-864e-ef49e517e7cf",
   "metadata": {
    "tags": []
   },
   "source": [
    "# `base/static` processing the dataset into *train, val*\n",
    "\n",
    "meaning static models"
   ]
  },
  {
   "cell_type": "code",
   "execution_count": 17,
   "id": "ac239fa7-fd38-4fa5-a18b-d812f4ad537a",
   "metadata": {},
   "outputs": [],
   "source": [
    "# a given split\n",
    "train_features, test_features, train_labels, test_labels = base_process_data(dataset=dataset, split_index=200)"
   ]
  },
  {
   "cell_type": "code",
   "execution_count": 18,
   "id": "5b4e782a-f327-4318-98de-7a0f95aa086b",
   "metadata": {},
   "outputs": [
    {
     "data": {
      "text/html": [
       "<pre style=\"white-space:pre;overflow-x:auto;line-height:normal;font-family:Menlo,'DejaVu Sans Mono',consolas,'Courier New',monospace\"><span style=\"font-weight: bold\">&lt;</span><span style=\"color: #ff00ff; text-decoration-color: #ff00ff; font-weight: bold\">class</span><span style=\"color: #000000; text-decoration-color: #000000\"> </span><span style=\"color: #008000; text-decoration-color: #008000\">'numpy.ndarray'</span><span style=\"font-weight: bold\">&gt;</span>\n",
       "</pre>\n"
      ],
      "text/plain": [
       "\u001b[1m<\u001b[0m\u001b[1;95mclass\u001b[0m\u001b[39m \u001b[0m\u001b[32m'numpy.ndarray'\u001b[0m\u001b[1m>\u001b[0m\n"
      ]
     },
     "metadata": {},
     "output_type": "display_data"
    }
   ],
   "source": [
    "type(train_features)"
   ]
  },
  {
   "cell_type": "code",
   "execution_count": 19,
   "id": "da91f794-9c44-42c4-a7c2-87059079ba3e",
   "metadata": {},
   "outputs": [
    {
     "name": "stdout",
     "output_type": "stream",
     "text": [
      "revenue             2.575148e+00\n",
      "media1_S            0.000000e+00\n",
      "media2_S            1.095323e+05\n",
      "media3_S            3.992652e+04\n",
      "competitor_sales    8.116568e+06\n",
      "newsletter          7.041700e+04\n",
      "Name: 199, dtype: float64\n",
      "2016-05-30 00:00:00\n"
     ]
    }
   ],
   "source": [
    "# double check tbe given split\n",
    "\n",
    "print(dataset.iloc[200-1])\n",
    "print(time_axis[200-1])"
   ]
  },
  {
   "cell_type": "code",
   "execution_count": 20,
   "id": "9ea627fb-14ba-4d9b-bfbd-01a84d86dd5e",
   "metadata": {},
   "outputs": [
    {
     "data": {
      "text/html": [
       "<pre style=\"white-space:pre;overflow-x:auto;line-height:normal;font-family:Menlo,'DejaVu Sans Mono',consolas,'Courier New',monospace\"><span style=\"font-weight: bold\">(</span><span style=\"color: #008080; text-decoration-color: #008080; font-weight: bold\">8</span>,<span style=\"font-weight: bold\">)</span>\n",
       "</pre>\n"
      ],
      "text/plain": [
       "\u001b[1m(\u001b[0m\u001b[1;36m8\u001b[0m,\u001b[1m)\u001b[0m\n"
      ]
     },
     "metadata": {},
     "output_type": "display_data"
    }
   ],
   "source": [
    "train_features.shape\n",
    "train_labels.shape\n",
    "test_features.shape\n",
    "test_labels.shape"
   ]
  },
  {
   "cell_type": "code",
   "execution_count": 21,
   "id": "1197dd1f-6625-4ab5-9a79-bf924ba63d28",
   "metadata": {},
   "outputs": [
    {
     "name": "stdout",
     "output_type": "stream",
     "text": [
      "The mean of feature vector: [[ 113018.484   27371.74    62366.473 5448277.5     21548.955]]\n",
      "Check the normalized first example:\n",
      "First example: [[ 167687.6    95463.67  228213.99 8125009.     19401.65]]\n",
      "\n",
      "Normalized: [[ 0.25  1.43  1.84  1.3  -0.12]]\n"
     ]
    }
   ],
   "source": [
    "# feature normalization\n",
    "normalizer = feature_normalization(train_features)"
   ]
  },
  {
   "cell_type": "markdown",
   "id": "b4799146-9105-4b0e-9c46-08886f1ae738",
   "metadata": {
    "tags": []
   },
   "source": [
    "# Modelling\n"
   ]
  },
  {
   "cell_type": "code",
   "execution_count": 22,
   "id": "908141fe-474a-45b1-b139-e42ff85996cd",
   "metadata": {},
   "outputs": [],
   "source": [
    "val_performance = {}"
   ]
  },
  {
   "cell_type": "markdown",
   "id": "2dfaf96a-01ec-4062-96f2-dd5874fe37cf",
   "metadata": {
    "tags": []
   },
   "source": [
    "\n",
    "## base/static models\n",
    "\n",
    "- `non-temporal` models"
   ]
  },
  {
   "cell_type": "markdown",
   "id": "bb284ee4-5021-4b34-ae0d-f466dde3958f",
   "metadata": {
    "jp-MarkdownHeadingCollapsed": true,
    "tags": []
   },
   "source": [
    "### a linear regression model as `reference`\n",
    "\n",
    "- multilinearity check"
   ]
  },
  {
   "cell_type": "code",
   "execution_count": null,
   "id": "7d34535a-1299-4753-a0b9-1372b0bf8f09",
   "metadata": {},
   "outputs": [],
   "source": [
    "deter_linear_model = buildNcompile_linear(normalizer)"
   ]
  },
  {
   "cell_type": "code",
   "execution_count": null,
   "id": "62a4d4a7-ca22-4ce9-92af-fb8b2d760474",
   "metadata": {},
   "outputs": [],
   "source": [
    "deter_linear_model.summary()"
   ]
  },
  {
   "cell_type": "code",
   "execution_count": null,
   "id": "87dc8794-4caf-4fda-8694-6b9a4edce3ba",
   "metadata": {},
   "outputs": [],
   "source": [
    "%%time\n",
    "history_linear = deter_linear_model.fit(\n",
    "    train_features,\n",
    "    train_labels,\n",
    "    # validation_split=0.2,\n",
    "    validation_data=(test_features, test_labels),\n",
    "    verbose=0,\n",
    "    epochs=400)"
   ]
  },
  {
   "cell_type": "code",
   "execution_count": null,
   "id": "fabfb9c5-79d9-433a-8b00-179358fbfad8",
   "metadata": {},
   "outputs": [],
   "source": [
    "plot_history_info(history_linear)"
   ]
  },
  {
   "cell_type": "code",
   "execution_count": null,
   "id": "412ee260-64f2-4eee-87f4-15ee2652bfd7",
   "metadata": {},
   "outputs": [],
   "source": [
    "deter_linear_model.evaluate(test_features, test_labels)"
   ]
  },
  {
   "cell_type": "code",
   "execution_count": null,
   "id": "a6c7b5db-f8c5-4c5e-8d37-1301d50b54ef",
   "metadata": {},
   "outputs": [],
   "source": [
    "y_preds = deter_linear_model(test_features)"
   ]
  },
  {
   "cell_type": "code",
   "execution_count": null,
   "id": "c921cf9a-9f80-4b00-9d34-391109de7ac8",
   "metadata": {},
   "outputs": [],
   "source": [
    "test_labels.shape"
   ]
  },
  {
   "cell_type": "code",
   "execution_count": null,
   "id": "31ae8a6f-f364-4192-8247-bad4877be687",
   "metadata": {},
   "outputs": [],
   "source": [
    "# in test data\n",
    "pl_residual(preds=y_preds, gt=test_labels, low=2, limit=3)"
   ]
  },
  {
   "cell_type": "code",
   "execution_count": null,
   "id": "b375845a-ccbe-4e70-8e07-5dad232462a0",
   "metadata": {},
   "outputs": [],
   "source": [
    "## for training data\n",
    "train_preds = deter_linear_model(train_features)"
   ]
  },
  {
   "cell_type": "code",
   "execution_count": null,
   "id": "2c82dc96-1306-4286-ba61-e592e8daa90e",
   "metadata": {},
   "outputs": [],
   "source": [
    "pl_residual(preds=train_preds, gt=train_labels, low=1, limit=4)"
   ]
  },
  {
   "cell_type": "code",
   "execution_count": null,
   "id": "efb5801c-31ef-4be3-a796-d433d87512dd",
   "metadata": {},
   "outputs": [],
   "source": [
    "pl_residual_horizontal(preds=train_preds, gt=train_labels, low=1, limit=4)\n",
    "plt.ylim([-1, 1.5])"
   ]
  },
  {
   "cell_type": "code",
   "execution_count": null,
   "id": "3eb3f487-9010-474d-a3be-527ff251ef40",
   "metadata": {},
   "outputs": [],
   "source": [
    "# the histogram of training residuals\n",
    "\n",
    "pl_residual_hist(preds=train_preds, gt=train_labels,)"
   ]
  },
  {
   "cell_type": "code",
   "execution_count": null,
   "id": "dcca6a4e-6e10-4cf0-b342-e09584ef2c5c",
   "metadata": {},
   "outputs": [],
   "source": [
    "# we will move to Bayesian linear model later on "
   ]
  },
  {
   "cell_type": "code",
   "execution_count": null,
   "id": "97fc87f7-7df9-434b-9a58-d81c7c68dfa5",
   "metadata": {},
   "outputs": [],
   "source": []
  },
  {
   "cell_type": "markdown",
   "id": "89a5d63d-92b6-45ca-8f3a-3f2e51315e0a",
   "metadata": {
    "tags": []
   },
   "source": [
    "### a deterministic DNN model"
   ]
  },
  {
   "cell_type": "code",
   "execution_count": 23,
   "id": "67b88c8d-df5b-4324-8e2b-bd9d8822d6d4",
   "metadata": {},
   "outputs": [
    {
     "name": "stdout",
     "output_type": "stream",
     "text": [
      "Model: \"sequential\"\n",
      "_________________________________________________________________\n",
      " Layer (type)                Output Shape              Param #   \n",
      "=================================================================\n",
      " normalization (Normalizatio  (None, 5)                11        \n",
      " n)                                                              \n",
      "                                                                 \n",
      " dense (Dense)               (None, 16)                96        \n",
      "                                                                 \n",
      " dense_1 (Dense)             (None, 1)                 17        \n",
      "                                                                 \n",
      "=================================================================\n",
      "Total params: 124\n",
      "Trainable params: 113\n",
      "Non-trainable params: 11\n",
      "_________________________________________________________________\n"
     ]
    }
   ],
   "source": [
    "dnn_model = build_and_compile_model(normalizer)\n",
    "dnn_model.summary()"
   ]
  },
  {
   "cell_type": "code",
   "execution_count": 24,
   "id": "75b4fb85-037b-47a9-b750-b42a49f4d305",
   "metadata": {},
   "outputs": [
    {
     "name": "stdout",
     "output_type": "stream",
     "text": [
      "CPU times: user 23.6 s, sys: 5.05 s, total: 28.6 s\n",
      "Wall time: 18.2 s\n"
     ]
    }
   ],
   "source": [
    "%%time\n",
    "history = dnn_model.fit(\n",
    "    train_features,\n",
    "    train_labels,\n",
    "    # validation_split=0.2,\n",
    "    validation_data=(test_features, test_labels),\n",
    "    verbose=0,\n",
    "    epochs=300)"
   ]
  },
  {
   "cell_type": "code",
   "execution_count": 25,
   "id": "92871d79-07c1-40d2-9fa2-2cd31db959f4",
   "metadata": {},
   "outputs": [
    {
     "data": {
      "application/vnd.jupyter.widget-view+json": {
       "model_id": "7183c8aa484247abb7e708f7c62f6c14",
       "version_major": 2,
       "version_minor": 0
      },
      "image/png": "[encoded data removed]",
      "text/html": [
       "\n",
       "            <div style=\"display: inline-block;\">\n",
       "                <div class=\"jupyter-widgets widget-label\" style=\"text-align: center;\">\n",
       "                    Figure\n",
       "                </div>\n",
       "                <img src='data:image/png;base64,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' width=1000.0/>\n",
       "            </div>\n",
       "        "
      ],
      "text/plain": [
       "Canvas(toolbar=Toolbar(toolitems=[('Home', 'Reset original view', 'home', 'home'), ('Back', 'Back to previous …"
      ]
     },
     "metadata": {},
     "output_type": "display_data"
    }
   ],
   "source": [
    "plot_history_info(history)"
   ]
  },
  {
   "cell_type": "code",
   "execution_count": 26,
   "id": "1f490df9-4bfc-486e-8e98-3616bb694fa7",
   "metadata": {},
   "outputs": [
    {
     "name": "stdout",
     "output_type": "stream",
     "text": [
      "1/1 [==============================] - 0s 27ms/step - loss: 0.0283 - mae: 0.1364 - mape: 5.4972\n"
     ]
    },
    {
     "data": {
      "text/html": [
       "<pre style=\"white-space:pre;overflow-x:auto;line-height:normal;font-family:Menlo,'DejaVu Sans Mono',consolas,'Courier New',monospace\"><span style=\"font-weight: bold\">[</span><span style=\"color: #008080; text-decoration-color: #008080; font-weight: bold\">0.028315020725131035</span>, <span style=\"color: #008080; text-decoration-color: #008080; font-weight: bold\">0.13641509413719177</span>, <span style=\"color: #008080; text-decoration-color: #008080; font-weight: bold\">5.497154235839844</span><span style=\"font-weight: bold\">]</span>\n",
       "</pre>\n"
      ],
      "text/plain": [
       "\u001b[1m[\u001b[0m\u001b[1;36m0.028315020725131035\u001b[0m, \u001b[1;36m0.13641509413719177\u001b[0m, \u001b[1;36m5.497154235839844\u001b[0m\u001b[1m]\u001b[0m\n"
      ]
     },
     "metadata": {},
     "output_type": "display_data"
    }
   ],
   "source": [
    "dnn_model.evaluate(test_features, test_labels)"
   ]
  },
  {
   "cell_type": "code",
   "execution_count": 27,
   "id": "010ba378-b067-404d-94cd-28689e2bc28a",
   "metadata": {},
   "outputs": [
    {
     "name": "stdout",
     "output_type": "stream",
     "text": [
      "Model: \"sequential\"\n",
      "_________________________________________________________________\n",
      " Layer (type)                Output Shape              Param #   \n",
      "=================================================================\n",
      " normalization (Normalizatio  (None, 5)                11        \n",
      " n)                                                              \n",
      "                                                                 \n",
      " dense (Dense)               (None, 16)                96        \n",
      "                                                                 \n",
      " dense_1 (Dense)             (None, 1)                 17        \n",
      "                                                                 \n",
      "=================================================================\n",
      "Total params: 124\n",
      "Trainable params: 113\n",
      "Non-trainable params: 11\n",
      "_________________________________________________________________\n"
     ]
    }
   ],
   "source": [
    "dnn_model.summary()"
   ]
  },
  {
   "cell_type": "code",
   "execution_count": 28,
   "id": "cd90458f-db1c-461c-b948-c076cc2ca26e",
   "metadata": {},
   "outputs": [
    {
     "data": {
      "text/html": [
       "<pre style=\"white-space:pre;overflow-x:auto;line-height:normal;font-family:Menlo,'DejaVu Sans Mono',consolas,'Courier New',monospace\">\n",
       "<span style=\"color: #800080; text-decoration-color: #800080; font-weight: bold\">Index</span><span style=\"font-weight: bold\">([</span><span style=\"color: #008000; text-decoration-color: #008000\">'revenue'</span>, <span style=\"color: #008000; text-decoration-color: #008000\">'media1_S'</span>, <span style=\"color: #008000; text-decoration-color: #008000\">'media2_S'</span>, <span style=\"color: #008000; text-decoration-color: #008000\">'media3_S'</span>, <span style=\"color: #008000; text-decoration-color: #008000\">'competitor_sales'</span>,\n",
       "       <span style=\"color: #008000; text-decoration-color: #008000\">'newsletter'</span><span style=\"font-weight: bold\">]</span>,\n",
       "      <span style=\"color: #808000; text-decoration-color: #808000\">dtype</span>=<span style=\"color: #008000; text-decoration-color: #008000\">'object'</span><span style=\"font-weight: bold\">)</span>\n",
       "</pre>\n"
      ],
      "text/plain": [
       "\n",
       "\u001b[1;35mIndex\u001b[0m\u001b[1m(\u001b[0m\u001b[1m[\u001b[0m\u001b[32m'revenue'\u001b[0m, \u001b[32m'media1_S'\u001b[0m, \u001b[32m'media2_S'\u001b[0m, \u001b[32m'media3_S'\u001b[0m, \u001b[32m'competitor_sales'\u001b[0m,\n",
       "       \u001b[32m'newsletter'\u001b[0m\u001b[1m]\u001b[0m,\n",
       "      \u001b[33mdtype\u001b[0m=\u001b[32m'object'\u001b[0m\u001b[1m)\u001b[0m\n"
      ]
     },
     "metadata": {},
     "output_type": "display_data"
    }
   ],
   "source": [
    "dataset.columns"
   ]
  },
  {
   "cell_type": "code",
   "execution_count": 29,
   "id": "aae1416b-7274-4c67-84c5-40e92d25309d",
   "metadata": {},
   "outputs": [],
   "source": [
    "test_fea_pd = pd.DataFrame(data = test_features, \n",
    "                  columns = ['media1_S', 'media2_S', 'media3_S', 'competitor_sales',\n",
    "       'newsletter'])"
   ]
  },
  {
   "cell_type": "code",
   "execution_count": 30,
   "id": "ff6ed775-193b-4fd6-9ab3-c99b27abe4ae",
   "metadata": {},
   "outputs": [
    {
     "data": {
      "text/html": [
       "<pre style=\"white-space:pre;overflow-x:auto;line-height:normal;font-family:Menlo,'DejaVu Sans Mono',consolas,'Courier New',monospace\"><span style=\"color: #800080; text-decoration-color: #800080; font-weight: bold\">Index</span><span style=\"font-weight: bold\">([</span><span style=\"color: #008000; text-decoration-color: #008000\">'media1_S'</span>, <span style=\"color: #008000; text-decoration-color: #008000\">'media2_S'</span>, <span style=\"color: #008000; text-decoration-color: #008000\">'media3_S'</span>, <span style=\"color: #008000; text-decoration-color: #008000\">'competitor_sales'</span>, <span style=\"color: #008000; text-decoration-color: #008000\">'newsletter'</span><span style=\"font-weight: bold\">]</span>, <span style=\"color: #808000; text-decoration-color: #808000\">dtype</span>=<span style=\"color: #008000; text-decoration-color: #008000\">'object'</span><span style=\"font-weight: bold\">)</span>\n",
       "</pre>\n"
      ],
      "text/plain": [
       "\u001b[1;35mIndex\u001b[0m\u001b[1m(\u001b[0m\u001b[1m[\u001b[0m\u001b[32m'media1_S'\u001b[0m, \u001b[32m'media2_S'\u001b[0m, \u001b[32m'media3_S'\u001b[0m, \u001b[32m'competitor_sales'\u001b[0m, \u001b[32m'newsletter'\u001b[0m\u001b[1m]\u001b[0m, \u001b[33mdtype\u001b[0m=\u001b[32m'object'\u001b[0m\u001b[1m)\u001b[0m\n"
      ]
     },
     "metadata": {},
     "output_type": "display_data"
    }
   ],
   "source": [
    "test_fea_pd.columns"
   ]
  },
  {
   "cell_type": "code",
   "execution_count": 31,
   "id": "aa072cca-f26a-4194-8165-dbc418e3c1b9",
   "metadata": {},
   "outputs": [],
   "source": [
    "def feature_permutation(feature, X_test, y_test, model):\n",
    "    \"\"\" compute a list of permutation related to one feature\n",
    "    with multiple random permutations\n",
    "    \"\"\"\n",
    "    permutations = []\n",
    "    base_error = model.evaluate(X_test, y_test)[0]\n",
    "    \n",
    "    # loss be the first item ...\n",
    "    def loss_change(X, y, base):\n",
    "        return np.abs(model.evaluate(X, y, verbose=0)[0] - base)\n",
    "\n",
    "    # compute for 50 times ...\n",
    "    for i in tqdm.tqdm(np.arange(1000)):\n",
    "        X_test[feature] = np.random.permutation(X_test[feature].values)\n",
    "        permutations.append(loss_change(X_test, y_test, base_error))\n",
    "    \n",
    "    return permutations"
   ]
  },
  {
   "cell_type": "code",
   "execution_count": 32,
   "id": "cd54e115-4c61-46af-be90-e56daaab168f",
   "metadata": {},
   "outputs": [],
   "source": [
    "def feature_importance(X_test, y_test, model):\n",
    "    \"\"\" loop over all the features \"\"\"\n",
    "    \n",
    "    perms = [feature_permutation(col, X_test, y_test, model) for col in X_test.columns]\n",
    "    \n",
    "    means = [np.mean(perm) for perm in perms]\n",
    "    \n",
    "    fig, ax = plt.subplots()\n",
    "    ax.barh(X_test.columns, means)\n",
    "\n",
    "    ax.set_xlabel('feature importance (loss:mse)')"
   ]
  },
  {
   "cell_type": "code",
   "execution_count": 33,
   "id": "8e2819a3-90b0-41a4-959d-d4cc16a261c4",
   "metadata": {},
   "outputs": [],
   "source": [
    "# # example of computing the permutation of only one feature\n",
    "\n",
    "# aggrement_pers = feature_permutation(\n",
    "#     feature='media1_S', \n",
    "#     X_test=test_fea_pd, \n",
    "#     y_test=test_labels, \n",
    "#     model=dnn_model)"
   ]
  },
  {
   "cell_type": "code",
   "execution_count": 34,
   "id": "b371fd76-e264-48a3-832e-17d56de4c322",
   "metadata": {},
   "outputs": [
    {
     "name": "stdout",
     "output_type": "stream",
     "text": [
      "1/1 [==============================] - 0s 125ms/step - loss: 0.0283 - mae: 0.1364 - mape: 5.4972\n"
     ]
    },
    {
     "name": "stderr",
     "output_type": "stream",
     "text": [
      "100%|███████████████████████████████████████████████████████████████████████████████████████████████████████████████████████████████████████████████████████████████████████████| 1000/1000 [01:04<00:00, 15.41it/s]\n"
     ]
    },
    {
     "name": "stdout",
     "output_type": "stream",
     "text": [
      "1/1 [==============================] - 0s 34ms/step - loss: 0.0358 - mae: 0.1623 - mape: 6.6398\n"
     ]
    },
    {
     "name": "stderr",
     "output_type": "stream",
     "text": [
      "100%|███████████████████████████████████████████████████████████████████████████████████████████████████████████████████████████████████████████████████████████████████████████| 1000/1000 [01:04<00:00, 15.44it/s]\n"
     ]
    },
    {
     "name": "stdout",
     "output_type": "stream",
     "text": [
      "1/1 [==============================] - 0s 33ms/step - loss: 0.0745 - mae: 0.2148 - mape: 8.6276\n"
     ]
    },
    {
     "name": "stderr",
     "output_type": "stream",
     "text": [
      "100%|███████████████████████████████████████████████████████████████████████████████████████████████████████████████████████████████████████████████████████████████████████████| 1000/1000 [01:05<00:00, 15.34it/s]"
     ]
    },
    {
     "name": "stdout",
     "output_type": "stream",
     "text": [
      "1/1 [==============================] - 0s 32ms/step - loss: 0.0193 - mae: 0.1276 - mape: 5.0693\n"
     ]
    },
    {
     "name": "stderr",
     "output_type": "stream",
     "text": [
      "\n",
      "100%|███████████████████████████████████████████████████████████████████████████████████████████████████████████████████████████████████████████████████████████████████████████| 1000/1000 [01:05<00:00, 15.19it/s]"
     ]
    },
    {
     "name": "stdout",
     "output_type": "stream",
     "text": [
      "1/1 [==============================] - ETA: 0s - loss: 0.0817 - mae: 0.2239 - mape: 9.1890"
     ]
    },
    {
     "name": "stderr",
     "output_type": "stream",
     "text": [
      "\n"
     ]
    },
    {
     "name": "stdout",
     "output_type": "stream",
     "text": [
      "1/1 [==============================] - 0s 33ms/step - loss: 0.0817 - mae: 0.2239 - mape: 9.1890\n"
     ]
    },
    {
     "name": "stderr",
     "output_type": "stream",
     "text": [
      "100%|███████████████████████████████████████████████████████████████████████████████████████████████████████████████████████████████████████████████████████████████████████████| 1000/1000 [01:05<00:00, 15.26it/s]\n"
     ]
    },
    {
     "data": {
      "application/vnd.jupyter.widget-view+json": {
       "model_id": "5ca98c8e61e94c7e98bbe3feefc8f8f1",
       "version_major": 2,
       "version_minor": 0
      },
      "image/png": "[encoded data removed]",
      "text/html": [
       "\n",
       "            <div style=\"display: inline-block;\">\n",
       "                <div class=\"jupyter-widgets widget-label\" style=\"text-align: center;\">\n",
       "                    Figure\n",
       "                </div>\n",
       "                <img src='data:image/png;base64,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' width=400.0/>\n",
       "            </div>\n",
       "        "
      ],
      "text/plain": [
       "Canvas(toolbar=Toolbar(toolitems=[('Home', 'Reset original view', 'home', 'home'), ('Back', 'Back to previous …"
      ]
     },
     "metadata": {},
     "output_type": "display_data"
    }
   ],
   "source": [
    "\n",
    "with plt.style.context('fivethirtyeight'):\n",
    "    feature_importance( \n",
    "    X_test=test_fea_pd, \n",
    "    y_test=test_labels, \n",
    "    model=dnn_model)\n",
    "save2Vis('DNN_feature_importance')"
   ]
  },
  {
   "cell_type": "markdown",
   "id": "a66950f9-7832-422e-a714-f72cad0815d4",
   "metadata": {
    "jp-MarkdownHeadingCollapsed": true,
    "tags": []
   },
   "source": [
    "### an aleatoric DNN model that computes `data noise`"
   ]
  },
  {
   "cell_type": "code",
   "execution_count": null,
   "id": "33c18004-7f3c-4e4d-9fa0-a3cdbad7bb2d",
   "metadata": {},
   "outputs": [],
   "source": [
    "aleatoric_model = create_and_compile_aleatoric_model(\n",
    "                        input_shape = 5, \n",
    "                        norm = normalizer)"
   ]
  },
  {
   "cell_type": "code",
   "execution_count": null,
   "id": "e2caf409-0666-42ee-a9c6-1877b7bbec85",
   "metadata": {},
   "outputs": [],
   "source": [
    "history_aleatoric = aleatoric_model.fit(\n",
    "    train_features,\n",
    "    train_labels,\n",
    "    # validation_split=0.2,\n",
    "    validation_data=(test_features, test_labels),\n",
    "    verbose=0,\n",
    "    epochs=300)"
   ]
  },
  {
   "cell_type": "code",
   "execution_count": null,
   "id": "4e71fb07-b520-48b8-9a78-70bd802010eb",
   "metadata": {},
   "outputs": [],
   "source": [
    "plot_history_info(history_aleatoric)"
   ]
  },
  {
   "cell_type": "code",
   "execution_count": null,
   "id": "52d59e8f-277d-442a-b914-8fb6a5f77b06",
   "metadata": {},
   "outputs": [],
   "source": [
    "# # changing between calls\n",
    "# aleatoric_model.evaluate(test_features, test_labels)"
   ]
  },
  {
   "cell_type": "code",
   "execution_count": null,
   "id": "3cf39e29-3d6b-40ef-afeb-78710a3aadea",
   "metadata": {},
   "outputs": [],
   "source": [
    "aleatoric = AleatoricPredict(test_features, test_labels)"
   ]
  },
  {
   "cell_type": "code",
   "execution_count": null,
   "id": "3a2d3b42-4a1e-4351-be2e-e3a96aaafc34",
   "metadata": {},
   "outputs": [],
   "source": [
    "aleatoric.predict_dist(model=aleatoric_model)"
   ]
  },
  {
   "cell_type": "code",
   "execution_count": null,
   "id": "226b8fb7-0aa7-40a3-aa8b-092edb3f8a57",
   "metadata": {},
   "outputs": [],
   "source": [
    "val_performance['aleatoric_model'] = aleatoric.cp_metrics()"
   ]
  },
  {
   "cell_type": "code",
   "execution_count": null,
   "id": "5c828fc7-3268-4da9-8f4c-6b6adf579080",
   "metadata": {},
   "outputs": [],
   "source": [
    "aleatoric.pl_aleatoric_uncertainty(val_x_axis)\n",
    "# save2Vis('DNN_aleatoric')"
   ]
  },
  {
   "cell_type": "markdown",
   "id": "b316c205-5b4c-460e-9ba8-8139210493a0",
   "metadata": {
    "jp-MarkdownHeadingCollapsed": true,
    "tags": []
   },
   "source": [
    "### Flipout model"
   ]
  },
  {
   "cell_type": "code",
   "execution_count": null,
   "id": "ea8b6861-ec3d-4f4f-ad1e-4e76ab9efbb3",
   "metadata": {},
   "outputs": [],
   "source": [
    "flipout_model = BDNN_flipout(N=200, norm=normalizer)"
   ]
  },
  {
   "cell_type": "code",
   "execution_count": null,
   "id": "3faeb2ed-96b5-4df7-a0e4-18ee2d707ca4",
   "metadata": {},
   "outputs": [],
   "source": [
    "flipout_model.compile(\n",
    "    loss=nll, \n",
    "    optimizer='RMSprop',\n",
    "    metrics=[tf.keras.metrics.MeanAbsoluteError(name='mae'),\n",
    "            tf.keras.metrics.MeanAbsolutePercentageError(name='mape')])\n",
    "\n",
    "history_flipout = flipout_model.fit(\n",
    "                    train_features,\n",
    "                    train_labels,\n",
    "                    epochs=300,\n",
    "                    # validation_split=0.2,\n",
    "                    validation_data=(train_features, train_labels),\n",
    "                    verbose=0)"
   ]
  },
  {
   "cell_type": "code",
   "execution_count": null,
   "id": "11d07ade-e92c-4596-8d30-a8801d582081",
   "metadata": {},
   "outputs": [],
   "source": [
    "plot_history_info(history_flipout)\n",
    "# save2Vis('learning_curveBDNN')"
   ]
  },
  {
   "cell_type": "code",
   "execution_count": null,
   "id": "4b188988-0447-40e1-963a-9f59fcb36043",
   "metadata": {},
   "outputs": [],
   "source": [
    "# # Bayesian changing each time\n",
    "# flipout_model.evaluate(train_features, train_labels)"
   ]
  },
  {
   "cell_type": "code",
   "execution_count": null,
   "id": "8963ac0c-af9a-4974-9839-095ecf311f33",
   "metadata": {},
   "outputs": [],
   "source": [
    "ensemble = EnsemblePredict(ensemble_size=300, test_features = test_features, test_labels=test_labels)"
   ]
  },
  {
   "cell_type": "code",
   "execution_count": null,
   "id": "6844a36c-b4da-4756-82da-97fe80768cc9",
   "metadata": {},
   "outputs": [],
   "source": [
    "# epistemic uncertainty compute the ensemble times of conditional mean \n",
    "ensemble.mc_predict_test_set(model=flipout_model)"
   ]
  },
  {
   "cell_type": "code",
   "execution_count": null,
   "id": "03c438f2-2c4b-4908-a063-32f20d6ae491",
   "metadata": {},
   "outputs": [],
   "source": [
    "# plot the epistemic uncertainty \n",
    "ensemble.pl_epistemic(val_x_axis = val_x_axis)"
   ]
  },
  {
   "cell_type": "code",
   "execution_count": null,
   "id": "3a19ed22-018b-49be-bcc1-c3007025911c",
   "metadata": {},
   "outputs": [],
   "source": [
    "ensemble.pl_residual_B(low=2, limit=3)\n",
    "# save2Vis('residual_plot')"
   ]
  },
  {
   "cell_type": "code",
   "execution_count": null,
   "id": "194f228b-2083-4770-9000-de487359149d",
   "metadata": {},
   "outputs": [],
   "source": [
    "ensemble.pl_epistemic_ts(dataset=dataset)\n",
    "# save2Vis('BDNN_epistemic_uncertainty')"
   ]
  },
  {
   "cell_type": "code",
   "execution_count": null,
   "id": "98e77cf0-fb1d-4241-a250-d897f4330c1d",
   "metadata": {},
   "outputs": [],
   "source": [
    "val_performance['flipout_model'] = ensemble.cp_ensemble_metrics()"
   ]
  },
  {
   "cell_type": "code",
   "execution_count": null,
   "id": "d1dde8c7-7d8a-49ef-b471-37fd75cafd2e",
   "metadata": {},
   "outputs": [],
   "source": [
    "val_performance['flipout_model']"
   ]
  },
  {
   "cell_type": "code",
   "execution_count": null,
   "id": "8cc23a9e-07de-4ee4-adbb-fb13fc05aa4a",
   "metadata": {},
   "outputs": [],
   "source": [
    "# mixed uncertainty: compute the distribution objects throughout the test set for \n",
    "\n",
    "ensemble.cp_ensemble_testset(flipout_model)"
   ]
  },
  {
   "cell_type": "code",
   "execution_count": null,
   "id": "25ae8d51-e740-4a43-ae55-3f29654a211e",
   "metadata": {},
   "outputs": [],
   "source": [
    "# compute the GMM bounds given dist objects\n",
    "\n",
    "PI_dp_bounds_all_list = ensemble.get_PI_bounds_testset(style='gmm')"
   ]
  },
  {
   "cell_type": "code",
   "execution_count": null,
   "id": "eea92886-12a1-4a22-aee3-e4db7662a079",
   "metadata": {},
   "outputs": [],
   "source": [
    "PI_dp_bounds_all_list[0].mean"
   ]
  },
  {
   "cell_type": "code",
   "execution_count": null,
   "id": "d91a63ac-1434-48e1-9df4-b5670fa11ca3",
   "metadata": {},
   "outputs": [],
   "source": [
    "ensemble.mixed_uncertainty_PI(dataset, PI_dp_bounds_all_list, val_x_axis)\n",
    "# save2Vis('mixed_uncertainty')"
   ]
  },
  {
   "cell_type": "markdown",
   "id": "5a0b694c-61b4-4dec-8eb5-b370a5d9547d",
   "metadata": {
    "jp-MarkdownHeadingCollapsed": true,
    "tags": []
   },
   "source": [
    "### `PYMC` Bayesian linear regression model"
   ]
  },
  {
   "cell_type": "code",
   "execution_count": null,
   "id": "2e3ec644-2694-41e7-a22a-717b9fa079b3",
   "metadata": {},
   "outputs": [],
   "source": [
    "RANDOM_SEED = 9527\n",
    "rng = np.random.default_rng(RANDOM_SEED)"
   ]
  },
  {
   "cell_type": "code",
   "execution_count": null,
   "id": "57d01cfc-b122-4da8-978e-16d8ce7055ca",
   "metadata": {},
   "outputs": [],
   "source": [
    "# normalized features\n",
    "n_train_features, n_test_features, train_labels, test_labels = base_process_data(dataset=dataset, split_index=200, normalize=True)"
   ]
  },
  {
   "cell_type": "code",
   "execution_count": null,
   "id": "eb05dfd7-79ab-48e9-a65d-f74f19fbf138",
   "metadata": {},
   "outputs": [],
   "source": [
    "train_labels.shape"
   ]
  },
  {
   "cell_type": "code",
   "execution_count": null,
   "id": "a1e3efe5-f6b8-429f-bc51-a71287b813bc",
   "metadata": {},
   "outputs": [],
   "source": [
    "n_train_features.shape"
   ]
  },
  {
   "cell_type": "code",
   "execution_count": null,
   "id": "cb09b900-4abd-494b-b14c-1134710c3955",
   "metadata": {},
   "outputs": [],
   "source": [
    "with Model() as model:  # model specifications in PyMC are wrapped in a with-statement\n",
    "    # Define priors\n",
    "    sigma = Normal(\"sigma\", 0, sigma=10)\n",
    "    \n",
    "    b1 = Normal(\"media1_S\", 0, sigma=1)\n",
    "    b2 = Normal(\"media2_S\", 0, sigma=1)\n",
    "    b3 = Normal(\"media3_S\", 0, sigma=1)\n",
    "    b_cs = Normal(\"competitor_sales\", 0, sigma=1)\n",
    "    b_nl = Normal(\"newsletter\", 0, sigma=1)\n",
    "    bias = Normal(\"bias\", 0, sigma=1)\n",
    "\n",
    "    # Define likelihood\n",
    "    likelihood = Normal(\"revenue\", \n",
    "                        mu = bias +b1*n_train_features[:,0]+b2*n_train_features[:,1]+b3*n_train_features[:,2]+b_cs*n_train_features[:,3]+b_nl*n_train_features[:,4], \n",
    "                        sigma=sigma, \n",
    "                        observed=train_labels)\n",
    "\n",
    "    # Inference!\n",
    "    # draw 3000 posterior samples using NUTS sampling\n",
    "    idata = sample(5000)"
   ]
  },
  {
   "cell_type": "code",
   "execution_count": null,
   "id": "35cff8a2-bf97-4b45-8ace-eedf011d7dbb",
   "metadata": {},
   "outputs": [],
   "source": [
    "az.plot_trace(idata, combined=True, figsize=(12, 24));"
   ]
  },
  {
   "cell_type": "code",
   "execution_count": null,
   "id": "f81473a1-6140-43c0-92e3-cc937bc79ac7",
   "metadata": {},
   "outputs": [],
   "source": [
    "idata"
   ]
  },
  {
   "cell_type": "markdown",
   "id": "3b01c1a6-ea6e-4d8a-a479-3f84ec78099b",
   "metadata": {
    "tags": []
   },
   "source": [
    "## temporal models\n",
    "\n",
    "I'll try a `Bayesian LSTM model` first and a few some other state-of-the-art alternatives for illustration.\n",
    "\n",
    "Note that this will have a different processing procedure than base models."
   ]
  },
  {
   "cell_type": "code",
   "execution_count": null,
   "id": "5d3537ee-5db7-496b-aee2-d7c62c0e9a62",
   "metadata": {},
   "outputs": [],
   "source": [
    "dataset.head()"
   ]
  },
  {
   "cell_type": "code",
   "execution_count": null,
   "id": "7492e7fe-4ba6-44f5-9b94-ced36f9f0de4",
   "metadata": {},
   "outputs": [],
   "source": [
    "''' for plotting of `periodicity` '''\n",
    "\n",
    "index_time = np.arange(1, len(dataset)+1)\n",
    "\n",
    "# back-up\n",
    "monthly = sin_transformer(period=4, x=index_time)\n",
    "yearly = sin_transformer(period=4*12, x=index_time)\n",
    "\n",
    "# periodicity display\n",
    "\n",
    "fig, ax = plt.subplots()\n",
    "ax.plot(monthly, label = 'monthly periodicity')\n",
    "ax.plot(dataset['revenue'], label='revenue in millions')\n",
    "ax.plot(yearly, label = 'yearly periodicity')\n",
    "\n",
    "ax.set_xlabel('Time')\n",
    "ax.set_ylabel('Revenue')\n",
    "ax.legend()\n",
    "ax.set_xlim([0, 200])\n",
    "# save2Vis('periodicity')"
   ]
  },
  {
   "cell_type": "code",
   "execution_count": null,
   "id": "7c3e03be-9065-4c8a-871d-9a7c02d21eb4",
   "metadata": {},
   "outputs": [],
   "source": [
    "from darts import TimeSeries\n",
    "from darts.utils.statistics import plot_acf, check_seasonality"
   ]
  },
  {
   "cell_type": "code",
   "execution_count": null,
   "id": "b0c44572-5fd9-4b93-b624-7fbae77a3fa0",
   "metadata": {},
   "outputs": [],
   "source": [
    "ts_revenue = TimeSeries.from_series(dataset['revenue']) "
   ]
  },
  {
   "cell_type": "code",
   "execution_count": null,
   "id": "cdd39991-0017-476b-ad3c-ec91ea285e3f",
   "metadata": {},
   "outputs": [],
   "source": [
    "plt.figure()\n",
    "ts_revenue.plot()"
   ]
  },
  {
   "cell_type": "code",
   "execution_count": null,
   "id": "506a4170-6ca0-47de-ac80-f3451787ce81",
   "metadata": {},
   "outputs": [],
   "source": [
    "plot_acf(ts_revenue, m=48, alpha=0.05, max_lag=60)"
   ]
  },
  {
   "cell_type": "code",
   "execution_count": null,
   "id": "b13ac9b2-73a2-4655-9b56-5a50ec43a084",
   "metadata": {},
   "outputs": [],
   "source": [
    "for m in range(2, 52):\n",
    "    is_seasonal, period = check_seasonality(ts_revenue, m=m, alpha=0.05, max_lag=60)\n",
    "    if is_seasonal:\n",
    "        print(\"There is seasonality of order {}.\".format(period))"
   ]
  },
  {
   "cell_type": "code",
   "execution_count": null,
   "id": "09b4a581-7e43-44ab-bc91-27b08a5bc8ff",
   "metadata": {},
   "outputs": [],
   "source": [
    "train_df, val_df = temporal_process_data(dataset, split_index=200)"
   ]
  },
  {
   "cell_type": "code",
   "execution_count": null,
   "id": "5be2e127-278d-4e6e-87f9-6db47bf14644",
   "metadata": {},
   "outputs": [],
   "source": [
    "# weekly context length\n",
    "context_length = 4\n",
    "\n",
    "cr_window = WindowGenerator(\n",
    "    input_width=context_length,\n",
    "    label_width=1,\n",
    "    shift=1,\n",
    "    label_columns=['revenue'], \n",
    "    train_df=train_df,\n",
    "    val_df = val_df)\n",
    "\n",
    "cr_window"
   ]
  },
  {
   "cell_type": "code",
   "execution_count": null,
   "id": "f8ee405d-a3dc-4823-8de9-871cd0443e04",
   "metadata": {},
   "outputs": [],
   "source": [
    "print(\"shape hint:\")\n",
    "print(\"input shape:\", cr_window.example[0].shape)\n",
    "print(\"output shape:\", cr_window.example[1].shape)"
   ]
  },
  {
   "cell_type": "code",
   "execution_count": null,
   "id": "4d01e24d-46d0-4d36-8f5a-d3c46f799fc4",
   "metadata": {},
   "outputs": [],
   "source": [
    "# check the seasonality with ACF "
   ]
  },
  {
   "cell_type": "markdown",
   "id": "aca130a0-4427-410c-9253-bd6d5232423f",
   "metadata": {
    "jp-MarkdownHeadingCollapsed": true,
    "tags": []
   },
   "source": [
    "#### a comparative DNN test"
   ]
  },
  {
   "cell_type": "code",
   "execution_count": null,
   "id": "dd3f8d07-2b61-4db1-86a1-92a12d357b4c",
   "metadata": {},
   "outputs": [],
   "source": [
    "def DNN_wo_normalization():\n",
    "    model = tf.keras.Sequential([\n",
    "      tf.keras.layers.Dense(16, activation='relu'),\n",
    "      tf.keras.layers.Dense(2, activation='relu'),\n",
    "      tf.keras.layers.Dense(1)\n",
    "    ])\n",
    "    return model"
   ]
  },
  {
   "cell_type": "code",
   "execution_count": null,
   "id": "498351a5-4827-4942-a24e-1de51104d1c6",
   "metadata": {},
   "outputs": [],
   "source": [
    "DNN_wn = DNN_wo_normalization()"
   ]
  },
  {
   "cell_type": "code",
   "execution_count": null,
   "id": "d91f9d56-e278-48ef-a323-0023af75a574",
   "metadata": {},
   "outputs": [],
   "source": [
    "history = compile_and_fit_lstm(\n",
    "    model = DNN_wn, \n",
    "    loss = tf.keras.losses.MeanSquaredError(), \n",
    "    window=cr_window, \n",
    "    EPOCHS = 300,\n",
    "    VERBOSE = 0)"
   ]
  },
  {
   "cell_type": "code",
   "execution_count": null,
   "id": "b476b78d-c529-4a8c-ac68-bbed2d6bc883",
   "metadata": {},
   "outputs": [],
   "source": [
    "dnn_result_dict = cp_val(DNN_wn, cr_window, train_df, val_df)"
   ]
  },
  {
   "cell_type": "markdown",
   "id": "7855e44f-092c-4771-a258-5f69a4676be9",
   "metadata": {
    "tags": []
   },
   "source": [
    "### deterministic LSTM"
   ]
  },
  {
   "cell_type": "code",
   "execution_count": null,
   "id": "111dc06e-c8e1-47ca-b92f-ee2772aa27a9",
   "metadata": {},
   "outputs": [],
   "source": [
    "# get a LSTM model herein\n",
    "\n",
    "lstm_model = build_lstm()"
   ]
  },
  {
   "cell_type": "code",
   "execution_count": null,
   "id": "ad9a31f7-8209-429b-88c0-44312d26d2bb",
   "metadata": {},
   "outputs": [],
   "source": [
    "history = compile_and_fit_lstm(\n",
    "    model = lstm_model, \n",
    "    loss = tf.keras.losses.MeanSquaredError(), \n",
    "    window=cr_window, \n",
    "    EPOCHS=300,\n",
    "    VERBOSE=0)"
   ]
  },
  {
   "cell_type": "code",
   "execution_count": null,
   "id": "e2519e83-184c-4659-984e-5d8a7bd80402",
   "metadata": {},
   "outputs": [],
   "source": [
    "plot_history_info(history)"
   ]
  },
  {
   "cell_type": "code",
   "execution_count": null,
   "id": "8fd43575-4826-4271-a5d7-8b3fba6de80c",
   "metadata": {},
   "outputs": [],
   "source": [
    "# # # this may not work due to the very small size of val data\n",
    "# lstm_model.evaluate(cr_window.val)"
   ]
  },
  {
   "cell_type": "code",
   "execution_count": null,
   "id": "2b1aa48b-f22e-4dd5-b31e-b9655036bc8c",
   "metadata": {},
   "outputs": [],
   "source": [
    "val_performance['lstm_model'] = cr_window.cp_val_lstm_mcdropout_oneshot(lstm_model)\n",
    "val_performance['lstm_model']"
   ]
  },
  {
   "cell_type": "markdown",
   "id": "9eafcdfd-3eb5-4bfc-98da-26639074e76b",
   "metadata": {
    "tags": []
   },
   "source": [
    "### Stochastic Regularisation technique"
   ]
  },
  {
   "cell_type": "code",
   "execution_count": null,
   "id": "d9345965-41d6-45b5-ba2d-ddfea14614f8",
   "metadata": {},
   "outputs": [],
   "source": [
    "tf.keras.backend.clear_session()"
   ]
  },
  {
   "cell_type": "code",
   "execution_count": null,
   "id": "0e062fad-0c80-4ba1-a36a-fd7531826dd4",
   "metadata": {},
   "outputs": [],
   "source": [
    "lstm_SRT = lstm_SRT(units=16)"
   ]
  },
  {
   "cell_type": "code",
   "execution_count": null,
   "id": "6778beb4-f15f-4dbe-aa9f-86c794a0504d",
   "metadata": {},
   "outputs": [],
   "source": [
    "history_Blstm2 = compile_and_fit_lstm(\n",
    "    model=lstm_SRT, \n",
    "    window = cr_window, \n",
    "    loss = 'mse', \n",
    "    EPOCHS=300,\n",
    "    VERBOSE=0)"
   ]
  },
  {
   "cell_type": "code",
   "execution_count": null,
   "id": "dbd4028c-15d9-4076-b14d-d8c4ac925278",
   "metadata": {},
   "outputs": [],
   "source": [
    "cr_window.cp_val_lstm_mcdropout_oneshot(model=lstm_SRT)"
   ]
  },
  {
   "cell_type": "code",
   "execution_count": null,
   "id": "cb1b4dc2-3e23-4052-9591-cd45db50544e",
   "metadata": {},
   "outputs": [],
   "source": [
    "ensemble_results, val_performance['Blstm_model'] = cr_window.cp_val_B(\n",
    "    model=lstm_SRT, ensemble_size=100, style='mc_dropout')"
   ]
  },
  {
   "cell_type": "code",
   "execution_count": null,
   "id": "882116e2-6807-4863-b3aa-08a681147e77",
   "metadata": {},
   "outputs": [],
   "source": [
    "val_performance['Blstm_model']"
   ]
  },
  {
   "cell_type": "code",
   "execution_count": null,
   "id": "8b58c73b-8297-4d2a-86a6-9d6cc2b73798",
   "metadata": {},
   "outputs": [],
   "source": [
    "cr_window.display_lstm_val(ensemble_results, val_x_axis)\n",
    "save2Vis('BLSTM_epistemic_uncertainty')"
   ]
  },
  {
   "cell_type": "markdown",
   "id": "6462d2cb-d5d8-476e-9276-5983feb9761c",
   "metadata": {
    "jp-MarkdownHeadingCollapsed": true,
    "tags": []
   },
   "source": [
    "### svi LSTM model"
   ]
  },
  {
   "cell_type": "code",
   "execution_count": null,
   "id": "78840f48-12c8-43d7-88f5-3abf60b058b5",
   "metadata": {},
   "outputs": [],
   "source": [
    "B_lstm_model = build_BLSTM_svi(latent_dim=64, KL_scaling_factor=200)"
   ]
  },
  {
   "cell_type": "code",
   "execution_count": null,
   "id": "cd8ab495-e62c-4d40-ab21-af8c2bb1ccba",
   "metadata": {},
   "outputs": [],
   "source": [
    "history_Blstm = compile_and_fit_lstm(\n",
    "    model=B_lstm_model, \n",
    "    window = cr_window, \n",
    "    loss = nll, \n",
    "    EPOCHS=500,\n",
    "    VERBOSE=0)"
   ]
  },
  {
   "cell_type": "code",
   "execution_count": null,
   "id": "d3feee4d-8838-428a-8ef4-8c5d38f49805",
   "metadata": {},
   "outputs": [],
   "source": [
    "plot_history_info(history_Blstm)"
   ]
  },
  {
   "cell_type": "code",
   "execution_count": null,
   "id": "ae9f2885-e91a-4be0-863a-30de51aa8780",
   "metadata": {},
   "outputs": [],
   "source": [
    "# check the input \n",
    "for ex_input, ex_output in cr_window.val.take(1):\n",
    "    print(\"training dp input:\", ex_input.shape)\n",
    "    print(\"training dp output:\", ex_output.shape)"
   ]
  },
  {
   "cell_type": "code",
   "execution_count": null,
   "id": "ba997e48-23ee-4ac1-9d81-8efa11774cd2",
   "metadata": {},
   "outputs": [],
   "source": [
    "ensemble_results = cr_window.cp_val(model = B_lstm_model, ensemble_size=300)"
   ]
  },
  {
   "cell_type": "code",
   "execution_count": null,
   "id": "5044a0eb-900d-491f-8bb6-4bccf6b88bb8",
   "metadata": {},
   "outputs": [],
   "source": [
    "# specifically, now the gt value is the normalized 'revenue' shown only in `val_df`"
   ]
  },
  {
   "cell_type": "code",
   "execution_count": null,
   "id": "73f14793-7176-403a-aa2c-6541af7d7b74",
   "metadata": {},
   "outputs": [],
   "source": [
    "# add the predictions then \n",
    "fig, ax = plt.subplots()\n",
    "ax.scatter(val_x_axis, val_df['revenue'], color='r', marker='o')\n",
    "ax.scatter(val_x_axis, test_preds, color='b', marker='x')\n",
    "# plt.xlim([0, 4])"
   ]
  }
 ],
 "metadata": {
  "kernelspec": {
   "display_name": "Python 3 (ipykernel)",
   "language": "python",
   "name": "python3"
  },
  "language_info": {
   "codemirror_mode": {
    "name": "ipython",
    "version": 3
   },
   "file_extension": ".py",
   "mimetype": "text/x-python",
   "name": "python",
   "nbconvert_exporter": "python",
   "pygments_lexer": "ipython3",
   "version": "3.8.13"
  },
  "toc-autonumbering": true
 },
 "nbformat": 4,
 "nbformat_minor": 5
}
