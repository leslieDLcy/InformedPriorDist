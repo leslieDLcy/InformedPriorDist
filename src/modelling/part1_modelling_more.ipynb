{
 "cells": [
  {
   "cell_type": "code",
   "execution_count": 1,
   "id": "bb6a3413-e7f9-494d-904b-d030aac62b89",
   "metadata": {},
   "outputs": [
    {
     "data": {
      "text/plain": [
       "' revenue in millions '"
      ]
     },
     "execution_count": 1,
     "metadata": {},
     "output_type": "execute_result"
    }
   ],
   "source": [
    "\"\"\" revenue in millions \"\"\""
   ]
  },
  {
   "cell_type": "code",
   "execution_count": 2,
   "id": "388222da-c05e-497f-8814-2a566dd4beef",
   "metadata": {},
   "outputs": [
    {
     "name": "stderr",
     "output_type": "stream",
     "text": [
      "2023-08-20 17:56:21.814048: I tensorflow/core/platform/cpu_feature_guard.cc:193] This TensorFlow binary is optimized with oneAPI Deep Neural Network Library (oneDNN) to use the following CPU instructions in performance-critical operations:  AVX2 FMA\n",
      "To enable them in other operations, rebuild TensorFlow with the appropriate compiler flags.\n"
     ]
    }
   ],
   "source": [
    "import tqdm\n",
    "import os\n",
    "import pathlib\n",
    "import matplotlib.pyplot as plt\n",
    "import numpy as np\n",
    "import pandas as pd\n",
    "import seaborn as sns\n",
    "import tensorflow as tf\n",
    "from tensorflow import keras\n",
    "from tensorflow.keras import layers\n",
    "from tensorflow.keras.layers.experimental import preprocessing"
   ]
  },
  {
   "cell_type": "code",
   "execution_count": 3,
   "id": "328c30b6-6831-4de2-8155-e945b7899120",
   "metadata": {},
   "outputs": [
    {
     "name": "stdout",
     "output_type": "stream",
     "text": [
      "2.10.0\n"
     ]
    }
   ],
   "source": [
    "print(tf.__version__)"
   ]
  },
  {
   "cell_type": "code",
   "execution_count": 4,
   "id": "36b39ba4-0722-4fff-bb07-ed6c686b2f4d",
   "metadata": {},
   "outputs": [],
   "source": [
    "import tensorflow_probability as tfp\n",
    "tfd = tfp.distributions\n",
    "tfpl = tfp.layers\n",
    "from keras.models import Sequential"
   ]
  },
  {
   "cell_type": "code",
   "execution_count": 5,
   "id": "6704350a-2d1e-4898-afa2-a6056eb60c33",
   "metadata": {},
   "outputs": [
    {
     "ename": "ModuleNotFoundError",
     "evalue": "No module named 'edward2'",
     "output_type": "error",
     "traceback": [
      "\u001b[0;31m---------------------------------------------------------------------------\u001b[0m",
      "\u001b[0;31mModuleNotFoundError\u001b[0m                       Traceback (most recent call last)",
      "\u001b[0;32m/var/folders/v7/hm192fr54yz_v8n16858s92r0000gn/T/ipykernel_12632/1354329116.py\u001b[0m in \u001b[0;36m<module>\u001b[0;34m\u001b[0m\n\u001b[1;32m      1\u001b[0m \u001b[0;32mfrom\u001b[0m \u001b[0mutils\u001b[0m \u001b[0;32mimport\u001b[0m \u001b[0mcd_root_dir\u001b[0m\u001b[0;34m,\u001b[0m \u001b[0msin_transformer\u001b[0m\u001b[0;34m,\u001b[0m \u001b[0mcos_transformer\u001b[0m\u001b[0;34m,\u001b[0m \u001b[0msave2Vis\u001b[0m\u001b[0;34m,\u001b[0m \u001b[0mpl_residual\u001b[0m\u001b[0;34m,\u001b[0m \u001b[0mpl_residual_horizontal\u001b[0m\u001b[0;34m,\u001b[0m \u001b[0mpl_residual_hist\u001b[0m\u001b[0;34m\u001b[0m\u001b[0;34m\u001b[0m\u001b[0m\n\u001b[1;32m      2\u001b[0m \u001b[0;32mfrom\u001b[0m \u001b[0mmodules\u001b[0m \u001b[0;32mimport\u001b[0m \u001b[0mpl_preds_uncertainty\u001b[0m\u001b[0;34m,\u001b[0m \u001b[0mplot_history_info\u001b[0m\u001b[0;34m,\u001b[0m \u001b[0mEnsemblePredict\u001b[0m\u001b[0;34m,\u001b[0m \u001b[0mcp_dp_PI_bound\u001b[0m\u001b[0;34m,\u001b[0m \u001b[0mshow_dist\u001b[0m\u001b[0;34m,\u001b[0m \u001b[0mAleatoricPredict\u001b[0m\u001b[0;34m\u001b[0m\u001b[0;34m\u001b[0m\u001b[0m\n\u001b[0;32m----> 3\u001b[0;31m \u001b[0;32mfrom\u001b[0m \u001b[0mmodels\u001b[0m \u001b[0;32mimport\u001b[0m \u001b[0mbuild_and_compile_model\u001b[0m\u001b[0;34m,\u001b[0m \u001b[0mcreate_and_compile_aleatoric_model\u001b[0m\u001b[0;34m,\u001b[0m \u001b[0mbuild_lstm\u001b[0m\u001b[0;34m,\u001b[0m \u001b[0mcompile_and_fit_lstm\u001b[0m\u001b[0;34m,\u001b[0m \u001b[0mbuild_BLSTM_svi\u001b[0m\u001b[0;34m\u001b[0m\u001b[0;34m\u001b[0m\u001b[0m\n\u001b[0m\u001b[1;32m      4\u001b[0m \u001b[0;32mfrom\u001b[0m \u001b[0mpipeline\u001b[0m \u001b[0;32mimport\u001b[0m \u001b[0mimport_data\u001b[0m\u001b[0;34m,\u001b[0m \u001b[0mbase_process_data\u001b[0m\u001b[0;34m,\u001b[0m \u001b[0mfeature_normalization\u001b[0m\u001b[0;34m,\u001b[0m \u001b[0mensemble_predict\u001b[0m\u001b[0;34m,\u001b[0m \u001b[0mtemporal_process_data\u001b[0m\u001b[0;34m\u001b[0m\u001b[0;34m\u001b[0m\u001b[0m\n\u001b[1;32m      5\u001b[0m \u001b[0;32mfrom\u001b[0m \u001b[0mwindowing\u001b[0m \u001b[0;32mimport\u001b[0m \u001b[0mWindowGenerator\u001b[0m\u001b[0;34m\u001b[0m\u001b[0;34m\u001b[0m\u001b[0m\n",
      "\u001b[0;32m~/Documents/Github_repos/KTP_Croud/KTP_Croud/src/modelling/models.py\u001b[0m in \u001b[0;36m<module>\u001b[0;34m\u001b[0m\n\u001b[1;32m      1\u001b[0m \u001b[0;32mfrom\u001b[0m \u001b[0mkeras\u001b[0m\u001b[0;34m.\u001b[0m\u001b[0mmodels\u001b[0m \u001b[0;32mimport\u001b[0m \u001b[0mSequential\u001b[0m\u001b[0;34m\u001b[0m\u001b[0;34m\u001b[0m\u001b[0m\n\u001b[0;32m----> 2\u001b[0;31m \u001b[0;32mimport\u001b[0m \u001b[0medward2\u001b[0m \u001b[0;32mas\u001b[0m \u001b[0med\u001b[0m\u001b[0;34m\u001b[0m\u001b[0;34m\u001b[0m\u001b[0m\n\u001b[0m\u001b[1;32m      3\u001b[0m \u001b[0;32mimport\u001b[0m \u001b[0mtensorflow\u001b[0m \u001b[0;32mas\u001b[0m \u001b[0mtf\u001b[0m\u001b[0;34m\u001b[0m\u001b[0;34m\u001b[0m\u001b[0m\n\u001b[1;32m      4\u001b[0m \u001b[0;32mimport\u001b[0m \u001b[0mtensorflow_probability\u001b[0m \u001b[0;32mas\u001b[0m \u001b[0mtfp\u001b[0m\u001b[0;34m\u001b[0m\u001b[0;34m\u001b[0m\u001b[0m\n\u001b[1;32m      5\u001b[0m \u001b[0;32mfrom\u001b[0m \u001b[0mkeras\u001b[0m\u001b[0;34m.\u001b[0m\u001b[0mlayers\u001b[0m \u001b[0;32mimport\u001b[0m \u001b[0mDense\u001b[0m\u001b[0;34m,\u001b[0m \u001b[0mRNN\u001b[0m\u001b[0;34m\u001b[0m\u001b[0;34m\u001b[0m\u001b[0m\n",
      "\u001b[0;31mModuleNotFoundError\u001b[0m: No module named 'edward2'"
     ]
    }
   ],
   "source": [
    "from utils import cd_root_dir, sin_transformer, cos_transformer, save2Vis, pl_residual, pl_residual_horizontal, pl_residual_hist\n",
    "from modules import pl_preds_uncertainty, plot_history_info, EnsemblePredict, cp_dp_PI_bound, show_dist, AleatoricPredict\n",
    "from models import build_and_compile_model, create_and_compile_aleatoric_model, build_lstm, compile_and_fit_lstm, build_BLSTM_svi\n",
    "from pipeline import import_data, base_process_data, feature_normalization, ensemble_predict, temporal_process_data\n",
    "from windowing import WindowGenerator\n",
    "from models import sg_prior, nll, BDNN_svi, BDNN_flipout, build_BLSTM_svi2, lstm_SRT, buildNcompile_linear"
   ]
  },
  {
   "cell_type": "code",
   "execution_count": null,
   "id": "5e1320ca-86c4-447f-b1a2-4fde49bb4bf2",
   "metadata": {},
   "outputs": [],
   "source": [
    "import arviz as az\n",
    "import matplotlib.pyplot as plt\n",
    "import numpy as np\n",
    "import pandas as pd\n",
    "import pymc as pm\n",
    "import xarray as xr\n",
    "\n",
    "from pymc import HalfCauchy, Model, Normal, sample\n",
    "\n",
    "print(f\"Running on PyMC v{pm.__version__}\")"
   ]
  },
  {
   "cell_type": "code",
   "execution_count": null,
   "id": "513de658-fdd7-485e-ad94-b5afa1986757",
   "metadata": {},
   "outputs": [],
   "source": [
    "# set up a global plt style for the script\n",
    "# plt.style.use('classic')\n",
    "plt.rcParams.update({\n",
    "        \"font.size\": 9,\n",
    "        \"text.usetex\": True,\n",
    "        \"font.family\": \"serif\",\n",
    "        \"figure.figsize\": (4, 3),\n",
    "        \"legend.fontsize\": 'medium',\n",
    "        })"
   ]
  },
  {
   "cell_type": "code",
   "execution_count": null,
   "id": "a38a8244-97f1-4677-988c-3d4d48b0ee7d",
   "metadata": {},
   "outputs": [],
   "source": [
    "%matplotlib widget\n",
    "%load_ext rich"
   ]
  },
  {
   "cell_type": "code",
   "execution_count": null,
   "id": "f85e5c28-1cb4-4b33-92cc-b7e7bce597fc",
   "metadata": {},
   "outputs": [],
   "source": [
    "%load_ext autoreload\n",
    "%autoreload 2"
   ]
  },
  {
   "cell_type": "code",
   "execution_count": null,
   "id": "3c35a0d0-e925-4f69-8637-1df31bd71b71",
   "metadata": {},
   "outputs": [],
   "source": [
    "tf.random.set_seed(9527)"
   ]
  },
  {
   "cell_type": "code",
   "execution_count": null,
   "id": "e6902634-6ab0-4cfa-a74b-fc359c6e604c",
   "metadata": {},
   "outputs": [],
   "source": [
    "cd_root_dir()"
   ]
  },
  {
   "cell_type": "code",
   "execution_count": null,
   "id": "144abedd-8edd-4ebc-a4ab-7c8a5d28db1e",
   "metadata": {},
   "outputs": [],
   "source": [
    "# dummy xaxis \n",
    "val_x_axis = np.arange(200, 208)"
   ]
  },
  {
   "cell_type": "markdown",
   "id": "50073f0d-36d0-4eb9-9d41-1bea9f0afc41",
   "metadata": {
    "jp-MarkdownHeadingCollapsed": true,
    "tags": []
   },
   "source": [
    "# import the data"
   ]
  },
  {
   "cell_type": "code",
   "execution_count": null,
   "id": "ab638360-fad1-4a33-ac4b-0814d3817a7f",
   "metadata": {},
   "outputs": [],
   "source": [
    "# import the data and get the time axis !\n",
    "dataset, time_axis = import_data(path='data/raw/weekly_media_sample.csv')"
   ]
  },
  {
   "cell_type": "code",
   "execution_count": null,
   "id": "2a1ee0c8-9bbf-4b26-a2d0-30f3baa4ae04",
   "metadata": {},
   "outputs": [],
   "source": [
    "time_axis = pd.to_datetime(time_axis, format='%d/%m/%Y')"
   ]
  },
  {
   "cell_type": "code",
   "execution_count": null,
   "id": "f7e759cc-8e53-417e-ac9a-701f5daad36c",
   "metadata": {},
   "outputs": [],
   "source": [
    "# plot the val results\n",
    "val_x_axis = np.arange(200, 208)"
   ]
  },
  {
   "cell_type": "code",
   "execution_count": null,
   "id": "1c903070-4437-4c59-8a16-a3edf520329d",
   "metadata": {},
   "outputs": [],
   "source": [
    "dataset.tail()"
   ]
  },
  {
   "cell_type": "markdown",
   "id": "b2360dad-ab93-489e-873b-73138fe0fb49",
   "metadata": {
    "jp-MarkdownHeadingCollapsed": true,
    "tags": []
   },
   "source": [
    "# Explanatory of dataset"
   ]
  },
  {
   "cell_type": "code",
   "execution_count": null,
   "id": "52f6b118-5982-4bf7-bb32-e6031e6fe178",
   "metadata": {},
   "outputs": [],
   "source": [
    "dataset.describe().transpose()"
   ]
  },
  {
   "cell_type": "code",
   "execution_count": null,
   "id": "00bf5bc0-a22b-4a2b-b730-90b7fedab3c4",
   "metadata": {},
   "outputs": [],
   "source": [
    "# correlation\n",
    "\n",
    "sns.set_theme(style=\"white\")\n",
    "corr = dataset.corr()\n",
    "mask = np.triu(corr)\n",
    "f, ax = plt.subplots(figsize=(10, 10))\n",
    "cmap = sns.color_palette(\"coolwarm\")\n",
    "\n",
    "sns.heatmap(corr, \n",
    "            mask=mask, \n",
    "            cmap=cmap, \n",
    "            vmax=.3, \n",
    "            center=0,\n",
    "            square=True, \n",
    "            linewidths=3, \n",
    "            cbar_kws={\"shrink\": .5}\n",
    "           )\n"
   ]
  },
  {
   "cell_type": "code",
   "execution_count": null,
   "id": "df68c12b-637d-4eaf-87d6-4edc9fdbd436",
   "metadata": {},
   "outputs": [],
   "source": [
    "plot_features = dataset.copy()\n",
    "plot_features.index = time_axis\n",
    "_ = plot_features.plot(subplots=True)"
   ]
  },
  {
   "cell_type": "code",
   "execution_count": null,
   "id": "6f13ad40-3ac7-431e-8c4f-7997b42941e0",
   "metadata": {},
   "outputs": [],
   "source": [
    "# # plot\n",
    "# sns.pairplot(dataset[['revenue', 'media1_S', 'media2_S', 'media3_S']], diag_kind='kde')"
   ]
  },
  {
   "cell_type": "code",
   "execution_count": null,
   "id": "abcd2779-d6b6-4272-83f0-23b3cd452d5b",
   "metadata": {},
   "outputs": [],
   "source": [
    "# sns.pairplot(dataset[['newsletter', 'media1_S', 'media2_S', 'media3_S']], diag_kind='kde')"
   ]
  },
  {
   "cell_type": "markdown",
   "id": "9ced43bc-1e4b-40b5-864e-ef49e517e7cf",
   "metadata": {
    "tags": []
   },
   "source": [
    "# `base/static` processing the dataset into *train, val*\n",
    "\n",
    "meaning static models"
   ]
  },
  {
   "cell_type": "code",
   "execution_count": null,
   "id": "ac239fa7-fd38-4fa5-a18b-d812f4ad537a",
   "metadata": {},
   "outputs": [],
   "source": [
    "# a given split\n",
    "train_features, test_features, train_labels, test_labels = base_process_data(dataset=dataset, split_index=200)"
   ]
  },
  {
   "cell_type": "code",
   "execution_count": null,
   "id": "5b4e782a-f327-4318-98de-7a0f95aa086b",
   "metadata": {},
   "outputs": [],
   "source": [
    "type(train_features)"
   ]
  },
  {
   "cell_type": "code",
   "execution_count": null,
   "id": "da91f794-9c44-42c4-a7c2-87059079ba3e",
   "metadata": {},
   "outputs": [],
   "source": [
    "# double check tbe given split\n",
    "\n",
    "print(dataset.iloc[200-1])\n",
    "print(time_axis[200-1])"
   ]
  },
  {
   "cell_type": "code",
   "execution_count": null,
   "id": "9ea627fb-14ba-4d9b-bfbd-01a84d86dd5e",
   "metadata": {},
   "outputs": [],
   "source": [
    "train_features.shape\n",
    "train_labels.shape\n",
    "test_features.shape\n",
    "test_labels.shape"
   ]
  },
  {
   "cell_type": "code",
   "execution_count": null,
   "id": "1197dd1f-6625-4ab5-9a79-bf924ba63d28",
   "metadata": {},
   "outputs": [],
   "source": [
    "# feature normalization\n",
    "normalizer = feature_normalization(train_features)"
   ]
  },
  {
   "cell_type": "markdown",
   "id": "b4799146-9105-4b0e-9c46-08886f1ae738",
   "metadata": {
    "tags": []
   },
   "source": [
    "# Modelling\n"
   ]
  },
  {
   "cell_type": "code",
   "execution_count": null,
   "id": "908141fe-474a-45b1-b139-e42ff85996cd",
   "metadata": {},
   "outputs": [],
   "source": [
    "val_performance = {}"
   ]
  },
  {
   "cell_type": "markdown",
   "id": "2dfaf96a-01ec-4062-96f2-dd5874fe37cf",
   "metadata": {
    "tags": []
   },
   "source": [
    "\n",
    "## base/static models\n",
    "\n",
    "- `non-temporal` models"
   ]
  },
  {
   "cell_type": "markdown",
   "id": "bb284ee4-5021-4b34-ae0d-f466dde3958f",
   "metadata": {
    "jp-MarkdownHeadingCollapsed": true,
    "tags": []
   },
   "source": [
    "### a linear regression model as `reference`\n",
    "\n",
    "- multilinearity check"
   ]
  },
  {
   "cell_type": "code",
   "execution_count": null,
   "id": "7d34535a-1299-4753-a0b9-1372b0bf8f09",
   "metadata": {},
   "outputs": [],
   "source": [
    "deter_linear_model = buildNcompile_linear(normalizer)"
   ]
  },
  {
   "cell_type": "code",
   "execution_count": null,
   "id": "62a4d4a7-ca22-4ce9-92af-fb8b2d760474",
   "metadata": {},
   "outputs": [],
   "source": [
    "deter_linear_model.summary()"
   ]
  },
  {
   "cell_type": "code",
   "execution_count": null,
   "id": "87dc8794-4caf-4fda-8694-6b9a4edce3ba",
   "metadata": {},
   "outputs": [],
   "source": [
    "%%time\n",
    "history_linear = deter_linear_model.fit(\n",
    "    train_features,\n",
    "    train_labels,\n",
    "    # validation_split=0.2,\n",
    "    validation_data=(test_features, test_labels),\n",
    "    verbose=0,\n",
    "    epochs=400)"
   ]
  },
  {
   "cell_type": "code",
   "execution_count": null,
   "id": "fabfb9c5-79d9-433a-8b00-179358fbfad8",
   "metadata": {},
   "outputs": [],
   "source": [
    "plot_history_info(history_linear)"
   ]
  },
  {
   "cell_type": "code",
   "execution_count": null,
   "id": "412ee260-64f2-4eee-87f4-15ee2652bfd7",
   "metadata": {},
   "outputs": [],
   "source": [
    "deter_linear_model.evaluate(test_features, test_labels)"
   ]
  },
  {
   "cell_type": "code",
   "execution_count": null,
   "id": "a6c7b5db-f8c5-4c5e-8d37-1301d50b54ef",
   "metadata": {},
   "outputs": [],
   "source": [
    "y_preds = deter_linear_model(test_features)"
   ]
  },
  {
   "cell_type": "code",
   "execution_count": null,
   "id": "c921cf9a-9f80-4b00-9d34-391109de7ac8",
   "metadata": {},
   "outputs": [],
   "source": [
    "test_labels.shape"
   ]
  },
  {
   "cell_type": "code",
   "execution_count": null,
   "id": "31ae8a6f-f364-4192-8247-bad4877be687",
   "metadata": {},
   "outputs": [],
   "source": [
    "# in test data\n",
    "pl_residual(preds=y_preds, gt=test_labels, low=2, limit=3)"
   ]
  },
  {
   "cell_type": "code",
   "execution_count": null,
   "id": "b375845a-ccbe-4e70-8e07-5dad232462a0",
   "metadata": {},
   "outputs": [],
   "source": [
    "## for training data\n",
    "train_preds = deter_linear_model(train_features)"
   ]
  },
  {
   "cell_type": "code",
   "execution_count": null,
   "id": "2c82dc96-1306-4286-ba61-e592e8daa90e",
   "metadata": {},
   "outputs": [],
   "source": [
    "pl_residual(preds=train_preds, gt=train_labels, low=1, limit=4)"
   ]
  },
  {
   "cell_type": "code",
   "execution_count": null,
   "id": "efb5801c-31ef-4be3-a796-d433d87512dd",
   "metadata": {},
   "outputs": [],
   "source": [
    "pl_residual_horizontal(preds=train_preds, gt=train_labels, low=1, limit=4)\n",
    "plt.ylim([-1, 1.5])"
   ]
  },
  {
   "cell_type": "code",
   "execution_count": null,
   "id": "3eb3f487-9010-474d-a3be-527ff251ef40",
   "metadata": {},
   "outputs": [],
   "source": [
    "# the histogram of training residuals\n",
    "\n",
    "pl_residual_hist(preds=train_preds, gt=train_labels,)"
   ]
  },
  {
   "cell_type": "code",
   "execution_count": null,
   "id": "dcca6a4e-6e10-4cf0-b342-e09584ef2c5c",
   "metadata": {},
   "outputs": [],
   "source": [
    "# we will move to Bayesian linear model later on "
   ]
  },
  {
   "cell_type": "code",
   "execution_count": null,
   "id": "97fc87f7-7df9-434b-9a58-d81c7c68dfa5",
   "metadata": {},
   "outputs": [],
   "source": []
  },
  {
   "cell_type": "markdown",
   "id": "89a5d63d-92b6-45ca-8f3a-3f2e51315e0a",
   "metadata": {
    "tags": []
   },
   "source": [
    "### a deterministic DNN model"
   ]
  },
  {
   "cell_type": "code",
   "execution_count": null,
   "id": "67b88c8d-df5b-4324-8e2b-bd9d8822d6d4",
   "metadata": {},
   "outputs": [],
   "source": [
    "dnn_model = build_and_compile_model(normalizer)\n",
    "dnn_model.summary()"
   ]
  },
  {
   "cell_type": "code",
   "execution_count": null,
   "id": "75b4fb85-037b-47a9-b750-b42a49f4d305",
   "metadata": {},
   "outputs": [],
   "source": [
    "%%time\n",
    "history = dnn_model.fit(\n",
    "    train_features,\n",
    "    train_labels,\n",
    "    # validation_split=0.2,\n",
    "    validation_data=(test_features, test_labels),\n",
    "    verbose=0,\n",
    "    epochs=300)"
   ]
  },
  {
   "cell_type": "code",
   "execution_count": null,
   "id": "92871d79-07c1-40d2-9fa2-2cd31db959f4",
   "metadata": {},
   "outputs": [],
   "source": [
    "plot_history_info(history)"
   ]
  },
  {
   "cell_type": "code",
   "execution_count": null,
   "id": "1f490df9-4bfc-486e-8e98-3616bb694fa7",
   "metadata": {},
   "outputs": [],
   "source": [
    "dnn_model.evaluate(test_features, test_labels)"
   ]
  },
  {
   "cell_type": "code",
   "execution_count": null,
   "id": "010ba378-b067-404d-94cd-28689e2bc28a",
   "metadata": {},
   "outputs": [],
   "source": [
    "dnn_model.summary()"
   ]
  },
  {
   "cell_type": "code",
   "execution_count": null,
   "id": "aa072cca-f26a-4194-8165-dbc418e3c1b9",
   "metadata": {},
   "outputs": [],
   "source": [
    "def feature_permutation(feature, X_test, y_test, model):\n",
    "    \"\"\" compute a list of permutation related to one feature\n",
    "    with multiple random permutations\n",
    "    \"\"\"\n",
    "    permutations = []\n",
    "    base_error = model.evaluate(X_test, y_test)[0]\n",
    "    \n",
    "    # loss be the first item ...\n",
    "    def loss_change(X, y, base):\n",
    "        return np.abs(model.evaluate(X, y, verbose=0)[0] - base)\n",
    "\n",
    "    # compute for 50 times ...\n",
    "    for i in tqdm.tqdm(np.arange(50)):\n",
    "        X_test[feature] = np.random.permutation(X_test[feature].values)\n",
    "        permutations.append(loss_change(X_test, y_test, base_error))\n",
    "    \n",
    "    return permutations"
   ]
  },
  {
   "cell_type": "code",
   "execution_count": null,
   "id": "cd54e115-4c61-46af-be90-e56daaab168f",
   "metadata": {},
   "outputs": [],
   "source": [
    "def feature_importance(X_test, y_test, model):\n",
    "    \"\"\" loop over all the features \"\"\"\n",
    "    \n",
    "    perms = [feature_permutation(col, X_test, y_test, model) for col in X_test.columns]\n",
    "    \n",
    "    means = [np.mean(perm) for perm in perms]\n",
    "    \n",
    "    fig, ax = plt.subplots()\n",
    "    ax.barh(X_test.columns, means)\n",
    "\n",
    "    ax.set_xlabel('feature importance (loss:mse)')"
   ]
  },
  {
   "cell_type": "code",
   "execution_count": null,
   "id": "8e2819a3-90b0-41a4-959d-d4cc16a261c4",
   "metadata": {},
   "outputs": [],
   "source": [
    "# example of computing the permutation of only one feature\n",
    "aggrement_pers = feature_permutation(\n",
    "    feature='agreement', \n",
    "    X_test=X_test, \n",
    "    y_test=y_test, \n",
    "    model=DNN_model)"
   ]
  },
  {
   "cell_type": "code",
   "execution_count": null,
   "id": "b371fd76-e264-48a3-832e-17d56de4c322",
   "metadata": {},
   "outputs": [],
   "source": [
    "\n",
    "with plt.style.context('fivethirtyeight'):\n",
    "    feature_importance( \n",
    "    X_test=X_test, \n",
    "    y_test=y_test, \n",
    "    model=DNN_model)\n",
    "save2Vis('Eng_nn_feature_impor')"
   ]
  },
  {
   "cell_type": "markdown",
   "id": "a66950f9-7832-422e-a714-f72cad0815d4",
   "metadata": {
    "jp-MarkdownHeadingCollapsed": true,
    "tags": []
   },
   "source": [
    "### an aleatoric DNN model that computes `data noise`"
   ]
  },
  {
   "cell_type": "code",
   "execution_count": null,
   "id": "33c18004-7f3c-4e4d-9fa0-a3cdbad7bb2d",
   "metadata": {},
   "outputs": [],
   "source": [
    "aleatoric_model = create_and_compile_aleatoric_model(\n",
    "                        input_shape = 5, \n",
    "                        norm = normalizer)"
   ]
  },
  {
   "cell_type": "code",
   "execution_count": null,
   "id": "e2caf409-0666-42ee-a9c6-1877b7bbec85",
   "metadata": {},
   "outputs": [],
   "source": [
    "history_aleatoric = aleatoric_model.fit(\n",
    "    train_features,\n",
    "    train_labels,\n",
    "    # validation_split=0.2,\n",
    "    validation_data=(test_features, test_labels),\n",
    "    verbose=0,\n",
    "    epochs=300)"
   ]
  },
  {
   "cell_type": "code",
   "execution_count": null,
   "id": "4e71fb07-b520-48b8-9a78-70bd802010eb",
   "metadata": {},
   "outputs": [],
   "source": [
    "plot_history_info(history_aleatoric)"
   ]
  },
  {
   "cell_type": "code",
   "execution_count": null,
   "id": "52d59e8f-277d-442a-b914-8fb6a5f77b06",
   "metadata": {},
   "outputs": [],
   "source": [
    "# # changing between calls\n",
    "# aleatoric_model.evaluate(test_features, test_labels)"
   ]
  },
  {
   "cell_type": "code",
   "execution_count": null,
   "id": "3cf39e29-3d6b-40ef-afeb-78710a3aadea",
   "metadata": {},
   "outputs": [],
   "source": [
    "aleatoric = AleatoricPredict(test_features, test_labels)"
   ]
  },
  {
   "cell_type": "code",
   "execution_count": null,
   "id": "3a2d3b42-4a1e-4351-be2e-e3a96aaafc34",
   "metadata": {},
   "outputs": [],
   "source": [
    "aleatoric.predict_dist(model=aleatoric_model)"
   ]
  },
  {
   "cell_type": "code",
   "execution_count": null,
   "id": "226b8fb7-0aa7-40a3-aa8b-092edb3f8a57",
   "metadata": {},
   "outputs": [],
   "source": [
    "val_performance['aleatoric_model'] = aleatoric.cp_metrics()"
   ]
  },
  {
   "cell_type": "code",
   "execution_count": null,
   "id": "5c828fc7-3268-4da9-8f4c-6b6adf579080",
   "metadata": {},
   "outputs": [],
   "source": [
    "aleatoric.pl_aleatoric_uncertainty(val_x_axis)\n",
    "# save2Vis('DNN_aleatoric')"
   ]
  },
  {
   "cell_type": "markdown",
   "id": "b316c205-5b4c-460e-9ba8-8139210493a0",
   "metadata": {
    "jp-MarkdownHeadingCollapsed": true,
    "tags": []
   },
   "source": [
    "### Flipout model"
   ]
  },
  {
   "cell_type": "code",
   "execution_count": null,
   "id": "ea8b6861-ec3d-4f4f-ad1e-4e76ab9efbb3",
   "metadata": {},
   "outputs": [],
   "source": [
    "flipout_model = BDNN_flipout(N=200, norm=normalizer)"
   ]
  },
  {
   "cell_type": "code",
   "execution_count": null,
   "id": "3faeb2ed-96b5-4df7-a0e4-18ee2d707ca4",
   "metadata": {},
   "outputs": [],
   "source": [
    "flipout_model.compile(\n",
    "    loss=nll, \n",
    "    optimizer='RMSprop',\n",
    "    metrics=[tf.keras.metrics.MeanAbsoluteError(name='mae'),\n",
    "            tf.keras.metrics.MeanAbsolutePercentageError(name='mape')])\n",
    "\n",
    "history_flipout = flipout_model.fit(\n",
    "                    train_features,\n",
    "                    train_labels,\n",
    "                    epochs=300,\n",
    "                    # validation_split=0.2,\n",
    "                    validation_data=(train_features, train_labels),\n",
    "                    verbose=0)"
   ]
  },
  {
   "cell_type": "code",
   "execution_count": null,
   "id": "11d07ade-e92c-4596-8d30-a8801d582081",
   "metadata": {},
   "outputs": [],
   "source": [
    "plot_history_info(history_flipout)\n",
    "# save2Vis('learning_curveBDNN')"
   ]
  },
  {
   "cell_type": "code",
   "execution_count": null,
   "id": "4b188988-0447-40e1-963a-9f59fcb36043",
   "metadata": {},
   "outputs": [],
   "source": [
    "# # Bayesian changing each time\n",
    "# flipout_model.evaluate(train_features, train_labels)"
   ]
  },
  {
   "cell_type": "code",
   "execution_count": null,
   "id": "8963ac0c-af9a-4974-9839-095ecf311f33",
   "metadata": {},
   "outputs": [],
   "source": [
    "ensemble = EnsemblePredict(ensemble_size=300, test_features = test_features, test_labels=test_labels)"
   ]
  },
  {
   "cell_type": "code",
   "execution_count": null,
   "id": "6844a36c-b4da-4756-82da-97fe80768cc9",
   "metadata": {},
   "outputs": [],
   "source": [
    "# epistemic uncertainty compute the ensemble times of conditional mean \n",
    "ensemble.mc_predict_test_set(model=flipout_model)"
   ]
  },
  {
   "cell_type": "code",
   "execution_count": null,
   "id": "03c438f2-2c4b-4908-a063-32f20d6ae491",
   "metadata": {},
   "outputs": [],
   "source": [
    "# plot the epistemic uncertainty \n",
    "ensemble.pl_epistemic(val_x_axis = val_x_axis)"
   ]
  },
  {
   "cell_type": "code",
   "execution_count": null,
   "id": "3a19ed22-018b-49be-bcc1-c3007025911c",
   "metadata": {},
   "outputs": [],
   "source": [
    "ensemble.pl_residual_B(low=2, limit=3)\n",
    "# save2Vis('residual_plot')"
   ]
  },
  {
   "cell_type": "code",
   "execution_count": null,
   "id": "194f228b-2083-4770-9000-de487359149d",
   "metadata": {},
   "outputs": [],
   "source": [
    "ensemble.pl_epistemic_ts(dataset=dataset)\n",
    "# save2Vis('BDNN_epistemic_uncertainty')"
   ]
  },
  {
   "cell_type": "code",
   "execution_count": null,
   "id": "98e77cf0-fb1d-4241-a250-d897f4330c1d",
   "metadata": {},
   "outputs": [],
   "source": [
    "val_performance['flipout_model'] = ensemble.cp_ensemble_metrics()"
   ]
  },
  {
   "cell_type": "code",
   "execution_count": null,
   "id": "d1dde8c7-7d8a-49ef-b471-37fd75cafd2e",
   "metadata": {},
   "outputs": [],
   "source": [
    "val_performance['flipout_model']"
   ]
  },
  {
   "cell_type": "code",
   "execution_count": null,
   "id": "8cc23a9e-07de-4ee4-adbb-fb13fc05aa4a",
   "metadata": {},
   "outputs": [],
   "source": [
    "# mixed uncertainty: compute the distribution objects throughout the test set for \n",
    "\n",
    "ensemble.cp_ensemble_testset(flipout_model)"
   ]
  },
  {
   "cell_type": "code",
   "execution_count": null,
   "id": "25ae8d51-e740-4a43-ae55-3f29654a211e",
   "metadata": {},
   "outputs": [],
   "source": [
    "# compute the GMM bounds given dist objects\n",
    "\n",
    "PI_dp_bounds_all_list = ensemble.get_PI_bounds_testset(style='gmm')"
   ]
  },
  {
   "cell_type": "code",
   "execution_count": null,
   "id": "eea92886-12a1-4a22-aee3-e4db7662a079",
   "metadata": {},
   "outputs": [],
   "source": [
    "PI_dp_bounds_all_list[0].mean"
   ]
  },
  {
   "cell_type": "code",
   "execution_count": null,
   "id": "d91a63ac-1434-48e1-9df4-b5670fa11ca3",
   "metadata": {},
   "outputs": [],
   "source": [
    "ensemble.mixed_uncertainty_PI(dataset, PI_dp_bounds_all_list, val_x_axis)\n",
    "# save2Vis('mixed_uncertainty')"
   ]
  },
  {
   "cell_type": "markdown",
   "id": "5a0b694c-61b4-4dec-8eb5-b370a5d9547d",
   "metadata": {
    "jp-MarkdownHeadingCollapsed": true,
    "tags": []
   },
   "source": [
    "### `PYMC` Bayesian linear regression model"
   ]
  },
  {
   "cell_type": "code",
   "execution_count": null,
   "id": "2e3ec644-2694-41e7-a22a-717b9fa079b3",
   "metadata": {},
   "outputs": [],
   "source": [
    "RANDOM_SEED = 9527\n",
    "rng = np.random.default_rng(RANDOM_SEED)"
   ]
  },
  {
   "cell_type": "code",
   "execution_count": null,
   "id": "57d01cfc-b122-4da8-978e-16d8ce7055ca",
   "metadata": {},
   "outputs": [],
   "source": [
    "# normalized features\n",
    "n_train_features, n_test_features, train_labels, test_labels = base_process_data(dataset=dataset, split_index=200, normalize=True)"
   ]
  },
  {
   "cell_type": "code",
   "execution_count": null,
   "id": "eb05dfd7-79ab-48e9-a65d-f74f19fbf138",
   "metadata": {},
   "outputs": [],
   "source": [
    "train_labels.shape"
   ]
  },
  {
   "cell_type": "code",
   "execution_count": null,
   "id": "a1e3efe5-f6b8-429f-bc51-a71287b813bc",
   "metadata": {},
   "outputs": [],
   "source": [
    "n_train_features.shape"
   ]
  },
  {
   "cell_type": "code",
   "execution_count": null,
   "id": "cb09b900-4abd-494b-b14c-1134710c3955",
   "metadata": {},
   "outputs": [],
   "source": [
    "with Model() as model:  # model specifications in PyMC are wrapped in a with-statement\n",
    "    # Define priors\n",
    "    sigma = Normal(\"sigma\", 0, sigma=10)\n",
    "    \n",
    "    b1 = Normal(\"media1_S\", 0, sigma=1)\n",
    "    b2 = Normal(\"media2_S\", 0, sigma=1)\n",
    "    b3 = Normal(\"media3_S\", 0, sigma=1)\n",
    "    b_cs = Normal(\"competitor_sales\", 0, sigma=1)\n",
    "    b_nl = Normal(\"newsletter\", 0, sigma=1)\n",
    "    bias = Normal(\"bias\", 0, sigma=1)\n",
    "\n",
    "    # Define likelihood\n",
    "    likelihood = Normal(\"revenue\", \n",
    "                        mu = bias +b1*n_train_features[:,0]+b2*n_train_features[:,1]+b3*n_train_features[:,2]+b_cs*n_train_features[:,3]+b_nl*n_train_features[:,4], \n",
    "                        sigma=sigma, \n",
    "                        observed=train_labels)\n",
    "\n",
    "    # Inference!\n",
    "    # draw 3000 posterior samples using NUTS sampling\n",
    "    idata = sample(5000)"
   ]
  },
  {
   "cell_type": "code",
   "execution_count": null,
   "id": "35cff8a2-bf97-4b45-8ace-eedf011d7dbb",
   "metadata": {},
   "outputs": [],
   "source": [
    "az.plot_trace(idata, combined=True, figsize=(12, 24));"
   ]
  },
  {
   "cell_type": "code",
   "execution_count": null,
   "id": "f81473a1-6140-43c0-92e3-cc937bc79ac7",
   "metadata": {},
   "outputs": [],
   "source": [
    "idata"
   ]
  },
  {
   "cell_type": "markdown",
   "id": "3b01c1a6-ea6e-4d8a-a479-3f84ec78099b",
   "metadata": {
    "tags": []
   },
   "source": [
    "## temporal models\n",
    "\n",
    "I'll try a `Bayesian LSTM model` first and a few some other state-of-the-art alternatives for illustration.\n",
    "\n",
    "Note that this will have a different processing procedure than base models."
   ]
  },
  {
   "cell_type": "code",
   "execution_count": null,
   "id": "5d3537ee-5db7-496b-aee2-d7c62c0e9a62",
   "metadata": {},
   "outputs": [],
   "source": [
    "dataset.head()"
   ]
  },
  {
   "cell_type": "code",
   "execution_count": null,
   "id": "7492e7fe-4ba6-44f5-9b94-ced36f9f0de4",
   "metadata": {},
   "outputs": [],
   "source": [
    "''' for plotting of `periodicity` '''\n",
    "\n",
    "index_time = np.arange(1, len(dataset)+1)\n",
    "\n",
    "# back-up\n",
    "monthly = sin_transformer(period=4, x=index_time)\n",
    "yearly = sin_transformer(period=4*12, x=index_time)\n",
    "\n",
    "# periodicity display\n",
    "\n",
    "fig, ax = plt.subplots()\n",
    "ax.plot(monthly, label = 'monthly periodicity')\n",
    "ax.plot(dataset['revenue'], label='revenue in millions')\n",
    "ax.plot(yearly, label = 'yearly periodicity')\n",
    "\n",
    "ax.set_xlabel('Time')\n",
    "ax.set_ylabel('Revenue')\n",
    "ax.legend()\n",
    "ax.set_xlim([0, 200])\n",
    "# save2Vis('periodicity')"
   ]
  },
  {
   "cell_type": "code",
   "execution_count": null,
   "id": "7c3e03be-9065-4c8a-871d-9a7c02d21eb4",
   "metadata": {},
   "outputs": [],
   "source": [
    "from darts import TimeSeries\n",
    "from darts.utils.statistics import plot_acf, check_seasonality"
   ]
  },
  {
   "cell_type": "code",
   "execution_count": null,
   "id": "b0c44572-5fd9-4b93-b624-7fbae77a3fa0",
   "metadata": {},
   "outputs": [],
   "source": [
    "ts_revenue = TimeSeries.from_series(dataset['revenue']) "
   ]
  },
  {
   "cell_type": "code",
   "execution_count": null,
   "id": "cdd39991-0017-476b-ad3c-ec91ea285e3f",
   "metadata": {},
   "outputs": [],
   "source": [
    "plt.figure()\n",
    "ts_revenue.plot()"
   ]
  },
  {
   "cell_type": "code",
   "execution_count": null,
   "id": "506a4170-6ca0-47de-ac80-f3451787ce81",
   "metadata": {},
   "outputs": [],
   "source": [
    "plot_acf(ts_revenue, m=48, alpha=0.05, max_lag=60)"
   ]
  },
  {
   "cell_type": "code",
   "execution_count": null,
   "id": "b13ac9b2-73a2-4655-9b56-5a50ec43a084",
   "metadata": {},
   "outputs": [],
   "source": [
    "for m in range(2, 52):\n",
    "    is_seasonal, period = check_seasonality(ts_revenue, m=m, alpha=0.05, max_lag=60)\n",
    "    if is_seasonal:\n",
    "        print(\"There is seasonality of order {}.\".format(period))"
   ]
  },
  {
   "cell_type": "code",
   "execution_count": null,
   "id": "09b4a581-7e43-44ab-bc91-27b08a5bc8ff",
   "metadata": {},
   "outputs": [],
   "source": [
    "train_df, val_df = temporal_process_data(dataset, split_index=200)"
   ]
  },
  {
   "cell_type": "code",
   "execution_count": null,
   "id": "5be2e127-278d-4e6e-87f9-6db47bf14644",
   "metadata": {},
   "outputs": [],
   "source": [
    "# weekly context length\n",
    "context_length = 4\n",
    "\n",
    "cr_window = WindowGenerator(\n",
    "    input_width=context_length,\n",
    "    label_width=1,\n",
    "    shift=1,\n",
    "    label_columns=['revenue'], \n",
    "    train_df=train_df,\n",
    "    val_df = val_df)\n",
    "\n",
    "cr_window"
   ]
  },
  {
   "cell_type": "code",
   "execution_count": null,
   "id": "f8ee405d-a3dc-4823-8de9-871cd0443e04",
   "metadata": {},
   "outputs": [],
   "source": [
    "print(\"shape hint:\")\n",
    "print(\"input shape:\", cr_window.example[0].shape)\n",
    "print(\"output shape:\", cr_window.example[1].shape)"
   ]
  },
  {
   "cell_type": "code",
   "execution_count": null,
   "id": "4d01e24d-46d0-4d36-8f5a-d3c46f799fc4",
   "metadata": {},
   "outputs": [],
   "source": [
    "# check the seasonality with ACF "
   ]
  },
  {
   "cell_type": "markdown",
   "id": "aca130a0-4427-410c-9253-bd6d5232423f",
   "metadata": {
    "jp-MarkdownHeadingCollapsed": true,
    "tags": []
   },
   "source": [
    "#### a comparative DNN test"
   ]
  },
  {
   "cell_type": "code",
   "execution_count": null,
   "id": "dd3f8d07-2b61-4db1-86a1-92a12d357b4c",
   "metadata": {},
   "outputs": [],
   "source": [
    "def DNN_wo_normalization():\n",
    "    model = tf.keras.Sequential([\n",
    "      tf.keras.layers.Dense(16, activation='relu'),\n",
    "      tf.keras.layers.Dense(2, activation='relu'),\n",
    "      tf.keras.layers.Dense(1)\n",
    "    ])\n",
    "    return model"
   ]
  },
  {
   "cell_type": "code",
   "execution_count": null,
   "id": "498351a5-4827-4942-a24e-1de51104d1c6",
   "metadata": {},
   "outputs": [],
   "source": [
    "DNN_wn = DNN_wo_normalization()"
   ]
  },
  {
   "cell_type": "code",
   "execution_count": null,
   "id": "d91f9d56-e278-48ef-a323-0023af75a574",
   "metadata": {},
   "outputs": [],
   "source": [
    "history = compile_and_fit_lstm(\n",
    "    model = DNN_wn, \n",
    "    loss = tf.keras.losses.MeanSquaredError(), \n",
    "    window=cr_window, \n",
    "    EPOCHS = 300,\n",
    "    VERBOSE = 0)"
   ]
  },
  {
   "cell_type": "code",
   "execution_count": null,
   "id": "b476b78d-c529-4a8c-ac68-bbed2d6bc883",
   "metadata": {},
   "outputs": [],
   "source": [
    "dnn_result_dict = cp_val(DNN_wn, cr_window, train_df, val_df)"
   ]
  },
  {
   "cell_type": "markdown",
   "id": "7855e44f-092c-4771-a258-5f69a4676be9",
   "metadata": {
    "tags": []
   },
   "source": [
    "### deterministic LSTM"
   ]
  },
  {
   "cell_type": "code",
   "execution_count": null,
   "id": "111dc06e-c8e1-47ca-b92f-ee2772aa27a9",
   "metadata": {},
   "outputs": [],
   "source": [
    "# get a LSTM model herein\n",
    "\n",
    "lstm_model = build_lstm()"
   ]
  },
  {
   "cell_type": "code",
   "execution_count": null,
   "id": "ad9a31f7-8209-429b-88c0-44312d26d2bb",
   "metadata": {},
   "outputs": [],
   "source": [
    "history = compile_and_fit_lstm(\n",
    "    model = lstm_model, \n",
    "    loss = tf.keras.losses.MeanSquaredError(), \n",
    "    window=cr_window, \n",
    "    EPOCHS=300,\n",
    "    VERBOSE=0)"
   ]
  },
  {
   "cell_type": "code",
   "execution_count": null,
   "id": "e2519e83-184c-4659-984e-5d8a7bd80402",
   "metadata": {},
   "outputs": [],
   "source": [
    "plot_history_info(history)"
   ]
  },
  {
   "cell_type": "code",
   "execution_count": null,
   "id": "8fd43575-4826-4271-a5d7-8b3fba6de80c",
   "metadata": {},
   "outputs": [],
   "source": [
    "# # # this may not work due to the very small size of val data\n",
    "# lstm_model.evaluate(cr_window.val)"
   ]
  },
  {
   "cell_type": "code",
   "execution_count": null,
   "id": "2b1aa48b-f22e-4dd5-b31e-b9655036bc8c",
   "metadata": {},
   "outputs": [],
   "source": [
    "val_performance['lstm_model'] = cr_window.cp_val_lstm_mcdropout_oneshot(lstm_model)\n",
    "val_performance['lstm_model']"
   ]
  },
  {
   "cell_type": "markdown",
   "id": "9eafcdfd-3eb5-4bfc-98da-26639074e76b",
   "metadata": {
    "tags": []
   },
   "source": [
    "### Stochastic Regularisation technique"
   ]
  },
  {
   "cell_type": "code",
   "execution_count": null,
   "id": "d9345965-41d6-45b5-ba2d-ddfea14614f8",
   "metadata": {},
   "outputs": [],
   "source": [
    "tf.keras.backend.clear_session()"
   ]
  },
  {
   "cell_type": "code",
   "execution_count": null,
   "id": "0e062fad-0c80-4ba1-a36a-fd7531826dd4",
   "metadata": {},
   "outputs": [],
   "source": [
    "lstm_SRT = lstm_SRT(units=16)"
   ]
  },
  {
   "cell_type": "code",
   "execution_count": null,
   "id": "6778beb4-f15f-4dbe-aa9f-86c794a0504d",
   "metadata": {},
   "outputs": [],
   "source": [
    "history_Blstm2 = compile_and_fit_lstm(\n",
    "    model=lstm_SRT, \n",
    "    window = cr_window, \n",
    "    loss = 'mse', \n",
    "    EPOCHS=300,\n",
    "    VERBOSE=0)"
   ]
  },
  {
   "cell_type": "code",
   "execution_count": null,
   "id": "dbd4028c-15d9-4076-b14d-d8c4ac925278",
   "metadata": {},
   "outputs": [],
   "source": [
    "cr_window.cp_val_lstm_mcdropout_oneshot(model=lstm_SRT)"
   ]
  },
  {
   "cell_type": "code",
   "execution_count": null,
   "id": "cb1b4dc2-3e23-4052-9591-cd45db50544e",
   "metadata": {},
   "outputs": [],
   "source": [
    "ensemble_results, val_performance['Blstm_model'] = cr_window.cp_val_B(\n",
    "    model=lstm_SRT, ensemble_size=100, style='mc_dropout')"
   ]
  },
  {
   "cell_type": "code",
   "execution_count": null,
   "id": "882116e2-6807-4863-b3aa-08a681147e77",
   "metadata": {},
   "outputs": [],
   "source": [
    "val_performance['Blstm_model']"
   ]
  },
  {
   "cell_type": "code",
   "execution_count": null,
   "id": "8b58c73b-8297-4d2a-86a6-9d6cc2b73798",
   "metadata": {},
   "outputs": [],
   "source": [
    "cr_window.display_lstm_val(ensemble_results, val_x_axis)\n",
    "save2Vis('BLSTM_epistemic_uncertainty')"
   ]
  },
  {
   "cell_type": "markdown",
   "id": "6462d2cb-d5d8-476e-9276-5983feb9761c",
   "metadata": {
    "jp-MarkdownHeadingCollapsed": true,
    "tags": []
   },
   "source": [
    "### svi LSTM model"
   ]
  },
  {
   "cell_type": "code",
   "execution_count": null,
   "id": "78840f48-12c8-43d7-88f5-3abf60b058b5",
   "metadata": {},
   "outputs": [],
   "source": [
    "B_lstm_model = build_BLSTM_svi(latent_dim=64, KL_scaling_factor=200)"
   ]
  },
  {
   "cell_type": "code",
   "execution_count": null,
   "id": "cd8ab495-e62c-4d40-ab21-af8c2bb1ccba",
   "metadata": {},
   "outputs": [],
   "source": [
    "history_Blstm = compile_and_fit_lstm(\n",
    "    model=B_lstm_model, \n",
    "    window = cr_window, \n",
    "    loss = nll, \n",
    "    EPOCHS=500,\n",
    "    VERBOSE=0)"
   ]
  },
  {
   "cell_type": "code",
   "execution_count": null,
   "id": "d3feee4d-8838-428a-8ef4-8c5d38f49805",
   "metadata": {},
   "outputs": [],
   "source": [
    "plot_history_info(history_Blstm)"
   ]
  },
  {
   "cell_type": "code",
   "execution_count": null,
   "id": "ae9f2885-e91a-4be0-863a-30de51aa8780",
   "metadata": {},
   "outputs": [],
   "source": [
    "# check the input \n",
    "for ex_input, ex_output in cr_window.val.take(1):\n",
    "    print(\"training dp input:\", ex_input.shape)\n",
    "    print(\"training dp output:\", ex_output.shape)"
   ]
  },
  {
   "cell_type": "code",
   "execution_count": null,
   "id": "ba997e48-23ee-4ac1-9d81-8efa11774cd2",
   "metadata": {},
   "outputs": [],
   "source": [
    "ensemble_results = cr_window.cp_val(model = B_lstm_model, ensemble_size=300)"
   ]
  },
  {
   "cell_type": "code",
   "execution_count": null,
   "id": "5044a0eb-900d-491f-8bb6-4bccf6b88bb8",
   "metadata": {},
   "outputs": [],
   "source": [
    "# specifically, now the gt value is the normalized 'revenue' shown only in `val_df`"
   ]
  },
  {
   "cell_type": "code",
   "execution_count": null,
   "id": "73f14793-7176-403a-aa2c-6541af7d7b74",
   "metadata": {},
   "outputs": [],
   "source": [
    "# add the predictions then \n",
    "fig, ax = plt.subplots()\n",
    "ax.scatter(val_x_axis, val_df['revenue'], color='r', marker='o')\n",
    "ax.scatter(val_x_axis, test_preds, color='b', marker='x')\n",
    "# plt.xlim([0, 4])"
   ]
  }
 ],
 "metadata": {
  "kernelspec": {
   "display_name": "Python 3 (ipykernel)",
   "language": "python",
   "name": "python3"
  },
  "language_info": {
   "codemirror_mode": {
    "name": "ipython",
    "version": 3
   },
   "file_extension": ".py",
   "mimetype": "text/x-python",
   "name": "python",
   "nbconvert_exporter": "python",
   "pygments_lexer": "ipython3",
   "version": "3.8.13"
  },
  "toc-autonumbering": true
 },
 "nbformat": 4,
 "nbformat_minor": 5
}
