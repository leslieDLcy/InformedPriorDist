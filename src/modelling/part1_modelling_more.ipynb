{
 "cells": [
  {
   "cell_type": "code",
   "execution_count": 1,
   "id": "bb6a3413-e7f9-494d-904b-d030aac62b89",
   "metadata": {},
   "outputs": [
    {
     "data": {
      "text/plain": [
       "' revenue in millions '"
      ]
     },
     "execution_count": 1,
     "metadata": {},
     "output_type": "execute_result"
    }
   ],
   "source": [
    "\"\"\" revenue in millions \"\"\""
   ]
  },
  {
   "cell_type": "code",
   "execution_count": 2,
   "id": "388222da-c05e-497f-8814-2a566dd4beef",
   "metadata": {},
   "outputs": [],
   "source": [
    "import tqdm\n",
    "import os\n",
    "import pathlib\n",
    "import matplotlib.pyplot as plt\n",
    "import numpy as np\n",
    "import pandas as pd\n",
    "import seaborn as sns\n",
    "import tensorflow as tf\n",
    "from tensorflow import keras\n",
    "from tensorflow.keras import layers\n",
    "from tensorflow.keras.layers.experimental import preprocessing"
   ]
  },
  {
   "cell_type": "code",
   "execution_count": 3,
   "id": "328c30b6-6831-4de2-8155-e945b7899120",
   "metadata": {},
   "outputs": [
    {
     "name": "stdout",
     "output_type": "stream",
     "text": [
      "2.8.0\n"
     ]
    }
   ],
   "source": [
    "print(tf.__version__)"
   ]
  },
  {
   "cell_type": "code",
   "execution_count": 4,
   "id": "36b39ba4-0722-4fff-bb07-ed6c686b2f4d",
   "metadata": {},
   "outputs": [],
   "source": [
    "import tensorflow_probability as tfp\n",
    "tfd = tfp.distributions\n",
    "tfpl = tfp.layers\n",
    "from keras.models import Sequential"
   ]
  },
  {
   "cell_type": "code",
   "execution_count": 5,
   "id": "6704350a-2d1e-4898-afa2-a6056eb60c33",
   "metadata": {},
   "outputs": [],
   "source": [
    "from utils import cd_root_dir, sin_transformer, cos_transformer, save2Vis, pl_residual, pl_residual_horizontal, pl_residual_hist\n",
    "from modules import pl_preds_uncertainty, plot_history_info, EnsemblePredict, cp_dp_PI_bound, show_dist, AleatoricPredict\n",
    "from models import build_and_compile_model, create_and_compile_aleatoric_model, build_lstm, compile_and_fit_lstm, build_BLSTM_svi\n",
    "from pipeline import import_data, base_process_data, feature_normalization, ensemble_predict, temporal_process_data\n",
    "from windowing import WindowGenerator\n",
    "from models import sg_prior, nll, BDNN_svi, BDNN_flipout, build_BLSTM_svi2, lstm_SRT, buildNcompile_linear"
   ]
  },
  {
   "cell_type": "code",
   "execution_count": 6,
   "id": "5e1320ca-86c4-447f-b1a2-4fde49bb4bf2",
   "metadata": {},
   "outputs": [
    {
     "name": "stderr",
     "output_type": "stream",
     "text": [
      "WARNING (pytensor.tensor.blas): Using NumPy C-API based implementation for BLAS functions.\n"
     ]
    },
    {
     "name": "stdout",
     "output_type": "stream",
     "text": [
      "Running on PyMC v5.6.1\n"
     ]
    }
   ],
   "source": [
    "import arviz as az\n",
    "import matplotlib.pyplot as plt\n",
    "import numpy as np\n",
    "import pandas as pd\n",
    "import pymc as pm\n",
    "import xarray as xr\n",
    "\n",
    "from pymc import HalfCauchy, Model, Normal, sample\n",
    "\n",
    "print(f\"Running on PyMC v{pm.__version__}\")"
   ]
  },
  {
   "cell_type": "code",
   "execution_count": 7,
   "id": "513de658-fdd7-485e-ad94-b5afa1986757",
   "metadata": {},
   "outputs": [],
   "source": [
    "# set up a global plt style for the script\n",
    "# plt.style.use('classic')\n",
    "plt.rcParams.update({\n",
    "        \"font.size\": 9,\n",
    "        \"text.usetex\": True,\n",
    "        \"font.family\": \"serif\",\n",
    "        \"figure.figsize\": (4, 3),\n",
    "        \"legend.fontsize\": 'medium',\n",
    "        })"
   ]
  },
  {
   "cell_type": "code",
   "execution_count": 8,
   "id": "a38a8244-97f1-4677-988c-3d4d48b0ee7d",
   "metadata": {},
   "outputs": [],
   "source": [
    "%matplotlib widget\n",
    "%load_ext rich"
   ]
  },
  {
   "cell_type": "code",
   "execution_count": 9,
   "id": "f85e5c28-1cb4-4b33-92cc-b7e7bce597fc",
   "metadata": {},
   "outputs": [],
   "source": [
    "%load_ext autoreload\n",
    "%autoreload 2"
   ]
  },
  {
   "cell_type": "code",
   "execution_count": 10,
   "id": "3c35a0d0-e925-4f69-8637-1df31bd71b71",
   "metadata": {},
   "outputs": [],
   "source": [
    "tf.random.set_seed(9527)"
   ]
  },
  {
   "cell_type": "code",
   "execution_count": 11,
   "id": "e6902634-6ab0-4cfa-a74b-fc359c6e604c",
   "metadata": {},
   "outputs": [
    {
     "name": "stdout",
     "output_type": "stream",
     "text": [
      "current directory: /home/yuchen/work_leslie/KTP_Croud\n"
     ]
    }
   ],
   "source": [
    "cd_root_dir()"
   ]
  },
  {
   "cell_type": "code",
   "execution_count": 12,
   "id": "144abedd-8edd-4ebc-a4ab-7c8a5d28db1e",
   "metadata": {},
   "outputs": [],
   "source": [
    "# dummy xaxis \n",
    "val_x_axis = np.arange(200, 208)"
   ]
  },
  {
   "cell_type": "markdown",
   "id": "50073f0d-36d0-4eb9-9d41-1bea9f0afc41",
   "metadata": {
    "jp-MarkdownHeadingCollapsed": true,
    "tags": []
   },
   "source": [
    "# import the data"
   ]
  },
  {
   "cell_type": "code",
   "execution_count": 14,
   "id": "ab638360-fad1-4a33-ac4b-0814d3817a7f",
   "metadata": {},
   "outputs": [],
   "source": [
    "# import the data and get the time axis !\n",
    "dataset, time_axis = import_data(path='data/raw/weekly_media_sample.csv')"
   ]
  },
  {
   "cell_type": "code",
   "execution_count": 15,
   "id": "2a1ee0c8-9bbf-4b26-a2d0-30f3baa4ae04",
   "metadata": {},
   "outputs": [],
   "source": [
    "time_axis = pd.to_datetime(time_axis, format='%d/%m/%Y')"
   ]
  },
  {
   "cell_type": "code",
   "execution_count": 16,
   "id": "f7e759cc-8e53-417e-ac9a-701f5daad36c",
   "metadata": {},
   "outputs": [],
   "source": [
    "# plot the val results\n",
    "val_x_axis = np.arange(200, 208)"
   ]
  },
  {
   "cell_type": "code",
   "execution_count": 17,
   "id": "1c903070-4437-4c59-8a16-a3edf520329d",
   "metadata": {},
   "outputs": [
    {
     "data": {
      "text/html": [
       "<div>\n",
       "<style scoped>\n",
       "    .dataframe tbody tr th:only-of-type {\n",
       "        vertical-align: middle;\n",
       "    }\n",
       "\n",
       "    .dataframe tbody tr th {\n",
       "        vertical-align: top;\n",
       "    }\n",
       "\n",
       "    .dataframe thead th {\n",
       "        text-align: right;\n",
       "    }\n",
       "</style>\n",
       "<table border=\"1\" class=\"dataframe\">\n",
       "  <thead>\n",
       "    <tr style=\"text-align: right;\">\n",
       "      <th></th>\n",
       "      <th>revenue</th>\n",
       "      <th>media1_S</th>\n",
       "      <th>media2_S</th>\n",
       "      <th>media3_S</th>\n",
       "      <th>competitor_sales</th>\n",
       "      <th>newsletter</th>\n",
       "    </tr>\n",
       "  </thead>\n",
       "  <tbody>\n",
       "    <tr>\n",
       "      <th>203</th>\n",
       "      <td>2456240.000</td>\n",
       "      <td>0.0</td>\n",
       "      <td>153723.66670</td>\n",
       "      <td>0.0000</td>\n",
       "      <td>7612762</td>\n",
       "      <td>28157.00</td>\n",
       "    </tr>\n",
       "    <tr>\n",
       "      <th>204</th>\n",
       "      <td>2182825.000</td>\n",
       "      <td>154917.6</td>\n",
       "      <td>0.00000</td>\n",
       "      <td>133624.5755</td>\n",
       "      <td>6701667</td>\n",
       "      <td>10644.00</td>\n",
       "    </tr>\n",
       "    <tr>\n",
       "      <th>205</th>\n",
       "      <td>2377706.667</td>\n",
       "      <td>21982.5</td>\n",
       "      <td>17476.00000</td>\n",
       "      <td>0.0000</td>\n",
       "      <td>7688920</td>\n",
       "      <td>9597.00</td>\n",
       "    </tr>\n",
       "    <tr>\n",
       "      <th>206</th>\n",
       "      <td>2732825.000</td>\n",
       "      <td>22453.0</td>\n",
       "      <td>24051.33333</td>\n",
       "      <td>0.0000</td>\n",
       "      <td>8815710</td>\n",
       "      <td>90189.00</td>\n",
       "    </tr>\n",
       "    <tr>\n",
       "      <th>207</th>\n",
       "      <td>2767788.333</td>\n",
       "      <td>0.0</td>\n",
       "      <td>0.00000</td>\n",
       "      <td>366190.7594</td>\n",
       "      <td>9067759</td>\n",
       "      <td>19401.65</td>\n",
       "    </tr>\n",
       "  </tbody>\n",
       "</table>\n",
       "</div>"
      ]
     },
     "execution_count": 17,
     "metadata": {},
     "output_type": "execute_result"
    }
   ],
   "source": [
    "dataset.tail()"
   ]
  },
  {
   "cell_type": "markdown",
   "id": "b2360dad-ab93-489e-873b-73138fe0fb49",
   "metadata": {
    "jp-MarkdownHeadingCollapsed": true,
    "tags": []
   },
   "source": [
    "# Explanatory of dataset"
   ]
  },
  {
   "cell_type": "code",
   "execution_count": null,
   "id": "52f6b118-5982-4bf7-bb32-e6031e6fe178",
   "metadata": {},
   "outputs": [],
   "source": [
    "dataset.describe().transpose()"
   ]
  },
  {
   "cell_type": "code",
   "execution_count": null,
   "id": "00bf5bc0-a22b-4a2b-b730-90b7fedab3c4",
   "metadata": {},
   "outputs": [],
   "source": [
    "# correlation\n",
    "\n",
    "sns.set_theme(style=\"white\")\n",
    "corr = dataset.corr()\n",
    "mask = np.triu(corr)\n",
    "f, ax = plt.subplots(figsize=(10, 10))\n",
    "cmap = sns.color_palette(\"coolwarm\")\n",
    "\n",
    "sns.heatmap(corr, \n",
    "            mask=mask, \n",
    "            cmap=cmap, \n",
    "            vmax=.3, \n",
    "            center=0,\n",
    "            square=True, \n",
    "            linewidths=3, \n",
    "            cbar_kws={\"shrink\": .5}\n",
    "           )\n"
   ]
  },
  {
   "cell_type": "code",
   "execution_count": null,
   "id": "df68c12b-637d-4eaf-87d6-4edc9fdbd436",
   "metadata": {},
   "outputs": [],
   "source": [
    "plot_features = dataset.copy()\n",
    "plot_features.index = time_axis\n",
    "_ = plot_features.plot(subplots=True)"
   ]
  },
  {
   "cell_type": "code",
   "execution_count": null,
   "id": "6f13ad40-3ac7-431e-8c4f-7997b42941e0",
   "metadata": {},
   "outputs": [],
   "source": [
    "# # plot\n",
    "# sns.pairplot(dataset[['revenue', 'media1_S', 'media2_S', 'media3_S']], diag_kind='kde')"
   ]
  },
  {
   "cell_type": "code",
   "execution_count": null,
   "id": "abcd2779-d6b6-4272-83f0-23b3cd452d5b",
   "metadata": {},
   "outputs": [],
   "source": [
    "# sns.pairplot(dataset[['newsletter', 'media1_S', 'media2_S', 'media3_S']], diag_kind='kde')"
   ]
  },
  {
   "cell_type": "markdown",
   "id": "9ced43bc-1e4b-40b5-864e-ef49e517e7cf",
   "metadata": {
    "tags": []
   },
   "source": [
    "# `base/static` processing the dataset into *train, val*\n",
    "\n",
    "meaning static models"
   ]
  },
  {
   "cell_type": "code",
   "execution_count": null,
   "id": "ac239fa7-fd38-4fa5-a18b-d812f4ad537a",
   "metadata": {},
   "outputs": [],
   "source": [
    "# a given split\n",
    "train_features, test_features, train_labels, test_labels = base_process_data(dataset=dataset, split_index=200)"
   ]
  },
  {
   "cell_type": "code",
   "execution_count": null,
   "id": "5b4e782a-f327-4318-98de-7a0f95aa086b",
   "metadata": {},
   "outputs": [],
   "source": [
    "type(train_features)"
   ]
  },
  {
   "cell_type": "code",
   "execution_count": null,
   "id": "da91f794-9c44-42c4-a7c2-87059079ba3e",
   "metadata": {},
   "outputs": [],
   "source": [
    "# double check tbe given split\n",
    "\n",
    "print(dataset.iloc[200-1])\n",
    "print(time_axis[200-1])"
   ]
  },
  {
   "cell_type": "code",
   "execution_count": null,
   "id": "9ea627fb-14ba-4d9b-bfbd-01a84d86dd5e",
   "metadata": {},
   "outputs": [],
   "source": [
    "train_features.shape\n",
    "train_labels.shape\n",
    "test_features.shape\n",
    "test_labels.shape"
   ]
  },
  {
   "cell_type": "code",
   "execution_count": null,
   "id": "1197dd1f-6625-4ab5-9a79-bf924ba63d28",
   "metadata": {},
   "outputs": [],
   "source": [
    "# feature normalization\n",
    "normalizer = feature_normalization(train_features)"
   ]
  },
  {
   "cell_type": "markdown",
   "id": "b4799146-9105-4b0e-9c46-08886f1ae738",
   "metadata": {
    "tags": []
   },
   "source": [
    "# Modelling\n"
   ]
  },
  {
   "cell_type": "code",
   "execution_count": null,
   "id": "908141fe-474a-45b1-b139-e42ff85996cd",
   "metadata": {},
   "outputs": [],
   "source": [
    "val_performance = {}"
   ]
  },
  {
   "cell_type": "markdown",
   "id": "2dfaf96a-01ec-4062-96f2-dd5874fe37cf",
   "metadata": {
    "tags": []
   },
   "source": [
    "\n",
    "## base/static models\n",
    "\n",
    "- `non-temporal` models"
   ]
  },
  {
   "cell_type": "markdown",
   "id": "bb284ee4-5021-4b34-ae0d-f466dde3958f",
   "metadata": {},
   "source": [
    "### a linear regression model as `reference`\n",
    "\n",
    "- multilinearity check"
   ]
  },
  {
   "cell_type": "code",
   "execution_count": null,
   "id": "7d34535a-1299-4753-a0b9-1372b0bf8f09",
   "metadata": {},
   "outputs": [],
   "source": [
    "deter_linear_model = buildNcompile_linear(normalizer)"
   ]
  },
  {
   "cell_type": "code",
   "execution_count": null,
   "id": "62a4d4a7-ca22-4ce9-92af-fb8b2d760474",
   "metadata": {},
   "outputs": [],
   "source": [
    "deter_linear_model.summary()"
   ]
  },
  {
   "cell_type": "code",
   "execution_count": null,
   "id": "87dc8794-4caf-4fda-8694-6b9a4edce3ba",
   "metadata": {},
   "outputs": [],
   "source": [
    "%%time\n",
    "history_linear = deter_linear_model.fit(\n",
    "    train_features,\n",
    "    train_labels,\n",
    "    # validation_split=0.2,\n",
    "    validation_data=(test_features, test_labels),\n",
    "    verbose=0,\n",
    "    epochs=400)"
   ]
  },
  {
   "cell_type": "code",
   "execution_count": null,
   "id": "fabfb9c5-79d9-433a-8b00-179358fbfad8",
   "metadata": {},
   "outputs": [],
   "source": [
    "plot_history_info(history_linear)"
   ]
  },
  {
   "cell_type": "code",
   "execution_count": null,
   "id": "412ee260-64f2-4eee-87f4-15ee2652bfd7",
   "metadata": {},
   "outputs": [],
   "source": [
    "deter_linear_model.evaluate(test_features, test_labels)"
   ]
  },
  {
   "cell_type": "code",
   "execution_count": null,
   "id": "a6c7b5db-f8c5-4c5e-8d37-1301d50b54ef",
   "metadata": {},
   "outputs": [],
   "source": [
    "y_preds = deter_linear_model(test_features)"
   ]
  },
  {
   "cell_type": "code",
   "execution_count": null,
   "id": "c921cf9a-9f80-4b00-9d34-391109de7ac8",
   "metadata": {},
   "outputs": [],
   "source": [
    "test_labels.shape"
   ]
  },
  {
   "cell_type": "code",
   "execution_count": null,
   "id": "31ae8a6f-f364-4192-8247-bad4877be687",
   "metadata": {},
   "outputs": [],
   "source": [
    "# in test data\n",
    "pl_residual(preds=y_preds, gt=test_labels, low=2, limit=3)"
   ]
  },
  {
   "cell_type": "code",
   "execution_count": null,
   "id": "b375845a-ccbe-4e70-8e07-5dad232462a0",
   "metadata": {},
   "outputs": [],
   "source": [
    "## for training data\n",
    "train_preds = deter_linear_model(train_features)"
   ]
  },
  {
   "cell_type": "code",
   "execution_count": null,
   "id": "2c82dc96-1306-4286-ba61-e592e8daa90e",
   "metadata": {},
   "outputs": [],
   "source": [
    "pl_residual(preds=train_preds, gt=train_labels, low=1, limit=4)"
   ]
  },
  {
   "cell_type": "code",
   "execution_count": null,
   "id": "efb5801c-31ef-4be3-a796-d433d87512dd",
   "metadata": {},
   "outputs": [],
   "source": [
    "pl_residual_horizontal(preds=train_preds, gt=train_labels, low=1, limit=4)\n",
    "plt.ylim([-1, 1.5])"
   ]
  },
  {
   "cell_type": "code",
   "execution_count": null,
   "id": "3eb3f487-9010-474d-a3be-527ff251ef40",
   "metadata": {},
   "outputs": [],
   "source": [
    "# the histogram of training residuals\n",
    "\n",
    "pl_residual_hist(preds=train_preds, gt=train_labels,)"
   ]
  },
  {
   "cell_type": "code",
   "execution_count": null,
   "id": "dcca6a4e-6e10-4cf0-b342-e09584ef2c5c",
   "metadata": {},
   "outputs": [],
   "source": [
    "# we will move to Bayesian linear model later on "
   ]
  },
  {
   "cell_type": "code",
   "execution_count": null,
   "id": "97fc87f7-7df9-434b-9a58-d81c7c68dfa5",
   "metadata": {},
   "outputs": [],
   "source": []
  },
  {
   "cell_type": "markdown",
   "id": "89a5d63d-92b6-45ca-8f3a-3f2e51315e0a",
   "metadata": {
    "jp-MarkdownHeadingCollapsed": true,
    "tags": []
   },
   "source": [
    "### a deterministic DNN model"
   ]
  },
  {
   "cell_type": "code",
   "execution_count": null,
   "id": "67b88c8d-df5b-4324-8e2b-bd9d8822d6d4",
   "metadata": {},
   "outputs": [],
   "source": [
    "dnn_model = build_and_compile_model(normalizer)\n",
    "dnn_model.summary()"
   ]
  },
  {
   "cell_type": "code",
   "execution_count": null,
   "id": "75b4fb85-037b-47a9-b750-b42a49f4d305",
   "metadata": {},
   "outputs": [],
   "source": [
    "%%time\n",
    "history = dnn_model.fit(\n",
    "    train_features,\n",
    "    train_labels,\n",
    "    # validation_split=0.2,\n",
    "    validation_data=(test_features, test_labels),\n",
    "    verbose=0,\n",
    "    epochs=300)"
   ]
  },
  {
   "cell_type": "code",
   "execution_count": null,
   "id": "92871d79-07c1-40d2-9fa2-2cd31db959f4",
   "metadata": {},
   "outputs": [],
   "source": [
    "plot_history_info(history)"
   ]
  },
  {
   "cell_type": "code",
   "execution_count": null,
   "id": "1f490df9-4bfc-486e-8e98-3616bb694fa7",
   "metadata": {},
   "outputs": [],
   "source": [
    "dnn_model.evaluate(test_features, test_labels)"
   ]
  },
  {
   "cell_type": "code",
   "execution_count": null,
   "id": "010ba378-b067-404d-94cd-28689e2bc28a",
   "metadata": {},
   "outputs": [],
   "source": [
    "dnn_model.summary()"
   ]
  },
  {
   "cell_type": "markdown",
   "id": "a66950f9-7832-422e-a714-f72cad0815d4",
   "metadata": {
    "jp-MarkdownHeadingCollapsed": true,
    "tags": []
   },
   "source": [
    "### an aleatoric DNN model that computes `data noise`"
   ]
  },
  {
   "cell_type": "code",
   "execution_count": null,
   "id": "33c18004-7f3c-4e4d-9fa0-a3cdbad7bb2d",
   "metadata": {},
   "outputs": [],
   "source": [
    "aleatoric_model = create_and_compile_aleatoric_model(\n",
    "                        input_shape = 5, \n",
    "                        norm = normalizer)"
   ]
  },
  {
   "cell_type": "code",
   "execution_count": null,
   "id": "e2caf409-0666-42ee-a9c6-1877b7bbec85",
   "metadata": {},
   "outputs": [],
   "source": [
    "history_aleatoric = aleatoric_model.fit(\n",
    "    train_features,\n",
    "    train_labels,\n",
    "    # validation_split=0.2,\n",
    "    validation_data=(test_features, test_labels),\n",
    "    verbose=0,\n",
    "    epochs=300)"
   ]
  },
  {
   "cell_type": "code",
   "execution_count": null,
   "id": "4e71fb07-b520-48b8-9a78-70bd802010eb",
   "metadata": {},
   "outputs": [],
   "source": [
    "plot_history_info(history_aleatoric)"
   ]
  },
  {
   "cell_type": "code",
   "execution_count": null,
   "id": "52d59e8f-277d-442a-b914-8fb6a5f77b06",
   "metadata": {},
   "outputs": [],
   "source": [
    "# # changing between calls\n",
    "# aleatoric_model.evaluate(test_features, test_labels)"
   ]
  },
  {
   "cell_type": "code",
   "execution_count": null,
   "id": "3cf39e29-3d6b-40ef-afeb-78710a3aadea",
   "metadata": {},
   "outputs": [],
   "source": [
    "aleatoric = AleatoricPredict(test_features, test_labels)"
   ]
  },
  {
   "cell_type": "code",
   "execution_count": null,
   "id": "3a2d3b42-4a1e-4351-be2e-e3a96aaafc34",
   "metadata": {},
   "outputs": [],
   "source": [
    "aleatoric.predict_dist(model=aleatoric_model)"
   ]
  },
  {
   "cell_type": "code",
   "execution_count": null,
   "id": "226b8fb7-0aa7-40a3-aa8b-092edb3f8a57",
   "metadata": {},
   "outputs": [],
   "source": [
    "val_performance['aleatoric_model'] = aleatoric.cp_metrics()"
   ]
  },
  {
   "cell_type": "code",
   "execution_count": null,
   "id": "5c828fc7-3268-4da9-8f4c-6b6adf579080",
   "metadata": {},
   "outputs": [],
   "source": [
    "aleatoric.pl_aleatoric_uncertainty(val_x_axis)\n",
    "# save2Vis('DNN_aleatoric')"
   ]
  },
  {
   "cell_type": "markdown",
   "id": "b316c205-5b4c-460e-9ba8-8139210493a0",
   "metadata": {
    "jp-MarkdownHeadingCollapsed": true,
    "tags": []
   },
   "source": [
    "### Flipout model"
   ]
  },
  {
   "cell_type": "code",
   "execution_count": null,
   "id": "ea8b6861-ec3d-4f4f-ad1e-4e76ab9efbb3",
   "metadata": {},
   "outputs": [],
   "source": [
    "flipout_model = BDNN_flipout(N=200, norm=normalizer)"
   ]
  },
  {
   "cell_type": "code",
   "execution_count": null,
   "id": "3faeb2ed-96b5-4df7-a0e4-18ee2d707ca4",
   "metadata": {},
   "outputs": [],
   "source": [
    "flipout_model.compile(\n",
    "    loss=nll, \n",
    "    optimizer='RMSprop',\n",
    "    metrics=[tf.keras.metrics.MeanAbsoluteError(name='mae'),\n",
    "            tf.keras.metrics.MeanAbsolutePercentageError(name='mape')])\n",
    "\n",
    "history_flipout = flipout_model.fit(\n",
    "                    train_features,\n",
    "                    train_labels,\n",
    "                    epochs=300,\n",
    "                    # validation_split=0.2,\n",
    "                    validation_data=(train_features, train_labels),\n",
    "                    verbose=0)"
   ]
  },
  {
   "cell_type": "code",
   "execution_count": null,
   "id": "11d07ade-e92c-4596-8d30-a8801d582081",
   "metadata": {},
   "outputs": [],
   "source": [
    "plot_history_info(history_flipout)\n",
    "# save2Vis('learning_curveBDNN')"
   ]
  },
  {
   "cell_type": "code",
   "execution_count": null,
   "id": "4b188988-0447-40e1-963a-9f59fcb36043",
   "metadata": {},
   "outputs": [],
   "source": [
    "# # Bayesian changing each time\n",
    "# flipout_model.evaluate(train_features, train_labels)"
   ]
  },
  {
   "cell_type": "code",
   "execution_count": null,
   "id": "8963ac0c-af9a-4974-9839-095ecf311f33",
   "metadata": {},
   "outputs": [],
   "source": [
    "ensemble = EnsemblePredict(ensemble_size=300, test_features = test_features, test_labels=test_labels)"
   ]
  },
  {
   "cell_type": "code",
   "execution_count": null,
   "id": "6844a36c-b4da-4756-82da-97fe80768cc9",
   "metadata": {},
   "outputs": [],
   "source": [
    "# epistemic uncertainty compute the ensemble times of conditional mean \n",
    "ensemble.mc_predict_test_set(model=flipout_model)"
   ]
  },
  {
   "cell_type": "code",
   "execution_count": null,
   "id": "03c438f2-2c4b-4908-a063-32f20d6ae491",
   "metadata": {},
   "outputs": [],
   "source": [
    "# plot the epistemic uncertainty \n",
    "ensemble.pl_epistemic(val_x_axis = val_x_axis)"
   ]
  },
  {
   "cell_type": "code",
   "execution_count": null,
   "id": "3a19ed22-018b-49be-bcc1-c3007025911c",
   "metadata": {},
   "outputs": [],
   "source": [
    "ensemble.pl_residual_B(low=2, limit=3)\n",
    "# save2Vis('residual_plot')"
   ]
  },
  {
   "cell_type": "code",
   "execution_count": null,
   "id": "194f228b-2083-4770-9000-de487359149d",
   "metadata": {},
   "outputs": [],
   "source": [
    "ensemble.pl_epistemic_ts(dataset=dataset)\n",
    "# save2Vis('BDNN_epistemic_uncertainty')"
   ]
  },
  {
   "cell_type": "code",
   "execution_count": null,
   "id": "98e77cf0-fb1d-4241-a250-d897f4330c1d",
   "metadata": {},
   "outputs": [],
   "source": [
    "val_performance['flipout_model'] = ensemble.cp_ensemble_metrics()"
   ]
  },
  {
   "cell_type": "code",
   "execution_count": null,
   "id": "d1dde8c7-7d8a-49ef-b471-37fd75cafd2e",
   "metadata": {},
   "outputs": [],
   "source": [
    "val_performance['flipout_model']"
   ]
  },
  {
   "cell_type": "code",
   "execution_count": null,
   "id": "8cc23a9e-07de-4ee4-adbb-fb13fc05aa4a",
   "metadata": {},
   "outputs": [],
   "source": [
    "# mixed uncertainty: compute the distribution objects throughout the test set for \n",
    "\n",
    "ensemble.cp_ensemble_testset(flipout_model)"
   ]
  },
  {
   "cell_type": "code",
   "execution_count": null,
   "id": "25ae8d51-e740-4a43-ae55-3f29654a211e",
   "metadata": {},
   "outputs": [],
   "source": [
    "# compute the GMM bounds given dist objects\n",
    "\n",
    "PI_dp_bounds_all_list = ensemble.get_PI_bounds_testset(style='gmm')"
   ]
  },
  {
   "cell_type": "code",
   "execution_count": null,
   "id": "eea92886-12a1-4a22-aee3-e4db7662a079",
   "metadata": {},
   "outputs": [],
   "source": [
    "PI_dp_bounds_all_list[0].mean"
   ]
  },
  {
   "cell_type": "code",
   "execution_count": null,
   "id": "d91a63ac-1434-48e1-9df4-b5670fa11ca3",
   "metadata": {},
   "outputs": [],
   "source": [
    "ensemble.mixed_uncertainty_PI(dataset, PI_dp_bounds_all_list, val_x_axis)\n",
    "# save2Vis('mixed_uncertainty')"
   ]
  },
  {
   "cell_type": "markdown",
   "id": "5a0b694c-61b4-4dec-8eb5-b370a5d9547d",
   "metadata": {
    "jp-MarkdownHeadingCollapsed": true,
    "tags": []
   },
   "source": [
    "### `PYMC` Bayesian linear regression model"
   ]
  },
  {
   "cell_type": "code",
   "execution_count": null,
   "id": "2e3ec644-2694-41e7-a22a-717b9fa079b3",
   "metadata": {},
   "outputs": [],
   "source": [
    "RANDOM_SEED = 9527\n",
    "rng = np.random.default_rng(RANDOM_SEED)"
   ]
  },
  {
   "cell_type": "code",
   "execution_count": null,
   "id": "57d01cfc-b122-4da8-978e-16d8ce7055ca",
   "metadata": {},
   "outputs": [],
   "source": [
    "# normalized features\n",
    "n_train_features, n_test_features, train_labels, test_labels = base_process_data(dataset=dataset, split_index=200, normalize=True)"
   ]
  },
  {
   "cell_type": "code",
   "execution_count": null,
   "id": "eb05dfd7-79ab-48e9-a65d-f74f19fbf138",
   "metadata": {},
   "outputs": [],
   "source": [
    "train_labels.shape"
   ]
  },
  {
   "cell_type": "code",
   "execution_count": null,
   "id": "a1e3efe5-f6b8-429f-bc51-a71287b813bc",
   "metadata": {},
   "outputs": [],
   "source": [
    "n_train_features.shape"
   ]
  },
  {
   "cell_type": "code",
   "execution_count": null,
   "id": "cb09b900-4abd-494b-b14c-1134710c3955",
   "metadata": {},
   "outputs": [],
   "source": [
    "with Model() as model:  # model specifications in PyMC are wrapped in a with-statement\n",
    "    # Define priors\n",
    "    sigma = Normal(\"sigma\", 0, sigma=10)\n",
    "    \n",
    "    b1 = Normal(\"media1_S\", 0, sigma=1)\n",
    "    b2 = Normal(\"media2_S\", 0, sigma=1)\n",
    "    b3 = Normal(\"media3_S\", 0, sigma=1)\n",
    "    b_cs = Normal(\"competitor_sales\", 0, sigma=1)\n",
    "    b_nl = Normal(\"newsletter\", 0, sigma=1)\n",
    "    bias = Normal(\"bias\", 0, sigma=1)\n",
    "\n",
    "    # Define likelihood\n",
    "    likelihood = Normal(\"revenue\", \n",
    "                        mu = bias +b1*n_train_features[:,0]+b2*n_train_features[:,1]+b3*n_train_features[:,2]+b_cs*n_train_features[:,3]+b_nl*n_train_features[:,4], \n",
    "                        sigma=sigma, \n",
    "                        observed=train_labels)\n",
    "\n",
    "    # Inference!\n",
    "    # draw 3000 posterior samples using NUTS sampling\n",
    "    idata = sample(5000)"
   ]
  },
  {
   "cell_type": "code",
   "execution_count": null,
   "id": "35cff8a2-bf97-4b45-8ace-eedf011d7dbb",
   "metadata": {},
   "outputs": [],
   "source": [
    "az.plot_trace(idata, combined=True, figsize=(12, 24));"
   ]
  },
  {
   "cell_type": "code",
   "execution_count": null,
   "id": "f81473a1-6140-43c0-92e3-cc937bc79ac7",
   "metadata": {},
   "outputs": [],
   "source": [
    "idata"
   ]
  },
  {
   "cell_type": "markdown",
   "id": "3b01c1a6-ea6e-4d8a-a479-3f84ec78099b",
   "metadata": {
    "tags": []
   },
   "source": [
    "## temporal models\n",
    "\n",
    "I'll try a `Bayesian LSTM model` first and a few some other state-of-the-art alternatives for illustration.\n",
    "\n",
    "Note that this will have a different processing procedure than base models."
   ]
  },
  {
   "cell_type": "code",
   "execution_count": 18,
   "id": "5d3537ee-5db7-496b-aee2-d7c62c0e9a62",
   "metadata": {},
   "outputs": [
    {
     "data": {
      "text/html": [
       "<div>\n",
       "<style scoped>\n",
       "    .dataframe tbody tr th:only-of-type {\n",
       "        vertical-align: middle;\n",
       "    }\n",
       "\n",
       "    .dataframe tbody tr th {\n",
       "        vertical-align: top;\n",
       "    }\n",
       "\n",
       "    .dataframe thead th {\n",
       "        text-align: right;\n",
       "    }\n",
       "</style>\n",
       "<table border=\"1\" class=\"dataframe\">\n",
       "  <thead>\n",
       "    <tr style=\"text-align: right;\">\n",
       "      <th></th>\n",
       "      <th>revenue</th>\n",
       "      <th>media1_S</th>\n",
       "      <th>media2_S</th>\n",
       "      <th>media3_S</th>\n",
       "      <th>competitor_sales</th>\n",
       "      <th>newsletter</th>\n",
       "    </tr>\n",
       "  </thead>\n",
       "  <tbody>\n",
       "    <tr>\n",
       "      <th>0</th>\n",
       "      <td>2754371.667</td>\n",
       "      <td>167687.6</td>\n",
       "      <td>95463.66667</td>\n",
       "      <td>228213.98740</td>\n",
       "      <td>8125009</td>\n",
       "      <td>19401.65</td>\n",
       "    </tr>\n",
       "    <tr>\n",
       "      <th>1</th>\n",
       "      <td>2584276.667</td>\n",
       "      <td>214600.9</td>\n",
       "      <td>0.00000</td>\n",
       "      <td>34258.57351</td>\n",
       "      <td>7901549</td>\n",
       "      <td>14791.00</td>\n",
       "    </tr>\n",
       "    <tr>\n",
       "      <th>2</th>\n",
       "      <td>2547386.667</td>\n",
       "      <td>0.0</td>\n",
       "      <td>3404.00000</td>\n",
       "      <td>127691.26130</td>\n",
       "      <td>8300197</td>\n",
       "      <td>14544.00</td>\n",
       "    </tr>\n",
       "    <tr>\n",
       "      <th>3</th>\n",
       "      <td>2875220.000</td>\n",
       "      <td>625877.3</td>\n",
       "      <td>132600.00000</td>\n",
       "      <td>84014.72031</td>\n",
       "      <td>8122883</td>\n",
       "      <td>2800.00</td>\n",
       "    </tr>\n",
       "    <tr>\n",
       "      <th>4</th>\n",
       "      <td>2215953.333</td>\n",
       "      <td>0.0</td>\n",
       "      <td>0.00000</td>\n",
       "      <td>20687.47816</td>\n",
       "      <td>7105985</td>\n",
       "      <td>15478.00</td>\n",
       "    </tr>\n",
       "  </tbody>\n",
       "</table>\n",
       "</div>"
      ]
     },
     "execution_count": 18,
     "metadata": {},
     "output_type": "execute_result"
    }
   ],
   "source": [
    "dataset.head()"
   ]
  },
  {
   "cell_type": "code",
   "execution_count": 19,
   "id": "7492e7fe-4ba6-44f5-9b94-ced36f9f0de4",
   "metadata": {},
   "outputs": [
    {
     "data": {
      "text/html": [
       "<pre style=\"white-space:pre;overflow-x:auto;line-height:normal;font-family:Menlo,'DejaVu Sans Mono',consolas,'Courier New',monospace\"><span style=\"font-weight: bold\">(</span><span style=\"color: #008080; text-decoration-color: #008080; font-weight: bold\">0.0</span>, <span style=\"color: #008080; text-decoration-color: #008080; font-weight: bold\">200.0</span><span style=\"font-weight: bold\">)</span>\n",
       "</pre>\n"
      ],
      "text/plain": [
       "\u001b[1m(\u001b[0m\u001b[1;36m0.0\u001b[0m, \u001b[1;36m200.0\u001b[0m\u001b[1m)\u001b[0m\n"
      ]
     },
     "metadata": {},
     "output_type": "display_data"
    },
    {
     "data": {
      "application/vnd.jupyter.widget-view+json": {
       "model_id": "36d598cc11734ba48d74d2fef8cec94d",
       "version_major": 2,
       "version_minor": 0
      },
      "image/png": "[encoded data removed]",
      "text/html": [
       "\n",
       "            <div style=\"display: inline-block;\">\n",
       "                <div class=\"jupyter-widgets widget-label\" style=\"text-align: center;\">\n",
       "                    Figure\n",
       "                </div>\n",
       "                <img src='data:image/png;base64,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' width=400.0/>\n",
       "            </div>\n",
       "        "
      ],
      "text/plain": [
       "Canvas(toolbar=Toolbar(toolitems=[('Home', 'Reset original view', 'home', 'home'), ('Back', 'Back to previous …"
      ]
     },
     "metadata": {},
     "output_type": "display_data"
    }
   ],
   "source": [
    "''' for plotting of `periodicity` '''\n",
    "\n",
    "index_time = np.arange(1, len(dataset)+1)\n",
    "\n",
    "# back-up\n",
    "monthly = sin_transformer(period=4, x=index_time)\n",
    "yearly = sin_transformer(period=4*12, x=index_time)\n",
    "\n",
    "# periodicity display\n",
    "\n",
    "fig, ax = plt.subplots()\n",
    "ax.plot(monthly, label = 'monthly periodicity')\n",
    "ax.plot(dataset['revenue'], label='revenue in millions')\n",
    "ax.plot(yearly, label = 'yearly periodicity')\n",
    "\n",
    "ax.set_xlabel('Time')\n",
    "ax.set_ylabel('Revenue')\n",
    "ax.legend()\n",
    "ax.set_xlim([0, 200])\n",
    "# save2Vis('periodicity')"
   ]
  },
  {
   "cell_type": "code",
   "execution_count": 20,
   "id": "7c3e03be-9065-4c8a-871d-9a7c02d21eb4",
   "metadata": {},
   "outputs": [],
   "source": [
    "from darts import TimeSeries\n",
    "from darts.utils.statistics import plot_acf, check_seasonality"
   ]
  },
  {
   "cell_type": "code",
   "execution_count": 21,
   "id": "b0c44572-5fd9-4b93-b624-7fbae77a3fa0",
   "metadata": {},
   "outputs": [],
   "source": [
    "ts_revenue = TimeSeries.from_series(dataset['revenue']) "
   ]
  },
  {
   "cell_type": "code",
   "execution_count": 23,
   "id": "cdd39991-0017-476b-ad3c-ec91ea285e3f",
   "metadata": {},
   "outputs": [
    {
     "data": {
      "application/vnd.jupyter.widget-view+json": {
       "model_id": "b952859052cd42c18b52ad6e9dba178a",
       "version_major": 2,
       "version_minor": 0
      },
      "image/png": "[encoded data removed]",
      "text/html": [
       "\n",
       "            <div style=\"display: inline-block;\">\n",
       "                <div class=\"jupyter-widgets widget-label\" style=\"text-align: center;\">\n",
       "                    Figure\n",
       "                </div>\n",
       "                <img src='data:image/png;base64,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' width=400.0/>\n",
       "            </div>\n",
       "        "
      ],
      "text/plain": [
       "Canvas(toolbar=Toolbar(toolitems=[('Home', 'Reset original view', 'home', 'home'), ('Back', 'Back to previous …"
      ]
     },
     "metadata": {},
     "output_type": "display_data"
    }
   ],
   "source": [
    "plt.figure()\n",
    "ts_revenue.plot()"
   ]
  },
  {
   "cell_type": "code",
   "execution_count": 32,
   "id": "506a4170-6ca0-47de-ac80-f3451787ce81",
   "metadata": {},
   "outputs": [
    {
     "data": {
      "application/vnd.jupyter.widget-view+json": {
       "model_id": "b1c49e4c39b14b0c956cbe30eb28220d",
       "version_major": 2,
       "version_minor": 0
      },
      "image/png": "[encoded data removed]",
      "text/html": [
       "\n",
       "            <div style=\"display: inline-block;\">\n",
       "                <div class=\"jupyter-widgets widget-label\" style=\"text-align: center;\">\n",
       "                    Figure\n",
       "                </div>\n",
       "                <img src='data:image/png;base64,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' width=1000.0/>\n",
       "            </div>\n",
       "        "
      ],
      "text/plain": [
       "Canvas(toolbar=Toolbar(toolitems=[('Home', 'Reset original view', 'home', 'home'), ('Back', 'Back to previous …"
      ]
     },
     "metadata": {},
     "output_type": "display_data"
    }
   ],
   "source": [
    "plot_acf(ts_revenue, m=48, alpha=0.05, max_lag=60)"
   ]
  },
  {
   "cell_type": "code",
   "execution_count": 34,
   "id": "b13ac9b2-73a2-4655-9b56-5a50ec43a084",
   "metadata": {},
   "outputs": [
    {
     "name": "stdout",
     "output_type": "stream",
     "text": [
      "There is seasonality of order 48.\n"
     ]
    }
   ],
   "source": [
    "for m in range(2, 52):\n",
    "    is_seasonal, period = check_seasonality(ts_revenue, m=m, alpha=0.05, max_lag=60)\n",
    "    if is_seasonal:\n",
    "        print(\"There is seasonality of order {}.\".format(period))"
   ]
  },
  {
   "cell_type": "code",
   "execution_count": null,
   "id": "09b4a581-7e43-44ab-bc91-27b08a5bc8ff",
   "metadata": {},
   "outputs": [],
   "source": [
    "train_df, val_df = temporal_process_data(dataset, split_index=200)"
   ]
  },
  {
   "cell_type": "code",
   "execution_count": null,
   "id": "5be2e127-278d-4e6e-87f9-6db47bf14644",
   "metadata": {},
   "outputs": [],
   "source": [
    "# weekly context length\n",
    "context_length = 4\n",
    "\n",
    "cr_window = WindowGenerator(\n",
    "    input_width=context_length,\n",
    "    label_width=1,\n",
    "    shift=1,\n",
    "    label_columns=['revenue'], \n",
    "    train_df=train_df,\n",
    "    val_df = val_df)\n",
    "\n",
    "cr_window"
   ]
  },
  {
   "cell_type": "code",
   "execution_count": null,
   "id": "f8ee405d-a3dc-4823-8de9-871cd0443e04",
   "metadata": {},
   "outputs": [],
   "source": [
    "print(\"shape hint:\")\n",
    "print(\"input shape:\", cr_window.example[0].shape)\n",
    "print(\"output shape:\", cr_window.example[1].shape)"
   ]
  },
  {
   "cell_type": "code",
   "execution_count": null,
   "id": "4d01e24d-46d0-4d36-8f5a-d3c46f799fc4",
   "metadata": {},
   "outputs": [],
   "source": [
    "# check the seasonality with ACF "
   ]
  },
  {
   "cell_type": "markdown",
   "id": "aca130a0-4427-410c-9253-bd6d5232423f",
   "metadata": {
    "jp-MarkdownHeadingCollapsed": true,
    "tags": []
   },
   "source": [
    "#### a comparative DNN test"
   ]
  },
  {
   "cell_type": "code",
   "execution_count": null,
   "id": "dd3f8d07-2b61-4db1-86a1-92a12d357b4c",
   "metadata": {},
   "outputs": [],
   "source": [
    "def DNN_wo_normalization():\n",
    "    model = tf.keras.Sequential([\n",
    "      tf.keras.layers.Dense(16, activation='relu'),\n",
    "      tf.keras.layers.Dense(2, activation='relu'),\n",
    "      tf.keras.layers.Dense(1)\n",
    "    ])\n",
    "    return model"
   ]
  },
  {
   "cell_type": "code",
   "execution_count": null,
   "id": "498351a5-4827-4942-a24e-1de51104d1c6",
   "metadata": {},
   "outputs": [],
   "source": [
    "DNN_wn = DNN_wo_normalization()"
   ]
  },
  {
   "cell_type": "code",
   "execution_count": null,
   "id": "d91f9d56-e278-48ef-a323-0023af75a574",
   "metadata": {},
   "outputs": [],
   "source": [
    "history = compile_and_fit_lstm(\n",
    "    model = DNN_wn, \n",
    "    loss = tf.keras.losses.MeanSquaredError(), \n",
    "    window=cr_window, \n",
    "    EPOCHS = 300,\n",
    "    VERBOSE = 0)"
   ]
  },
  {
   "cell_type": "code",
   "execution_count": null,
   "id": "b476b78d-c529-4a8c-ac68-bbed2d6bc883",
   "metadata": {},
   "outputs": [],
   "source": [
    "dnn_result_dict = cp_val(DNN_wn, cr_window, train_df, val_df)"
   ]
  },
  {
   "cell_type": "markdown",
   "id": "7855e44f-092c-4771-a258-5f69a4676be9",
   "metadata": {
    "tags": []
   },
   "source": [
    "### deterministic LSTM"
   ]
  },
  {
   "cell_type": "code",
   "execution_count": null,
   "id": "111dc06e-c8e1-47ca-b92f-ee2772aa27a9",
   "metadata": {},
   "outputs": [],
   "source": [
    "# get a LSTM model herein\n",
    "\n",
    "lstm_model = build_lstm()"
   ]
  },
  {
   "cell_type": "code",
   "execution_count": null,
   "id": "ad9a31f7-8209-429b-88c0-44312d26d2bb",
   "metadata": {},
   "outputs": [],
   "source": [
    "history = compile_and_fit_lstm(\n",
    "    model = lstm_model, \n",
    "    loss = tf.keras.losses.MeanSquaredError(), \n",
    "    window=cr_window, \n",
    "    EPOCHS=300,\n",
    "    VERBOSE=0)"
   ]
  },
  {
   "cell_type": "code",
   "execution_count": null,
   "id": "e2519e83-184c-4659-984e-5d8a7bd80402",
   "metadata": {},
   "outputs": [],
   "source": [
    "plot_history_info(history)"
   ]
  },
  {
   "cell_type": "code",
   "execution_count": null,
   "id": "8fd43575-4826-4271-a5d7-8b3fba6de80c",
   "metadata": {},
   "outputs": [],
   "source": [
    "# # # this may not work due to the very small size of val data\n",
    "# lstm_model.evaluate(cr_window.val)"
   ]
  },
  {
   "cell_type": "code",
   "execution_count": null,
   "id": "2b1aa48b-f22e-4dd5-b31e-b9655036bc8c",
   "metadata": {},
   "outputs": [],
   "source": [
    "val_performance['lstm_model'] = cr_window.cp_val_lstm_mcdropout_oneshot(lstm_model)\n",
    "val_performance['lstm_model']"
   ]
  },
  {
   "cell_type": "markdown",
   "id": "9eafcdfd-3eb5-4bfc-98da-26639074e76b",
   "metadata": {
    "tags": []
   },
   "source": [
    "### Stochastic Regularisation technique"
   ]
  },
  {
   "cell_type": "code",
   "execution_count": null,
   "id": "d9345965-41d6-45b5-ba2d-ddfea14614f8",
   "metadata": {},
   "outputs": [],
   "source": [
    "tf.keras.backend.clear_session()"
   ]
  },
  {
   "cell_type": "code",
   "execution_count": null,
   "id": "0e062fad-0c80-4ba1-a36a-fd7531826dd4",
   "metadata": {},
   "outputs": [],
   "source": [
    "lstm_SRT = lstm_SRT(units=16)"
   ]
  },
  {
   "cell_type": "code",
   "execution_count": null,
   "id": "6778beb4-f15f-4dbe-aa9f-86c794a0504d",
   "metadata": {},
   "outputs": [],
   "source": [
    "history_Blstm2 = compile_and_fit_lstm(\n",
    "    model=lstm_SRT, \n",
    "    window = cr_window, \n",
    "    loss = 'mse', \n",
    "    EPOCHS=300,\n",
    "    VERBOSE=0)"
   ]
  },
  {
   "cell_type": "code",
   "execution_count": null,
   "id": "dbd4028c-15d9-4076-b14d-d8c4ac925278",
   "metadata": {},
   "outputs": [],
   "source": [
    "cr_window.cp_val_lstm_mcdropout_oneshot(model=lstm_SRT)"
   ]
  },
  {
   "cell_type": "code",
   "execution_count": null,
   "id": "cb1b4dc2-3e23-4052-9591-cd45db50544e",
   "metadata": {},
   "outputs": [],
   "source": [
    "ensemble_results, val_performance['Blstm_model'] = cr_window.cp_val_B(\n",
    "    model=lstm_SRT, ensemble_size=100, style='mc_dropout')"
   ]
  },
  {
   "cell_type": "code",
   "execution_count": null,
   "id": "882116e2-6807-4863-b3aa-08a681147e77",
   "metadata": {},
   "outputs": [],
   "source": [
    "val_performance['Blstm_model']"
   ]
  },
  {
   "cell_type": "code",
   "execution_count": null,
   "id": "8b58c73b-8297-4d2a-86a6-9d6cc2b73798",
   "metadata": {},
   "outputs": [],
   "source": [
    "cr_window.display_lstm_val(ensemble_results, val_x_axis)\n",
    "save2Vis('BLSTM_epistemic_uncertainty')"
   ]
  },
  {
   "cell_type": "markdown",
   "id": "6462d2cb-d5d8-476e-9276-5983feb9761c",
   "metadata": {
    "jp-MarkdownHeadingCollapsed": true,
    "tags": []
   },
   "source": [
    "### svi LSTM model"
   ]
  },
  {
   "cell_type": "code",
   "execution_count": null,
   "id": "78840f48-12c8-43d7-88f5-3abf60b058b5",
   "metadata": {},
   "outputs": [],
   "source": [
    "B_lstm_model = build_BLSTM_svi(latent_dim=64, KL_scaling_factor=200)"
   ]
  },
  {
   "cell_type": "code",
   "execution_count": null,
   "id": "cd8ab495-e62c-4d40-ab21-af8c2bb1ccba",
   "metadata": {},
   "outputs": [],
   "source": [
    "history_Blstm = compile_and_fit_lstm(\n",
    "    model=B_lstm_model, \n",
    "    window = cr_window, \n",
    "    loss = nll, \n",
    "    EPOCHS=500,\n",
    "    VERBOSE=0)"
   ]
  },
  {
   "cell_type": "code",
   "execution_count": null,
   "id": "d3feee4d-8838-428a-8ef4-8c5d38f49805",
   "metadata": {},
   "outputs": [],
   "source": [
    "plot_history_info(history_Blstm)"
   ]
  },
  {
   "cell_type": "code",
   "execution_count": null,
   "id": "ae9f2885-e91a-4be0-863a-30de51aa8780",
   "metadata": {},
   "outputs": [],
   "source": [
    "# check the input \n",
    "for ex_input, ex_output in cr_window.val.take(1):\n",
    "    print(\"training dp input:\", ex_input.shape)\n",
    "    print(\"training dp output:\", ex_output.shape)"
   ]
  },
  {
   "cell_type": "code",
   "execution_count": null,
   "id": "ba997e48-23ee-4ac1-9d81-8efa11774cd2",
   "metadata": {},
   "outputs": [],
   "source": [
    "ensemble_results = cr_window.cp_val(model = B_lstm_model, ensemble_size=300)"
   ]
  },
  {
   "cell_type": "code",
   "execution_count": null,
   "id": "5044a0eb-900d-491f-8bb6-4bccf6b88bb8",
   "metadata": {},
   "outputs": [],
   "source": [
    "# specifically, now the gt value is the normalized 'revenue' shown only in `val_df`"
   ]
  },
  {
   "cell_type": "code",
   "execution_count": null,
   "id": "73f14793-7176-403a-aa2c-6541af7d7b74",
   "metadata": {},
   "outputs": [],
   "source": [
    "# add the predictions then \n",
    "fig, ax = plt.subplots()\n",
    "ax.scatter(val_x_axis, val_df['revenue'], color='r', marker='o')\n",
    "ax.scatter(val_x_axis, test_preds, color='b', marker='x')\n",
    "# plt.xlim([0, 4])"
   ]
  }
 ],
 "metadata": {
  "kernelspec": {
   "display_name": "Python 3 (ipykernel)",
   "language": "python",
   "name": "python3"
  },
  "language_info": {
   "codemirror_mode": {
    "name": "ipython",
    "version": 3
   },
   "file_extension": ".py",
   "mimetype": "text/x-python",
   "name": "python",
   "nbconvert_exporter": "python",
   "pygments_lexer": "ipython3",
   "version": "3.8.13"
  },
  "toc-autonumbering": true
 },
 "nbformat": 4,
 "nbformat_minor": 5
}
