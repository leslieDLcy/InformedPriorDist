{
 "cells": [
  {
   "cell_type": "code",
   "execution_count": null,
   "id": "bb6a3413-e7f9-494d-904b-d030aac62b89",
   "metadata": {},
   "outputs": [],
   "source": [
    "\"\"\" revenue in millions \"\"\""
   ]
  },
  {
   "cell_type": "code",
   "execution_count": 1,
   "id": "388222da-c05e-497f-8814-2a566dd4beef",
   "metadata": {},
   "outputs": [],
   "source": [
    "import tqdm\n",
    "import os\n",
    "import pathlib\n",
    "import matplotlib.pyplot as plt\n",
    "import numpy as np\n",
    "import pandas as pd\n",
    "import seaborn as sns\n",
    "import tensorflow as tf\n",
    "from tensorflow import keras\n",
    "from tensorflow.keras import layers\n",
    "from tensorflow.keras.layers.experimental import preprocessing"
   ]
  },
  {
   "cell_type": "code",
   "execution_count": 2,
   "id": "328c30b6-6831-4de2-8155-e945b7899120",
   "metadata": {},
   "outputs": [
    {
     "name": "stdout",
     "output_type": "stream",
     "text": [
      "2.8.0\n"
     ]
    }
   ],
   "source": [
    "print(tf.__version__)"
   ]
  },
  {
   "cell_type": "code",
   "execution_count": 3,
   "id": "36b39ba4-0722-4fff-bb07-ed6c686b2f4d",
   "metadata": {},
   "outputs": [],
   "source": [
    "import tensorflow_probability as tfp\n",
    "tfd = tfp.distributions\n",
    "tfpl = tfp.layers\n",
    "from keras.models import Sequential"
   ]
  },
  {
   "cell_type": "code",
   "execution_count": 4,
   "id": "6704350a-2d1e-4898-afa2-a6056eb60c33",
   "metadata": {},
   "outputs": [],
   "source": [
    "from utils import cd_root_dir, sin_transformer, cos_transformer, save2Vis\n",
    "from modules import pl_preds_uncertainty, plot_history_info, EnsemblePredict, cp_dp_PI_bound, show_dist\n",
    "from models import build_and_compile_model, create_and_compile_aleatoric_model, build_lstm, compile_and_fit_lstm, build_BLSTM_svi\n",
    "from pipeline import import_data, base_process_data, feature_normalization, ensemble_predict, temporal_process_data\n",
    "from windowing import WindowGenerator\n",
    "from models import sg_prior, nll, BDNN_svi, BDNN_flipout, build_BLSTM_svi2, lstm_SRT"
   ]
  },
  {
   "cell_type": "code",
   "execution_count": 5,
   "id": "5e1320ca-86c4-447f-b1a2-4fde49bb4bf2",
   "metadata": {},
   "outputs": [
    {
     "name": "stderr",
     "output_type": "stream",
     "text": [
      "WARNING (pytensor.tensor.blas): Using NumPy C-API based implementation for BLAS functions.\n"
     ]
    },
    {
     "name": "stdout",
     "output_type": "stream",
     "text": [
      "Running on PyMC v5.6.1\n"
     ]
    }
   ],
   "source": [
    "import arviz as az\n",
    "import matplotlib.pyplot as plt\n",
    "import numpy as np\n",
    "import pandas as pd\n",
    "import pymc as pm\n",
    "import xarray as xr\n",
    "\n",
    "from pymc import HalfCauchy, Model, Normal, sample\n",
    "\n",
    "print(f\"Running on PyMC v{pm.__version__}\")"
   ]
  },
  {
   "cell_type": "code",
   "execution_count": 6,
   "id": "513de658-fdd7-485e-ad94-b5afa1986757",
   "metadata": {},
   "outputs": [],
   "source": [
    "# set up a global plt style for the script\n",
    "plt.style.use('classic')\n",
    "plt.rcParams.update({\n",
    "        \"font.size\": 9,\n",
    "        \"text.usetex\": True,\n",
    "        \"font.family\": \"serif\",\n",
    "        \"figure.figsize\": (4, 3),\n",
    "        \"legend.fontsize\": 'medium',\n",
    "        })"
   ]
  },
  {
   "cell_type": "code",
   "execution_count": 7,
   "id": "a38a8244-97f1-4677-988c-3d4d48b0ee7d",
   "metadata": {},
   "outputs": [],
   "source": [
    "%matplotlib widget\n",
    "%load_ext rich"
   ]
  },
  {
   "cell_type": "code",
   "execution_count": 8,
   "id": "f85e5c28-1cb4-4b33-92cc-b7e7bce597fc",
   "metadata": {},
   "outputs": [],
   "source": [
    "%load_ext autoreload\n",
    "%autoreload 2"
   ]
  },
  {
   "cell_type": "code",
   "execution_count": 9,
   "id": "3c35a0d0-e925-4f69-8637-1df31bd71b71",
   "metadata": {},
   "outputs": [],
   "source": [
    "tf.random.set_seed(9527)"
   ]
  },
  {
   "cell_type": "code",
   "execution_count": 10,
   "id": "e6902634-6ab0-4cfa-a74b-fc359c6e604c",
   "metadata": {},
   "outputs": [
    {
     "name": "stdout",
     "output_type": "stream",
     "text": [
      "current directory: /home/yuchen/work_leslie/KTP_Croud\n"
     ]
    }
   ],
   "source": [
    "cd_root_dir()"
   ]
  },
  {
   "cell_type": "code",
   "execution_count": 11,
   "id": "144abedd-8edd-4ebc-a4ab-7c8a5d28db1e",
   "metadata": {},
   "outputs": [],
   "source": [
    "# dummy xaxis \n",
    "val_x_axis = np.arange(200, 208)"
   ]
  },
  {
   "cell_type": "markdown",
   "id": "50073f0d-36d0-4eb9-9d41-1bea9f0afc41",
   "metadata": {
    "tags": []
   },
   "source": [
    "# import the data"
   ]
  },
  {
   "cell_type": "code",
   "execution_count": 12,
   "id": "ab638360-fad1-4a33-ac4b-0814d3817a7f",
   "metadata": {},
   "outputs": [],
   "source": [
    "# import the data and get the time axis !\n",
    "dataset, time_axis = import_data(path='data/raw/weekly_media_sample.csv')"
   ]
  },
  {
   "cell_type": "code",
   "execution_count": 13,
   "id": "7afb1cd5-4ea0-4ebb-82ad-c7e08f2f3622",
   "metadata": {},
   "outputs": [
    {
     "data": {
      "text/html": [
       "<pre style=\"white-space:pre;overflow-x:auto;line-height:normal;font-family:Menlo,'DejaVu Sans Mono',consolas,'Courier New',monospace\"><span style=\"font-weight: bold\">&lt;</span><span style=\"color: #ff00ff; text-decoration-color: #ff00ff; font-weight: bold\">class</span><span style=\"color: #000000; text-decoration-color: #000000\"> </span><span style=\"color: #008000; text-decoration-color: #008000\">'pandas.core.series.Series'</span><span style=\"font-weight: bold\">&gt;</span>\n",
       "</pre>\n"
      ],
      "text/plain": [
       "\u001b[1m<\u001b[0m\u001b[1;95mclass\u001b[0m\u001b[39m \u001b[0m\u001b[32m'pandas.core.series.Series'\u001b[0m\u001b[1m>\u001b[0m\n"
      ]
     },
     "metadata": {},
     "output_type": "display_data"
    }
   ],
   "source": [
    "type(time_axis)"
   ]
  },
  {
   "cell_type": "code",
   "execution_count": 14,
   "id": "350910cf-bf77-4906-a5db-aca76f3aeeb7",
   "metadata": {},
   "outputs": [
    {
     "data": {
      "text/html": [
       "<pre style=\"white-space:pre;overflow-x:auto;line-height:normal;font-family:Menlo,'DejaVu Sans Mono',consolas,'Courier New',monospace\">\n",
       "<span style=\"color: #008080; text-decoration-color: #008080; font-weight: bold\">0</span>    <span style=\"color: #008080; text-decoration-color: #008080; font-weight: bold\">06</span>/<span style=\"color: #008080; text-decoration-color: #008080; font-weight: bold\">08</span>/<span style=\"color: #008080; text-decoration-color: #008080; font-weight: bold\">2012</span>\n",
       "<span style=\"color: #008080; text-decoration-color: #008080; font-weight: bold\">1</span>    <span style=\"color: #008080; text-decoration-color: #008080; font-weight: bold\">13</span>/<span style=\"color: #008080; text-decoration-color: #008080; font-weight: bold\">08</span>/<span style=\"color: #008080; text-decoration-color: #008080; font-weight: bold\">2012</span>\n",
       "<span style=\"color: #008080; text-decoration-color: #008080; font-weight: bold\">2</span>    <span style=\"color: #008080; text-decoration-color: #008080; font-weight: bold\">20</span>/<span style=\"color: #008080; text-decoration-color: #008080; font-weight: bold\">08</span>/<span style=\"color: #008080; text-decoration-color: #008080; font-weight: bold\">2012</span>\n",
       "<span style=\"color: #008080; text-decoration-color: #008080; font-weight: bold\">3</span>    <span style=\"color: #008080; text-decoration-color: #008080; font-weight: bold\">27</span>/<span style=\"color: #008080; text-decoration-color: #008080; font-weight: bold\">08</span>/<span style=\"color: #008080; text-decoration-color: #008080; font-weight: bold\">2012</span>\n",
       "<span style=\"color: #008080; text-decoration-color: #008080; font-weight: bold\">4</span>    <span style=\"color: #008080; text-decoration-color: #008080; font-weight: bold\">03</span>/<span style=\"color: #008080; text-decoration-color: #008080; font-weight: bold\">09</span>/<span style=\"color: #008080; text-decoration-color: #008080; font-weight: bold\">2012</span>\n",
       "Name: DATE, dtype: object\n",
       "</pre>\n"
      ],
      "text/plain": [
       "\n",
       "\u001b[1;36m0\u001b[0m    \u001b[1;36m06\u001b[0m/\u001b[1;36m08\u001b[0m/\u001b[1;36m2012\u001b[0m\n",
       "\u001b[1;36m1\u001b[0m    \u001b[1;36m13\u001b[0m/\u001b[1;36m08\u001b[0m/\u001b[1;36m2012\u001b[0m\n",
       "\u001b[1;36m2\u001b[0m    \u001b[1;36m20\u001b[0m/\u001b[1;36m08\u001b[0m/\u001b[1;36m2012\u001b[0m\n",
       "\u001b[1;36m3\u001b[0m    \u001b[1;36m27\u001b[0m/\u001b[1;36m08\u001b[0m/\u001b[1;36m2012\u001b[0m\n",
       "\u001b[1;36m4\u001b[0m    \u001b[1;36m03\u001b[0m/\u001b[1;36m09\u001b[0m/\u001b[1;36m2012\u001b[0m\n",
       "Name: DATE, dtype: object\n"
      ]
     },
     "metadata": {},
     "output_type": "display_data"
    }
   ],
   "source": [
    "time_axis.head()"
   ]
  },
  {
   "cell_type": "code",
   "execution_count": 15,
   "id": "2a1ee0c8-9bbf-4b26-a2d0-30f3baa4ae04",
   "metadata": {},
   "outputs": [],
   "source": [
    "time_axis = pd.to_datetime(time_axis, format='%d/%m/%Y')"
   ]
  },
  {
   "cell_type": "code",
   "execution_count": 16,
   "id": "f7e759cc-8e53-417e-ac9a-701f5daad36c",
   "metadata": {},
   "outputs": [],
   "source": [
    "# plot the val results\n",
    "val_x_axis = np.arange(200, 208)"
   ]
  },
  {
   "cell_type": "code",
   "execution_count": 17,
   "id": "1c903070-4437-4c59-8a16-a3edf520329d",
   "metadata": {},
   "outputs": [
    {
     "data": {
      "text/html": [
       "<div>\n",
       "<style scoped>\n",
       "    .dataframe tbody tr th:only-of-type {\n",
       "        vertical-align: middle;\n",
       "    }\n",
       "\n",
       "    .dataframe tbody tr th {\n",
       "        vertical-align: top;\n",
       "    }\n",
       "\n",
       "    .dataframe thead th {\n",
       "        text-align: right;\n",
       "    }\n",
       "</style>\n",
       "<table border=\"1\" class=\"dataframe\">\n",
       "  <thead>\n",
       "    <tr style=\"text-align: right;\">\n",
       "      <th></th>\n",
       "      <th>revenue</th>\n",
       "      <th>media1_S</th>\n",
       "      <th>media2_S</th>\n",
       "      <th>media3_S</th>\n",
       "      <th>competitor_sales</th>\n",
       "      <th>newsletter</th>\n",
       "    </tr>\n",
       "  </thead>\n",
       "  <tbody>\n",
       "    <tr>\n",
       "      <th>203</th>\n",
       "      <td>2456240.000</td>\n",
       "      <td>0.0</td>\n",
       "      <td>153723.66670</td>\n",
       "      <td>0.0000</td>\n",
       "      <td>7612762</td>\n",
       "      <td>28157.00</td>\n",
       "    </tr>\n",
       "    <tr>\n",
       "      <th>204</th>\n",
       "      <td>2182825.000</td>\n",
       "      <td>154917.6</td>\n",
       "      <td>0.00000</td>\n",
       "      <td>133624.5755</td>\n",
       "      <td>6701667</td>\n",
       "      <td>10644.00</td>\n",
       "    </tr>\n",
       "    <tr>\n",
       "      <th>205</th>\n",
       "      <td>2377706.667</td>\n",
       "      <td>21982.5</td>\n",
       "      <td>17476.00000</td>\n",
       "      <td>0.0000</td>\n",
       "      <td>7688920</td>\n",
       "      <td>9597.00</td>\n",
       "    </tr>\n",
       "    <tr>\n",
       "      <th>206</th>\n",
       "      <td>2732825.000</td>\n",
       "      <td>22453.0</td>\n",
       "      <td>24051.33333</td>\n",
       "      <td>0.0000</td>\n",
       "      <td>8815710</td>\n",
       "      <td>90189.00</td>\n",
       "    </tr>\n",
       "    <tr>\n",
       "      <th>207</th>\n",
       "      <td>2767788.333</td>\n",
       "      <td>0.0</td>\n",
       "      <td>0.00000</td>\n",
       "      <td>366190.7594</td>\n",
       "      <td>9067759</td>\n",
       "      <td>19401.65</td>\n",
       "    </tr>\n",
       "  </tbody>\n",
       "</table>\n",
       "</div>"
      ]
     },
     "execution_count": 17,
     "metadata": {},
     "output_type": "execute_result"
    }
   ],
   "source": [
    "dataset.tail()"
   ]
  },
  {
   "cell_type": "markdown",
   "id": "b2360dad-ab93-489e-873b-73138fe0fb49",
   "metadata": {
    "jp-MarkdownHeadingCollapsed": true,
    "tags": []
   },
   "source": [
    "# Explanatory of dataset"
   ]
  },
  {
   "cell_type": "code",
   "execution_count": null,
   "id": "52f6b118-5982-4bf7-bb32-e6031e6fe178",
   "metadata": {},
   "outputs": [],
   "source": [
    "dataset.describe().transpose()"
   ]
  },
  {
   "cell_type": "code",
   "execution_count": null,
   "id": "df68c12b-637d-4eaf-87d6-4edc9fdbd436",
   "metadata": {},
   "outputs": [],
   "source": [
    "plot_features = dataset.copy()\n",
    "plot_features.index = time_axis\n",
    "_ = plot_features.plot(subplots=True)"
   ]
  },
  {
   "cell_type": "code",
   "execution_count": null,
   "id": "6f13ad40-3ac7-431e-8c4f-7997b42941e0",
   "metadata": {},
   "outputs": [],
   "source": [
    "# # plot\n",
    "# sns.pairplot(dataset[['revenue', 'media1_S', 'media2_S', 'media3_S']], diag_kind='kde')"
   ]
  },
  {
   "cell_type": "code",
   "execution_count": null,
   "id": "abcd2779-d6b6-4272-83f0-23b3cd452d5b",
   "metadata": {},
   "outputs": [],
   "source": [
    "# sns.pairplot(dataset[['newsletter', 'media1_S', 'media2_S', 'media3_S']], diag_kind='kde')"
   ]
  },
  {
   "cell_type": "markdown",
   "id": "9ced43bc-1e4b-40b5-864e-ef49e517e7cf",
   "metadata": {
    "jp-MarkdownHeadingCollapsed": true,
    "tags": []
   },
   "source": [
    "# `base` processing the dataset into *train, val*"
   ]
  },
  {
   "cell_type": "code",
   "execution_count": null,
   "id": "ac239fa7-fd38-4fa5-a18b-d812f4ad537a",
   "metadata": {},
   "outputs": [],
   "source": [
    "# a given split\n",
    "train_features, test_features, train_labels, test_labels = base_process_data(dataset=dataset, split_index=200)"
   ]
  },
  {
   "cell_type": "code",
   "execution_count": null,
   "id": "da91f794-9c44-42c4-a7c2-87059079ba3e",
   "metadata": {},
   "outputs": [],
   "source": [
    "# double check tbe given split\n",
    "\n",
    "print(dataset.iloc[200-1])\n",
    "print(time_axis[200-1])"
   ]
  },
  {
   "cell_type": "code",
   "execution_count": null,
   "id": "9ea627fb-14ba-4d9b-bfbd-01a84d86dd5e",
   "metadata": {},
   "outputs": [],
   "source": [
    "train_features.shape\n",
    "train_labels.shape\n",
    "test_features.shape\n",
    "test_labels.shape"
   ]
  },
  {
   "cell_type": "code",
   "execution_count": null,
   "id": "1197dd1f-6625-4ab5-9a79-bf924ba63d28",
   "metadata": {},
   "outputs": [],
   "source": [
    "# feature normalization\n",
    "normalizer = feature_normalization(train_features)"
   ]
  },
  {
   "cell_type": "markdown",
   "id": "b4799146-9105-4b0e-9c46-08886f1ae738",
   "metadata": {
    "tags": []
   },
   "source": [
    "# Modelling\n"
   ]
  },
  {
   "cell_type": "markdown",
   "id": "2dfaf96a-01ec-4062-96f2-dd5874fe37cf",
   "metadata": {
    "tags": []
   },
   "source": [
    "## base models"
   ]
  },
  {
   "cell_type": "markdown",
   "id": "89a5d63d-92b6-45ca-8f3a-3f2e51315e0a",
   "metadata": {
    "jp-MarkdownHeadingCollapsed": true,
    "tags": []
   },
   "source": [
    "### a deterministic DNN model as `reference`"
   ]
  },
  {
   "cell_type": "code",
   "execution_count": null,
   "id": "67b88c8d-df5b-4324-8e2b-bd9d8822d6d4",
   "metadata": {},
   "outputs": [],
   "source": [
    "dnn_model = build_and_compile_model(normalizer)\n",
    "dnn_model.summary()"
   ]
  },
  {
   "cell_type": "code",
   "execution_count": null,
   "id": "75b4fb85-037b-47a9-b750-b42a49f4d305",
   "metadata": {},
   "outputs": [],
   "source": [
    "%%time\n",
    "history = dnn_model.fit(\n",
    "    train_features,\n",
    "    train_labels,\n",
    "    validation_split=0.2,\n",
    "    verbose=1,\n",
    "    epochs=300)"
   ]
  },
  {
   "cell_type": "code",
   "execution_count": null,
   "id": "92871d79-07c1-40d2-9fa2-2cd31db959f4",
   "metadata": {},
   "outputs": [],
   "source": [
    "plot_history_info(history)"
   ]
  },
  {
   "cell_type": "code",
   "execution_count": null,
   "id": "1f490df9-4bfc-486e-8e98-3616bb694fa7",
   "metadata": {},
   "outputs": [],
   "source": [
    "dnn_model.evaluate(test_features, test_labels)"
   ]
  },
  {
   "cell_type": "code",
   "execution_count": null,
   "id": "010ba378-b067-404d-94cd-28689e2bc28a",
   "metadata": {},
   "outputs": [],
   "source": []
  },
  {
   "cell_type": "markdown",
   "id": "a66950f9-7832-422e-a714-f72cad0815d4",
   "metadata": {
    "jp-MarkdownHeadingCollapsed": true,
    "tags": []
   },
   "source": [
    "### an aleatoric DNN model that computes `data noise`"
   ]
  },
  {
   "cell_type": "code",
   "execution_count": null,
   "id": "33c18004-7f3c-4e4d-9fa0-a3cdbad7bb2d",
   "metadata": {},
   "outputs": [],
   "source": [
    "aleatoric_model = create_and_compile_aleatoric_model(\n",
    "                        input_shape = 5, \n",
    "                        norm = normalizer)"
   ]
  },
  {
   "cell_type": "code",
   "execution_count": null,
   "id": "e2caf409-0666-42ee-a9c6-1877b7bbec85",
   "metadata": {},
   "outputs": [],
   "source": [
    "history_aleatoric = aleatoric_model.fit(\n",
    "    train_features,\n",
    "    train_labels,\n",
    "    validation_split=0.2,\n",
    "    verbose=0,\n",
    "    epochs=300)"
   ]
  },
  {
   "cell_type": "code",
   "execution_count": null,
   "id": "4e71fb07-b520-48b8-9a78-70bd802010eb",
   "metadata": {},
   "outputs": [],
   "source": [
    "plot_history_info(history_aleatoric)"
   ]
  },
  {
   "cell_type": "code",
   "execution_count": null,
   "id": "52d59e8f-277d-442a-b914-8fb6a5f77b06",
   "metadata": {},
   "outputs": [],
   "source": [
    "aleatoric_model.evaluate(test_features, test_labels)"
   ]
  },
  {
   "cell_type": "code",
   "execution_count": null,
   "id": "81500f59-d80c-467b-8af0-18c5d4724c3d",
   "metadata": {},
   "outputs": [],
   "source": [
    "# model prediction with aleatoric model\n",
    "y_model = aleatoric_model(test_features)\n",
    "\n",
    "y_hat = y_model.mean()\n",
    "y_hat_m2sd = y_hat - 2 * y_model.stddev()\n",
    "y_hat_p2sd = y_hat + 2 * y_model.stddev()"
   ]
  },
  {
   "cell_type": "code",
   "execution_count": null,
   "id": "fc0485d7-11af-40bd-bf36-9520f655c8ee",
   "metadata": {},
   "outputs": [],
   "source": [
    "tf.keras.metrics.mean_absolute_error(\n",
    "    y_true=test_labels, y_pred=np.squeeze(y_hat))"
   ]
  },
  {
   "cell_type": "code",
   "execution_count": null,
   "id": "504d9b70-0302-40db-a6aa-8748f9a5921f",
   "metadata": {},
   "outputs": [],
   "source": [
    "tf.keras.metrics.mean_absolute_percentage_error(\n",
    "    y_true=test_labels, \n",
    "    y_pred=np.squeeze(y_hat))"
   ]
  },
  {
   "cell_type": "code",
   "execution_count": null,
   "id": "04b67a01-ca2d-44a0-99c6-43672f59d404",
   "metadata": {},
   "outputs": [],
   "source": [
    "fig, ax = plt.subplots(figsize=(12, 4))\n",
    "\n",
    "# plot the train and val [revenue] series \n",
    "ax.plot(dataset.revenue, marker='+')\n",
    "\n",
    "# boundry between train and val\n",
    "ax.axvline(x=200, ymin=0, ymax=1, color='purple', linestyle='--')\n",
    "\n",
    "val_x_axis = np.arange(200, 208)\n",
    "\n",
    "# add the predictions then \n",
    "ax.scatter(val_x_axis, test_labels, color='r', marker='o', )\n",
    "\n",
    "ax.fill_between(val_x_axis,\n",
    "        np.squeeze(y_hat_p2sd),\n",
    "        np.squeeze(y_hat_m2sd), \n",
    "        color='salmon', \n",
    "        alpha=0.2, \n",
    "        label='95CI')\n",
    "\n",
    "ax.grid(linestyle=':')\n",
    "ax.set_xlim([160,208])\n",
    "ax.set_ylabel('Revenue in million')\n",
    "ax.legend(loc='best')"
   ]
  },
  {
   "cell_type": "code",
   "execution_count": null,
   "id": "dac8c35b-028c-4b01-a7e7-d23651d9dd26",
   "metadata": {},
   "outputs": [],
   "source": [
    "# val range only\n",
    "\n",
    "fig, ax = plt.subplots()\n",
    "\n",
    "val_x_axis = np.arange(0, 8)\n",
    "\n",
    "# gt\n",
    "ax.scatter(val_x_axis, test_labels, marker='o', alpha=0.4, label='gt')\n",
    "\n",
    "\n",
    "# mean prediction\n",
    "ax.plot(val_x_axis, y_hat, color='blue', label='conditional mean')\n",
    "ax.plot(val_x_axis, y_hat_m2sd, 'g--', label='95 aleatoric interval')\n",
    "ax.plot(val_x_axis, y_hat_p2sd, 'g--')\n",
    "ax.legend()\n",
    "\n",
    "ax.set_ylabel('Revenue')        \n",
    "ax.set_xlabel('validation')\n",
    "ax.set_title('Aleatoric uncertainy')\n",
    "# ax.set_ylim([0, 6])\n",
    "\n",
    "save2Vis('DNN_aleatoric')"
   ]
  },
  {
   "cell_type": "markdown",
   "id": "bc94676d-e004-4a65-97a7-414d63c45dac",
   "metadata": {
    "jp-MarkdownHeadingCollapsed": true,
    "tags": []
   },
   "source": [
    "### Construct a BNN model"
   ]
  },
  {
   "cell_type": "code",
   "execution_count": null,
   "id": "7277f4ec-5a57-4208-a942-3682465df9c9",
   "metadata": {},
   "outputs": [],
   "source": [
    "B_model = BDNN_svi(norm=normalizer, N = 200)"
   ]
  },
  {
   "cell_type": "code",
   "execution_count": null,
   "id": "f7485c9a-f819-4c73-9dc2-43314f5d8fa0",
   "metadata": {},
   "outputs": [],
   "source": [
    "B_model.compile(loss=nll, optimizer=tf.keras.optimizers.RMSprop(), metrics=['mae'])"
   ]
  },
  {
   "cell_type": "code",
   "execution_count": null,
   "id": "cf141f6b-af1b-454f-b095-0376447c8a21",
   "metadata": {},
   "outputs": [],
   "source": [
    "BNN_history = B_model.fit(\n",
    "    train_features,\n",
    "    train_labels,\n",
    "    validation_data = (test_features, test_labels),\n",
    "    batch_size = 64,\n",
    "    verbose=1, \n",
    "    epochs=100,\n",
    ")"
   ]
  },
  {
   "cell_type": "code",
   "execution_count": null,
   "id": "1f49c384-ae55-446f-900c-310613fa4932",
   "metadata": {},
   "outputs": [],
   "source": [
    "plot_history_info(BNN_history)"
   ]
  },
  {
   "cell_type": "code",
   "execution_count": null,
   "id": "71054323-b044-4700-ae3c-4e807b2edfce",
   "metadata": {},
   "outputs": [],
   "source": [
    "# okay a bit noisy .. anyway ... let's do inference "
   ]
  },
  {
   "cell_type": "code",
   "execution_count": null,
   "id": "f2dcd29a-881d-468c-9424-587a625ac9d3",
   "metadata": {},
   "outputs": [],
   "source": [
    "ensemble = EnsemblePredict(ensemble_size=300, test_features = test_features, test_labels=test_labels)"
   ]
  },
  {
   "cell_type": "code",
   "execution_count": null,
   "id": "9c4c6e45-e72b-40d2-a2ee-7d27d6f0ca4f",
   "metadata": {},
   "outputs": [],
   "source": [
    "# epistemic uncertainty \n",
    "# compute the ensemble times of conditional mean ... \n",
    "ensemble.mc_predict_test_set(model=B_model)"
   ]
  },
  {
   "cell_type": "code",
   "execution_count": null,
   "id": "10e60e43-82d0-4cd8-bb7f-2d8ac2df63be",
   "metadata": {},
   "outputs": [],
   "source": [
    "# plot the epistemic uncertainty \n",
    "ensemble.pl_epistemic(val_x_axis = val_x_axis)"
   ]
  },
  {
   "cell_type": "code",
   "execution_count": null,
   "id": "a095bf65-8864-4e00-8063-f979f61bcd4b",
   "metadata": {},
   "outputs": [],
   "source": [
    "# mixed uncertainty: compute the distribution objects throughout the test set for \n",
    "\n",
    "ensemble.cp_ensemble_testset(B_model)"
   ]
  },
  {
   "cell_type": "code",
   "execution_count": null,
   "id": "e6f5b943-3cc9-49c3-aa8c-241467574507",
   "metadata": {},
   "outputs": [],
   "source": [
    "len(ensemble._dist_obj_testset)\n",
    "PI_dp_bounds_all_list = ensemble.get_PI_bounds_testset(style='gmm')\n",
    "PI_dp_bounds_all_list[0]\n",
    "B_model.evaluate(test_features, test_labels)"
   ]
  },
  {
   "cell_type": "code",
   "execution_count": null,
   "id": "db727a50-f9fb-4e4c-b3af-1678cdcb2dc0",
   "metadata": {},
   "outputs": [],
   "source": [
    "tf.keras.metrics.mean_absolute_error(y_true=test_labels, y_pred=np.mean(ensemble.enPred_WholeTestSet, axis=0))"
   ]
  },
  {
   "cell_type": "markdown",
   "id": "9b5b5faa-a4db-40ce-9f80-3f6781f73dc2",
   "metadata": {},
   "source": [
    "<font color='red'>TODO</font> Plot the mixed uncertainty and also the distribution w.r.c a certain data point."
   ]
  },
  {
   "cell_type": "markdown",
   "id": "b316c205-5b4c-460e-9ba8-8139210493a0",
   "metadata": {
    "jp-MarkdownHeadingCollapsed": true,
    "tags": []
   },
   "source": [
    "### Flipout model"
   ]
  },
  {
   "cell_type": "code",
   "execution_count": null,
   "id": "ea8b6861-ec3d-4f4f-ad1e-4e76ab9efbb3",
   "metadata": {},
   "outputs": [],
   "source": [
    "flipout_model = BDNN_flipout(N=200, norm=normalizer)"
   ]
  },
  {
   "cell_type": "code",
   "execution_count": null,
   "id": "3faeb2ed-96b5-4df7-a0e4-18ee2d707ca4",
   "metadata": {},
   "outputs": [],
   "source": [
    "flipout_model.compile(\n",
    "    loss=nll, \n",
    "    optimizer='RMSprop',\n",
    "    metrics=[tf.keras.metrics.MeanAbsoluteError(name='mae'),\n",
    "            tf.keras.metrics.MeanAbsolutePercentageError(name='mape')])\n",
    "\n",
    "history_flipout = flipout_model.fit(\n",
    "                    train_features,\n",
    "                    train_labels,\n",
    "                    epochs=300,\n",
    "                    validation_split=0.2,\n",
    "                    verbose=1)"
   ]
  },
  {
   "cell_type": "code",
   "execution_count": null,
   "id": "11d07ade-e92c-4596-8d30-a8801d582081",
   "metadata": {},
   "outputs": [],
   "source": [
    "plot_history_info(history_flipout)"
   ]
  },
  {
   "cell_type": "code",
   "execution_count": null,
   "id": "4b188988-0447-40e1-963a-9f59fcb36043",
   "metadata": {},
   "outputs": [],
   "source": [
    "# Bayesian changing each time\n",
    "flipout_model.evaluate(train_features, train_labels)"
   ]
  },
  {
   "cell_type": "code",
   "execution_count": null,
   "id": "8963ac0c-af9a-4974-9839-095ecf311f33",
   "metadata": {},
   "outputs": [],
   "source": [
    "ensemble = EnsemblePredict(ensemble_size=300, test_features = test_features, test_labels=test_labels)"
   ]
  },
  {
   "cell_type": "code",
   "execution_count": null,
   "id": "6844a36c-b4da-4756-82da-97fe80768cc9",
   "metadata": {},
   "outputs": [],
   "source": [
    "# epistemic uncertainty \n",
    "# compute the ensemble times of conditional mean ... \n",
    "ensemble.mc_predict_test_set(model=flipout_model)"
   ]
  },
  {
   "cell_type": "code",
   "execution_count": null,
   "id": "03c438f2-2c4b-4908-a063-32f20d6ae491",
   "metadata": {},
   "outputs": [],
   "source": [
    "# plot the epistemic uncertainty \n",
    "ensemble.pl_epistemic(val_x_axis = val_x_axis)"
   ]
  },
  {
   "cell_type": "code",
   "execution_count": null,
   "id": "194f228b-2083-4770-9000-de487359149d",
   "metadata": {},
   "outputs": [],
   "source": [
    "ensemble.pl_epistemic_ts(dataset=dataset)\n",
    "save2Vis('BDNN_epistemic_uncertainty')"
   ]
  },
  {
   "cell_type": "code",
   "execution_count": null,
   "id": "98e77cf0-fb1d-4241-a250-d897f4330c1d",
   "metadata": {},
   "outputs": [],
   "source": [
    "mae, mape = ensemble.cp_ensemble_metrics()"
   ]
  },
  {
   "cell_type": "code",
   "execution_count": null,
   "id": "61679122-d5ba-4b44-a4d7-7ef9abb10386",
   "metadata": {},
   "outputs": [],
   "source": [
    "mae"
   ]
  },
  {
   "cell_type": "code",
   "execution_count": null,
   "id": "4ee3c0a2-8248-4337-9139-d9954f5fa159",
   "metadata": {},
   "outputs": [],
   "source": [
    "mape"
   ]
  },
  {
   "cell_type": "code",
   "execution_count": null,
   "id": "4cf055a9-6ec9-4e6a-82b7-cedf3ea23774",
   "metadata": {},
   "outputs": [],
   "source": [
    "# mixed uncertainty plot ..."
   ]
  },
  {
   "cell_type": "code",
   "execution_count": null,
   "id": "8cc23a9e-07de-4ee4-adbb-fb13fc05aa4a",
   "metadata": {},
   "outputs": [],
   "source": [
    "# mixed uncertainty: compute the distribution objects throughout the test set for \n",
    "\n",
    "ensemble.cp_ensemble_testset(flipout_model)"
   ]
  },
  {
   "cell_type": "code",
   "execution_count": null,
   "id": "25ae8d51-e740-4a43-ae55-3f29654a211e",
   "metadata": {},
   "outputs": [],
   "source": [
    "# compute the GMM bounds given dist objects\n",
    "\n",
    "PI_dp_bounds_all_list = ensemble.get_PI_bounds_testset(style='gmm')"
   ]
  },
  {
   "cell_type": "code",
   "execution_count": null,
   "id": "eea92886-12a1-4a22-aee3-e4db7662a079",
   "metadata": {},
   "outputs": [],
   "source": [
    "PI_dp_bounds_all_list[0].mean"
   ]
  },
  {
   "cell_type": "code",
   "execution_count": null,
   "id": "d91a63ac-1434-48e1-9df4-b5670fa11ca3",
   "metadata": {},
   "outputs": [],
   "source": [
    "ensemble.mixed_uncertainty_PI(dataset, PI_dp_bounds_all_list, val_x_axis)\n",
    "save2Vis('mixed_uncertainty')"
   ]
  },
  {
   "cell_type": "code",
   "execution_count": null,
   "id": "1d855352-bd57-4de5-a9e7-1d0a75b050f6",
   "metadata": {},
   "outputs": [],
   "source": []
  },
  {
   "cell_type": "code",
   "execution_count": null,
   "id": "5669367e-1f21-4868-8e83-333dec54fe10",
   "metadata": {},
   "outputs": [],
   "source": []
  },
  {
   "cell_type": "markdown",
   "id": "5a0b694c-61b4-4dec-8eb5-b370a5d9547d",
   "metadata": {
    "jp-MarkdownHeadingCollapsed": true,
    "tags": []
   },
   "source": [
    "### `PYMC` Bayesian linear regression model"
   ]
  },
  {
   "cell_type": "code",
   "execution_count": null,
   "id": "2e3ec644-2694-41e7-a22a-717b9fa079b3",
   "metadata": {},
   "outputs": [],
   "source": [
    "RANDOM_SEED = 9527\n",
    "rng = np.random.default_rng(RANDOM_SEED)"
   ]
  },
  {
   "cell_type": "code",
   "execution_count": null,
   "id": "57d01cfc-b122-4da8-978e-16d8ce7055ca",
   "metadata": {},
   "outputs": [],
   "source": [
    "# normalized features\n",
    "n_train_features, n_test_features, train_labels, test_labels = base_process_data(dataset=dataset, split_index=200, normalize=True)"
   ]
  },
  {
   "cell_type": "code",
   "execution_count": null,
   "id": "eb05dfd7-79ab-48e9-a65d-f74f19fbf138",
   "metadata": {},
   "outputs": [],
   "source": [
    "train_labels.shape"
   ]
  },
  {
   "cell_type": "code",
   "execution_count": null,
   "id": "a1e3efe5-f6b8-429f-bc51-a71287b813bc",
   "metadata": {},
   "outputs": [],
   "source": [
    "n_train_features.shape"
   ]
  },
  {
   "cell_type": "code",
   "execution_count": null,
   "id": "cb09b900-4abd-494b-b14c-1134710c3955",
   "metadata": {},
   "outputs": [],
   "source": [
    "with Model() as model:  # model specifications in PyMC are wrapped in a with-statement\n",
    "    # Define priors\n",
    "    sigma = Normal(\"sigma\", 0, sigma=10)\n",
    "    \n",
    "    b1 = Normal(\"media1_S\", 0, sigma=1)\n",
    "    b2 = Normal(\"media2_S\", 0, sigma=1)\n",
    "    b3 = Normal(\"media3_S\", 0, sigma=1)\n",
    "    b_cs = Normal(\"competitor_sales\", 0, sigma=1)\n",
    "    b_nl = Normal(\"newsletter\", 0, sigma=1)\n",
    "    bias = Normal(\"bias\", 0, sigma=1)\n",
    "\n",
    "    # Define likelihood\n",
    "    likelihood = Normal(\"revenue\", \n",
    "                        mu = bias +b1*n_train_features[:,0]+b2*n_train_features[:,1]+b3*n_train_features[:,2]+b_cs*n_train_features[:,3]+b_nl*n_train_features[:,4], \n",
    "                        sigma=sigma, \n",
    "                        observed=train_labels)\n",
    "\n",
    "    # Inference!\n",
    "    # draw 3000 posterior samples using NUTS sampling\n",
    "    idata = sample(5000)"
   ]
  },
  {
   "cell_type": "code",
   "execution_count": null,
   "id": "35cff8a2-bf97-4b45-8ace-eedf011d7dbb",
   "metadata": {},
   "outputs": [],
   "source": [
    "az.plot_trace(idata, combined=True, figsize=(12, 24));"
   ]
  },
  {
   "cell_type": "code",
   "execution_count": null,
   "id": "f81473a1-6140-43c0-92e3-cc937bc79ac7",
   "metadata": {},
   "outputs": [],
   "source": [
    "idata"
   ]
  },
  {
   "cell_type": "code",
   "execution_count": null,
   "id": "fa7185ea-0fd4-4b8a-9deb-fe0fe10aa6c0",
   "metadata": {},
   "outputs": [],
   "source": [
    "# idata.posterior.get('media1_S').to_numpy()\n",
    "# b1_samples = idata.posterior.media1_S.to_numpy()\n",
    "# b1_samples[0].shape"
   ]
  },
  {
   "cell_type": "code",
   "execution_count": null,
   "id": "9c6bab8f-3061-4b52-b2e3-52edb28aeae7",
   "metadata": {},
   "outputs": [],
   "source": [
    "dataset.columns"
   ]
  },
  {
   "cell_type": "code",
   "execution_count": null,
   "id": "7b458d46-67a1-49e1-8dcd-96e906966e99",
   "metadata": {},
   "outputs": [],
   "source": [
    "for var in  dataset.columns[1:]:\n",
    "    print(var)"
   ]
  },
  {
   "cell_type": "code",
   "execution_count": null,
   "id": "e2010082-6966-4b12-af3a-27d3b138d6c1",
   "metadata": {},
   "outputs": [],
   "source": [
    "def get_MCMC_samples(dataset, num):\n",
    "    \"\"\" xxx \n",
    "\n",
    "    We designate the firt chain\n",
    "    \"\"\"\n",
    "    samples_by_var = [idata.posterior.get(var).to_numpy()[0] for var in dataset.columns[1:]]\n",
    "    rnd_sample = [np.random.choice(a=s, size=num, replace=True) for s in samples_by_var]\n",
    "    return rnd_sample"
   ]
  },
  {
   "cell_type": "code",
   "execution_count": null,
   "id": "9f23e721-f65d-42ff-aefb-6cb755b5d55e",
   "metadata": {},
   "outputs": [],
   "source": []
  },
  {
   "cell_type": "code",
   "execution_count": null,
   "id": "8cd872dc-9e8a-42a2-a2f2-1a6dadb76050",
   "metadata": {},
   "outputs": [],
   "source": [
    "samples_by_var = get_MCMC_samples(dataset, 300)\n",
    "\n",
    "# into 5 * 300"
   ]
  },
  {
   "cell_type": "code",
   "execution_count": null,
   "id": "8ac67248-f43d-42da-9408-57178f913882",
   "metadata": {},
   "outputs": [],
   "source": [
    "len(samples_by_var)"
   ]
  },
  {
   "cell_type": "code",
   "execution_count": null,
   "id": "5ae9eb7a-ce15-4c46-9eb5-37b6d9a7193a",
   "metadata": {},
   "outputs": [],
   "source": [
    "samples_by_var[0].shape"
   ]
  },
  {
   "cell_type": "code",
   "execution_count": null,
   "id": "952396af-aee3-46ba-8d6b-f26e5eda42cf",
   "metadata": {},
   "outputs": [],
   "source": [
    "samples_by_var_np = np.vstack(samples_by_var)\n",
    "samples_by_var_np.shape"
   ]
  },
  {
   "cell_type": "code",
   "execution_count": null,
   "id": "253a52b6-6b1e-4d06-b031-1b22ea1d1bc2",
   "metadata": {},
   "outputs": [],
   "source": [
    "# show the predictions and the results "
   ]
  },
  {
   "cell_type": "code",
   "execution_count": null,
   "id": "ad462eb7-4108-4f1c-90c1-3870851a4dda",
   "metadata": {},
   "outputs": [],
   "source": [
    "n_test_features.shape"
   ]
  },
  {
   "cell_type": "code",
   "execution_count": null,
   "id": "da022339-26c2-4de5-9483-95483620a384",
   "metadata": {},
   "outputs": [],
   "source": [
    "test_preds = np.matmul(n_test_features, samples_by_var_np)"
   ]
  },
  {
   "cell_type": "code",
   "execution_count": null,
   "id": "2be2c949-e8e0-4629-bec1-3e6cc68b3891",
   "metadata": {},
   "outputs": [],
   "source": [
    "test_preds.shape"
   ]
  },
  {
   "cell_type": "code",
   "execution_count": null,
   "id": "9dd7d6e5-64e8-4d15-94af-6d4c4e499f25",
   "metadata": {},
   "outputs": [],
   "source": [
    "fig, ax = plt.subplots()\n",
    "ax.scatter(val_x_axis, test_labels, label='gt')\n",
    "ax.scatter(val_x_axis, test_preds[:, 200], label='pred')\n",
    "# mean-curve\n",
    "ax.plot(val_x_axis, np.mean(test_preds, axis=1), label='mean')\n",
    "ax.legend()"
   ]
  },
  {
   "cell_type": "markdown",
   "id": "dd74c00c-630b-469e-aaa7-4caa61278c4f",
   "metadata": {
    "jp-MarkdownHeadingCollapsed": true,
    "tags": []
   },
   "source": [
    "### Bayesian linear model by TF"
   ]
  },
  {
   "cell_type": "code",
   "execution_count": null,
   "id": "a3e49bae-540d-4cf2-ac5d-9c7db3154971",
   "metadata": {},
   "outputs": [],
   "source": [
    "from models import sg_prior, posterior, posterior2"
   ]
  },
  {
   "cell_type": "code",
   "execution_count": null,
   "id": "1ca3ed1e-1422-4077-b577-3edc2a1cc7c7",
   "metadata": {},
   "outputs": [],
   "source": [
    "linear = Sequential([\n",
    "    tfpl.DenseVariational(\n",
    "        units=1,\n",
    "        make_prior_fn=sg_prior,\n",
    "        make_posterior_fn=posterior2,\n",
    "        use_bias=True,\n",
    "        kl_weight = 1/200),\n",
    "])"
   ]
  },
  {
   "cell_type": "code",
   "execution_count": null,
   "id": "8daabe15-64f1-4bf3-8b4b-f7a323761d09",
   "metadata": {},
   "outputs": [],
   "source": [
    "# linear.summary()"
   ]
  },
  {
   "cell_type": "code",
   "execution_count": null,
   "id": "18c50561-39d0-4fca-a38d-b143522c2996",
   "metadata": {},
   "outputs": [],
   "source": [
    "linear.compile(loss='mse',\n",
    "            optimizer=tf.keras.optimizers.Adam(),\n",
    "            metrics=['mae', 'mape'])"
   ]
  },
  {
   "cell_type": "code",
   "execution_count": null,
   "id": "af1a447e-6144-4f86-a5ae-f179b8122d79",
   "metadata": {},
   "outputs": [],
   "source": [
    "history = linear.fit(\n",
    "    n_train_features,\n",
    "    train_labels, \n",
    "    validation_split=0.2,\n",
    "    epochs=300,\n",
    "    verbose=1)"
   ]
  },
  {
   "cell_type": "code",
   "execution_count": null,
   "id": "bc238dbb-8e15-4508-81cb-a9a6b3a28a28",
   "metadata": {},
   "outputs": [],
   "source": [
    "linear.evaluate(n_test_features, test_labels)"
   ]
  },
  {
   "cell_type": "code",
   "execution_count": null,
   "id": "f7e7f4b9-725e-4873-801e-bdfc1ae61fe5",
   "metadata": {},
   "outputs": [],
   "source": [
    "ensemble = EnsemblePredict(ensemble_size=300, test_features = n_test_features, test_labels=test_labels)"
   ]
  },
  {
   "cell_type": "code",
   "execution_count": null,
   "id": "36d13fe1-17de-46eb-905b-013be92f0b32",
   "metadata": {},
   "outputs": [],
   "source": [
    "# epistemic uncertainty \n",
    "# compute the ensemble times of conditional mean ... \n",
    "ensemble.mc_predict_test_set(model=linear)"
   ]
  },
  {
   "cell_type": "code",
   "execution_count": null,
   "id": "a85e6ea1-c17e-48a5-81fd-8457102d605e",
   "metadata": {},
   "outputs": [],
   "source": [
    "# plot the epistemic uncertainty \n",
    "ensemble.pl_epistemic(val_x_axis = val_x_axis)"
   ]
  },
  {
   "cell_type": "code",
   "execution_count": null,
   "id": "30445d5c-8984-432f-88d0-97e6abf5e695",
   "metadata": {},
   "outputs": [],
   "source": [
    "mae, mape = ensemble.cp_d_metrics()"
   ]
  },
  {
   "cell_type": "code",
   "execution_count": null,
   "id": "e481a5bd-c67b-44f1-969f-6c96673454f8",
   "metadata": {},
   "outputs": [],
   "source": [
    "mae"
   ]
  },
  {
   "cell_type": "code",
   "execution_count": null,
   "id": "ad64af05-e340-426e-a67a-8268bcd7ec73",
   "metadata": {},
   "outputs": [],
   "source": [
    "mape"
   ]
  },
  {
   "cell_type": "code",
   "execution_count": null,
   "id": "3bab577b-be54-4f5c-845d-86aa7efbc46f",
   "metadata": {},
   "outputs": [],
   "source": [
    "show_dist(linear)"
   ]
  },
  {
   "cell_type": "markdown",
   "id": "dcd71434-5b24-4579-b562-cc7776badf01",
   "metadata": {
    "jp-MarkdownHeadingCollapsed": true,
    "tags": []
   },
   "source": [
    "### Deter linear regression by TF"
   ]
  },
  {
   "cell_type": "code",
   "execution_count": null,
   "id": "b12fdf81-d1b4-4a3b-a952-802e663e4081",
   "metadata": {},
   "outputs": [],
   "source": [
    "linear_deter = tf.keras.Sequential([\n",
    "  tf.keras.layers.Dense(1)])\n",
    "\n",
    "linear_deter.compile(loss='mse',\n",
    "            optimizer=tf.keras.optimizers.Adam(),\n",
    "            metrics=['mae', 'mape'])"
   ]
  },
  {
   "cell_type": "code",
   "execution_count": null,
   "id": "21aac410-9aa4-4076-906f-68eb4dfd46f1",
   "metadata": {},
   "outputs": [],
   "source": [
    "history = linear_deter.fit(\n",
    "    n_train_features,\n",
    "    train_labels, \n",
    "    validation_split=0.2,\n",
    "    epochs=50,\n",
    "    verbose=1)"
   ]
  },
  {
   "cell_type": "code",
   "execution_count": null,
   "id": "8cf9857d-c0f5-43d3-a91d-d5362f4ecf36",
   "metadata": {},
   "outputs": [],
   "source": [
    "linear_deter.evaluate(n_test_features, test_labels)"
   ]
  },
  {
   "cell_type": "code",
   "execution_count": null,
   "id": "697e6507-0474-4e1b-8401-e377bf49bfda",
   "metadata": {},
   "outputs": [],
   "source": [
    "linear_deter.layers[0].get_weights()"
   ]
  },
  {
   "cell_type": "code",
   "execution_count": null,
   "id": "7d4c8859-bf56-4527-b8d2-caddf5a4cc70",
   "metadata": {},
   "outputs": [],
   "source": []
  },
  {
   "cell_type": "markdown",
   "id": "3b01c1a6-ea6e-4d8a-a479-3f84ec78099b",
   "metadata": {
    "tags": []
   },
   "source": [
    "## temporal models\n",
    "\n",
    "I'll try a Bayesian LSTM model first and a few some other state-of-the-art alternatives for illustration.\n",
    "\n",
    "Note that this will have a different processing procedure than base models."
   ]
  },
  {
   "cell_type": "code",
   "execution_count": 18,
   "id": "7492e7fe-4ba6-44f5-9b94-ced36f9f0de4",
   "metadata": {},
   "outputs": [
    {
     "data": {
      "text/html": [
       "<pre style=\"white-space:pre;overflow-x:auto;line-height:normal;font-family:Menlo,'DejaVu Sans Mono',consolas,'Courier New',monospace\"><span style=\"color: #008000; text-decoration-color: #008000\">' need a bit tweak-up '</span>\n",
       "</pre>\n"
      ],
      "text/plain": [
       "\u001b[32m' need a bit tweak-up '\u001b[0m\n"
      ]
     },
     "metadata": {},
     "output_type": "display_data"
    }
   ],
   "source": [
    "''' for plotting of `periodicity` '''\n",
    "\n",
    "''' need a bit tweak-up '''\n",
    "# # back-up\n",
    "# # monthly = sin_transformer(period=4, x=index_time)\n",
    "# # yearly = sin_transformer(period=4*12, x=index_time)\n",
    "\n",
    "# # periodicity display\n",
    "\n",
    "# fig, ax = plt.subplots()\n",
    "# ax.plot(time_axis, dataset['month_sin'], label = 'monthly periodicity')\n",
    "# ax.plot(time_axis, dataset['revenue'], label='revenue in millions')\n",
    "# ax.plot(time_axis, dataset['year_sin'], label = 'yearly periodicity')\n",
    "\n",
    "# ax.set_xlabel('Time')\n",
    "# ax.set_ylabel('Revenue')\n",
    "# ax.legend()"
   ]
  },
  {
   "cell_type": "code",
   "execution_count": 19,
   "id": "09b4a581-7e43-44ab-bc91-27b08a5bc8ff",
   "metadata": {},
   "outputs": [
    {
     "name": "stdout",
     "output_type": "stream",
     "text": [
      "Processed dataset shape:  (208, 7)\n"
     ]
    }
   ],
   "source": [
    "train_df, val_df = temporal_process_data(dataset, split_index=200)"
   ]
  },
  {
   "cell_type": "code",
   "execution_count": 20,
   "id": "d0c7a1b1-68e1-43aa-ab61-e8e53c74e9f9",
   "metadata": {},
   "outputs": [
    {
     "data": {
      "text/html": [
       "<pre style=\"white-space:pre;overflow-x:auto;line-height:normal;font-family:Menlo,'DejaVu Sans Mono',consolas,'Courier New',monospace\"><span style=\"font-weight: bold\">(</span><span style=\"color: #008080; text-decoration-color: #008080; font-weight: bold\">200</span>, <span style=\"color: #008080; text-decoration-color: #008080; font-weight: bold\">7</span><span style=\"font-weight: bold\">)</span>\n",
       "</pre>\n"
      ],
      "text/plain": [
       "\u001b[1m(\u001b[0m\u001b[1;36m200\u001b[0m, \u001b[1;36m7\u001b[0m\u001b[1m)\u001b[0m\n"
      ]
     },
     "metadata": {},
     "output_type": "display_data"
    }
   ],
   "source": [
    "train_df.shape"
   ]
  },
  {
   "cell_type": "code",
   "execution_count": 21,
   "id": "75ce5e9a-17a3-4f69-9ab2-4c8c5619b30a",
   "metadata": {},
   "outputs": [
    {
     "data": {
      "text/html": [
       "<pre style=\"white-space:pre;overflow-x:auto;line-height:normal;font-family:Menlo,'DejaVu Sans Mono',consolas,'Courier New',monospace\"><span style=\"font-weight: bold\">(</span><span style=\"color: #008080; text-decoration-color: #008080; font-weight: bold\">8</span>, <span style=\"color: #008080; text-decoration-color: #008080; font-weight: bold\">7</span><span style=\"font-weight: bold\">)</span>\n",
       "</pre>\n"
      ],
      "text/plain": [
       "\u001b[1m(\u001b[0m\u001b[1;36m8\u001b[0m, \u001b[1;36m7\u001b[0m\u001b[1m)\u001b[0m\n"
      ]
     },
     "metadata": {},
     "output_type": "display_data"
    }
   ],
   "source": [
    "val_df.shape"
   ]
  },
  {
   "cell_type": "code",
   "execution_count": 25,
   "id": "69152629-812a-4ed8-a2c4-bdc33a327901",
   "metadata": {},
   "outputs": [],
   "source": [
    "# create a window object"
   ]
  },
  {
   "cell_type": "code",
   "execution_count": 26,
   "id": "5be2e127-278d-4e6e-87f9-6db47bf14644",
   "metadata": {},
   "outputs": [
    {
     "data": {
      "text/html": [
       "<pre style=\"white-space:pre;overflow-x:auto;line-height:normal;font-family:Menlo,'DejaVu Sans Mono',consolas,'Courier New',monospace\">\n",
       "Total window size: <span style=\"color: #008080; text-decoration-color: #008080; font-weight: bold\">5</span>\n",
       "Input indices: <span style=\"font-weight: bold\">[</span><span style=\"color: #008080; text-decoration-color: #008080; font-weight: bold\">0</span> <span style=\"color: #008080; text-decoration-color: #008080; font-weight: bold\">1</span> <span style=\"color: #008080; text-decoration-color: #008080; font-weight: bold\">2</span> <span style=\"color: #008080; text-decoration-color: #008080; font-weight: bold\">3</span><span style=\"font-weight: bold\">]</span>\n",
       "Label indices: <span style=\"font-weight: bold\">[</span><span style=\"color: #008080; text-decoration-color: #008080; font-weight: bold\">4</span><span style=\"font-weight: bold\">]</span>\n",
       "Label column <span style=\"color: #800080; text-decoration-color: #800080; font-weight: bold\">name</span><span style=\"font-weight: bold\">(</span>s<span style=\"font-weight: bold\">)</span>: <span style=\"font-weight: bold\">[</span><span style=\"color: #008000; text-decoration-color: #008000\">'revenue'</span><span style=\"font-weight: bold\">]</span>\n",
       "</pre>\n"
      ],
      "text/plain": [
       "\n",
       "Total window size: \u001b[1;36m5\u001b[0m\n",
       "Input indices: \u001b[1m[\u001b[0m\u001b[1;36m0\u001b[0m \u001b[1;36m1\u001b[0m \u001b[1;36m2\u001b[0m \u001b[1;36m3\u001b[0m\u001b[1m]\u001b[0m\n",
       "Label indices: \u001b[1m[\u001b[0m\u001b[1;36m4\u001b[0m\u001b[1m]\u001b[0m\n",
       "Label column \u001b[1;35mname\u001b[0m\u001b[1m(\u001b[0ms\u001b[1m)\u001b[0m: \u001b[1m[\u001b[0m\u001b[32m'revenue'\u001b[0m\u001b[1m]\u001b[0m\n"
      ]
     },
     "metadata": {},
     "output_type": "display_data"
    }
   ],
   "source": [
    "# weekly context length\n",
    "context_length = 4\n",
    "\n",
    "cr_window = WindowGenerator(\n",
    "    input_width=context_length,\n",
    "    label_width=1,\n",
    "    shift=1,\n",
    "    label_columns=['revenue'], \n",
    "    train_df=train_df,\n",
    "    val_df = val_df)\n",
    "\n",
    "cr_window"
   ]
  },
  {
   "cell_type": "code",
   "execution_count": 27,
   "id": "f8ee405d-a3dc-4823-8de9-871cd0443e04",
   "metadata": {},
   "outputs": [
    {
     "name": "stdout",
     "output_type": "stream",
     "text": [
      "shape hint:\n",
      "input shape: (64, 4, 7)\n",
      "output shape: (64, 1, 1)\n"
     ]
    }
   ],
   "source": [
    "print(\"shape hint:\")\n",
    "print(\"input shape:\", cr_window.example[0].shape)\n",
    "print(\"output shape:\", cr_window.example[1].shape)"
   ]
  },
  {
   "cell_type": "markdown",
   "id": "3859fbf3-0ab6-4511-b43b-a64bc037f59b",
   "metadata": {
    "tags": []
   },
   "source": [
    "### Deterministic LSTM model"
   ]
  },
  {
   "cell_type": "markdown",
   "id": "aca130a0-4427-410c-9253-bd6d5232423f",
   "metadata": {
    "jp-MarkdownHeadingCollapsed": true,
    "tags": []
   },
   "source": [
    "#### a DNN test"
   ]
  },
  {
   "cell_type": "code",
   "execution_count": null,
   "id": "dd3f8d07-2b61-4db1-86a1-92a12d357b4c",
   "metadata": {},
   "outputs": [],
   "source": [
    "def DNN_wo_normalization():\n",
    "    model = tf.keras.Sequential([\n",
    "      tf.keras.layers.Dense(16, activation='relu'),\n",
    "      tf.keras.layers.Dense(2, activation='relu'),\n",
    "      tf.keras.layers.Dense(1)\n",
    "    ])\n",
    "    return model"
   ]
  },
  {
   "cell_type": "code",
   "execution_count": null,
   "id": "498351a5-4827-4942-a24e-1de51104d1c6",
   "metadata": {},
   "outputs": [],
   "source": [
    "DNN_wn = DNN_wo_normalization()"
   ]
  },
  {
   "cell_type": "code",
   "execution_count": null,
   "id": "d91f9d56-e278-48ef-a323-0023af75a574",
   "metadata": {},
   "outputs": [],
   "source": [
    "history = compile_and_fit_lstm(\n",
    "    model = DNN_wn, \n",
    "    loss = tf.keras.losses.MeanSquaredError(), \n",
    "    window=cr_window, \n",
    "    EPOCHS = 100,\n",
    "    VERBOSE = 1)"
   ]
  },
  {
   "cell_type": "code",
   "execution_count": null,
   "id": "b476b78d-c529-4a8c-ac68-bbed2d6bc883",
   "metadata": {},
   "outputs": [],
   "source": [
    "dnn_result_dict = cp_val(DNN_wn, cr_window, train_df, val_df)\n",
    "dnn_result_dict"
   ]
  },
  {
   "cell_type": "code",
   "execution_count": null,
   "id": "7db65402-0c0d-46ac-9d73-dce30d41886a",
   "metadata": {},
   "outputs": [],
   "source": []
  },
  {
   "cell_type": "code",
   "execution_count": null,
   "id": "9c1f7d94-4063-401c-9543-2b3704a9752e",
   "metadata": {},
   "outputs": [],
   "source": []
  },
  {
   "cell_type": "markdown",
   "id": "7855e44f-092c-4771-a258-5f69a4676be9",
   "metadata": {
    "jp-MarkdownHeadingCollapsed": true,
    "tags": []
   },
   "source": [
    "### deter LSTM"
   ]
  },
  {
   "cell_type": "code",
   "execution_count": null,
   "id": "111dc06e-c8e1-47ca-b92f-ee2772aa27a9",
   "metadata": {},
   "outputs": [],
   "source": [
    "# get a LSTM model herein\n",
    "\n",
    "lstm_model = build_lstm()"
   ]
  },
  {
   "cell_type": "code",
   "execution_count": null,
   "id": "ad9a31f7-8209-429b-88c0-44312d26d2bb",
   "metadata": {},
   "outputs": [],
   "source": [
    "history = compile_and_fit_lstm(\n",
    "    model = lstm_model, \n",
    "    loss = tf.keras.losses.MeanSquaredError(), \n",
    "    window=cr_window, \n",
    "    EPOCHS=100,\n",
    "    VERBOSE=1)"
   ]
  },
  {
   "cell_type": "code",
   "execution_count": null,
   "id": "e2519e83-184c-4659-984e-5d8a7bd80402",
   "metadata": {},
   "outputs": [],
   "source": [
    "plot_history_info(history)"
   ]
  },
  {
   "cell_type": "code",
   "execution_count": null,
   "id": "8fd43575-4826-4271-a5d7-8b3fba6de80c",
   "metadata": {},
   "outputs": [],
   "source": [
    "# # # this may not work due to the very small size of val data\n",
    "# lstm_model.evaluate(cr_window.val)"
   ]
  },
  {
   "cell_type": "code",
   "execution_count": null,
   "id": "486da3c8-cd3b-434e-8985-72b0f93dc960",
   "metadata": {},
   "outputs": [],
   "source": [
    "def cp_val(model, window, train_df, val_df):\n",
    "    all_normalized_data =  pd.concat([train_df, val_df])\n",
    "    all_normalized_data = all_normalized_data.values\n",
    "\n",
    "    preds = np.stack([model(tf.expand_dims(all_normalized_data[i-window.input_width:i, :], axis=0)) for i in range(200, 208)])\n",
    "    preds = np.squeeze(preds)\n",
    "\n",
    "    # compute the  MAE\n",
    "    mae =  tf.keras.metrics.mean_absolute_error(\n",
    "        y_true = val_df['revenue'], y_pred=preds)\n",
    "    \n",
    "    mape = tf.keras.metrics.mean_absolute_percentage_error(\n",
    "        y_true=val_df['revenue'], \n",
    "        y_pred=preds)\n",
    "    return {'mae': mae, 'mape': mape, 'pred': preds}"
   ]
  },
  {
   "cell_type": "code",
   "execution_count": null,
   "id": "af08d089-665d-4aef-8fe8-e6217d6b9879",
   "metadata": {},
   "outputs": [],
   "source": [
    "# metric\n",
    "dict_result = cp_val(lstm_model, cr_window, train_df, val_df)\n",
    "print(\"mae result\", dict_result['mae'])\n",
    "print(\"mape result\", dict_result['mape'])"
   ]
  },
  {
   "cell_type": "code",
   "execution_count": null,
   "id": "2b1aa48b-f22e-4dd5-b31e-b9655036bc8c",
   "metadata": {},
   "outputs": [],
   "source": []
  },
  {
   "cell_type": "markdown",
   "id": "0ccabd5f-3856-45ea-ba8d-03a3cf8ae414",
   "metadata": {
    "jp-MarkdownHeadingCollapsed": true,
    "tags": []
   },
   "source": [
    "### Blstm_svi2"
   ]
  },
  {
   "cell_type": "code",
   "execution_count": null,
   "id": "4038c320-0531-46fa-b3ed-42949d5aa924",
   "metadata": {},
   "outputs": [],
   "source": [
    "cr_window.val.element_spec"
   ]
  },
  {
   "cell_type": "code",
   "execution_count": null,
   "id": "ccfbf3dc-e686-4249-9861-de8e7cd93676",
   "metadata": {},
   "outputs": [],
   "source": [
    "for a, b  in cr_window.val.take(1):\n",
    "    print(a.shape)"
   ]
  },
  {
   "cell_type": "code",
   "execution_count": null,
   "id": "6358bcf8-4cff-4f5d-b170-c6aec7abc9e3",
   "metadata": {},
   "outputs": [],
   "source": [
    "a[0]"
   ]
  },
  {
   "cell_type": "code",
   "execution_count": null,
   "id": "0be7c106-97f4-45bc-a4bf-ce366efe7f86",
   "metadata": {},
   "outputs": [],
   "source": [
    "B_lstm_model2 = build_BLSTM_svi2(latent_dim=16, KL_scaling_factor=200)"
   ]
  },
  {
   "cell_type": "code",
   "execution_count": null,
   "id": "4b259127-6add-4011-89fb-3d6cc70001dc",
   "metadata": {},
   "outputs": [],
   "source": [
    "# history_Blstm2 = compile_and_fit_lstm(\n",
    "#     model=B_lstm_model2, \n",
    "#     window = cr_window, \n",
    "#     loss = 'mse', \n",
    "#     EPOCHS=100,\n",
    "#     VERBOSE=1)"
   ]
  },
  {
   "cell_type": "markdown",
   "id": "9eafcdfd-3eb5-4bfc-98da-26639074e76b",
   "metadata": {
    "tags": []
   },
   "source": [
    "### Stochastic Regularisation technique"
   ]
  },
  {
   "cell_type": "code",
   "execution_count": 28,
   "id": "d9345965-41d6-45b5-ba2d-ddfea14614f8",
   "metadata": {},
   "outputs": [],
   "source": [
    "tf.keras.backend.clear_session()"
   ]
  },
  {
   "cell_type": "code",
   "execution_count": 29,
   "id": "0e062fad-0c80-4ba1-a36a-fd7531826dd4",
   "metadata": {},
   "outputs": [],
   "source": [
    "lstm_SRT = lstm_SRT(units=16)"
   ]
  },
  {
   "cell_type": "code",
   "execution_count": 30,
   "id": "6778beb4-f15f-4dbe-aa9f-86c794a0504d",
   "metadata": {},
   "outputs": [
    {
     "name": "stdout",
     "output_type": "stream",
     "text": [
      "Epoch 1/200\n",
      "4/4 [==============================] - 3s 193ms/step - loss: 0.8970 - mae: 0.8118 - mape: 116.9518 - val_loss: 0.9277 - val_mae: 0.8879 - val_mape: 88.7072\n",
      "Epoch 2/200\n",
      "4/4 [==============================] - 0s 36ms/step - loss: 0.8253 - mae: 0.7786 - mape: 116.8063 - val_loss: 0.8431 - val_mae: 0.8377 - val_mape: 82.8207\n",
      "Epoch 3/200\n",
      "4/4 [==============================] - 0s 34ms/step - loss: 0.7663 - mae: 0.7311 - mape: 107.3371 - val_loss: 0.7633 - val_mae: 0.7888 - val_mape: 77.1758\n",
      "Epoch 4/200\n",
      "4/4 [==============================] - 0s 38ms/step - loss: 0.6824 - mae: 0.6869 - mape: 105.1715 - val_loss: 0.6849 - val_mae: 0.7374 - val_mape: 71.2615\n",
      "Epoch 5/200\n",
      "4/4 [==============================] - 0s 36ms/step - loss: 0.6844 - mae: 0.6861 - mape: 109.6829 - val_loss: 0.6113 - val_mae: 0.6855 - val_mape: 65.2719\n",
      "Epoch 6/200\n",
      "4/4 [==============================] - 0s 40ms/step - loss: 0.6418 - mae: 0.6671 - mape: 112.1946 - val_loss: 0.5481 - val_mae: 0.6374 - val_mape: 59.7152\n",
      "Epoch 7/200\n",
      "4/4 [==============================] - 0s 35ms/step - loss: 0.6249 - mae: 0.6560 - mape: 110.4254 - val_loss: 0.4918 - val_mae: 0.5910 - val_mape: 54.3401\n",
      "Epoch 8/200\n",
      "4/4 [==============================] - 0s 38ms/step - loss: 0.5426 - mae: 0.6085 - mape: 122.7299 - val_loss: 0.4400 - val_mae: 0.5438 - val_mape: 48.7892\n",
      "Epoch 9/200\n",
      "4/4 [==============================] - 0s 37ms/step - loss: 0.5257 - mae: 0.5877 - mape: 104.1601 - val_loss: 0.3903 - val_mae: 0.4940 - val_mape: 42.9642\n",
      "Epoch 10/200\n",
      "4/4 [==============================] - 0s 39ms/step - loss: 0.5263 - mae: 0.5994 - mape: 123.6068 - val_loss: 0.3437 - val_mae: 0.4439 - val_mape: 37.1777\n",
      "Epoch 11/200\n",
      "4/4 [==============================] - 0s 38ms/step - loss: 0.4832 - mae: 0.5696 - mape: 116.9655 - val_loss: 0.3037 - val_mae: 0.3964 - val_mape: 31.7144\n",
      "Epoch 12/200\n",
      "4/4 [==============================] - 0s 36ms/step - loss: 0.4824 - mae: 0.5743 - mape: 137.5732 - val_loss: 0.2684 - val_mae: 0.3500 - val_mape: 26.4318\n",
      "Epoch 13/200\n",
      "4/4 [==============================] - 0s 37ms/step - loss: 0.4255 - mae: 0.5355 - mape: 116.0610 - val_loss: 0.2414 - val_mae: 0.3411 - val_mape: 26.7589\n",
      "Epoch 14/200\n",
      "4/4 [==============================] - 0s 37ms/step - loss: 0.4192 - mae: 0.5096 - mape: 126.4429 - val_loss: 0.2184 - val_mae: 0.3409 - val_mape: 28.2267\n",
      "Epoch 15/200\n",
      "4/4 [==============================] - 0s 36ms/step - loss: 0.4403 - mae: 0.5325 - mape: 117.0053 - val_loss: 0.1972 - val_mae: 0.3397 - val_mape: 29.5677\n",
      "Epoch 16/200\n",
      "4/4 [==============================] - 0s 36ms/step - loss: 0.4278 - mae: 0.5256 - mape: 131.2234 - val_loss: 0.1800 - val_mae: 0.3382 - val_mape: 30.7512\n",
      "Epoch 17/200\n",
      "4/4 [==============================] - 0s 36ms/step - loss: 0.4062 - mae: 0.5228 - mape: 132.9232 - val_loss: 0.1687 - val_mae: 0.3377 - val_mape: 31.7417\n",
      "Epoch 18/200\n",
      "4/4 [==============================] - 0s 37ms/step - loss: 0.4136 - mae: 0.5119 - mape: 138.7274 - val_loss: 0.1604 - val_mae: 0.3375 - val_mape: 32.5787\n",
      "Epoch 19/200\n",
      "4/4 [==============================] - 0s 39ms/step - loss: 0.3857 - mae: 0.4905 - mape: 126.5696 - val_loss: 0.1558 - val_mae: 0.3377 - val_mape: 33.1227\n",
      "Epoch 20/200\n",
      "4/4 [==============================] - 0s 36ms/step - loss: 0.3818 - mae: 0.4932 - mape: 119.8723 - val_loss: 0.1518 - val_mae: 0.3369 - val_mape: 33.3602\n",
      "Epoch 21/200\n",
      "4/4 [==============================] - 0s 37ms/step - loss: 0.3238 - mae: 0.4454 - mape: 108.1113 - val_loss: 0.1451 - val_mae: 0.3358 - val_mape: 34.0595\n",
      "Epoch 22/200\n",
      "4/4 [==============================] - 0s 41ms/step - loss: 0.3837 - mae: 0.4915 - mape: 135.9914 - val_loss: 0.1395 - val_mae: 0.3361 - val_mape: 35.0651\n",
      "Epoch 23/200\n",
      "4/4 [==============================] - 0s 44ms/step - loss: 0.3957 - mae: 0.4932 - mape: 137.4458 - val_loss: 0.1371 - val_mae: 0.3374 - val_mape: 35.9774\n",
      "Epoch 24/200\n",
      "4/4 [==============================] - 0s 39ms/step - loss: 0.3878 - mae: 0.4871 - mape: 126.1731 - val_loss: 0.1358 - val_mae: 0.3384 - val_mape: 36.6011\n",
      "Epoch 25/200\n",
      "4/4 [==============================] - 0s 36ms/step - loss: 0.3769 - mae: 0.4843 - mape: 142.1114 - val_loss: 0.1348 - val_mae: 0.3398 - val_mape: 37.3443\n",
      "Epoch 26/200\n",
      "4/4 [==============================] - 0s 37ms/step - loss: 0.3643 - mae: 0.4764 - mape: 128.3564 - val_loss: 0.1337 - val_mae: 0.3415 - val_mape: 38.3661\n",
      "Epoch 27/200\n",
      "4/4 [==============================] - 0s 39ms/step - loss: 0.3570 - mae: 0.4724 - mape: 120.5790 - val_loss: 0.1334 - val_mae: 0.3431 - val_mape: 39.2358\n",
      "Epoch 28/200\n",
      "4/4 [==============================] - 0s 45ms/step - loss: 0.3714 - mae: 0.4915 - mape: 148.5509 - val_loss: 0.1344 - val_mae: 0.3458 - val_mape: 39.8267\n",
      "Epoch 29/200\n",
      "4/4 [==============================] - 0s 38ms/step - loss: 0.3679 - mae: 0.4748 - mape: 128.8632 - val_loss: 0.1351 - val_mae: 0.3485 - val_mape: 40.3509\n",
      "Epoch 30/200\n",
      "4/4 [==============================] - 0s 38ms/step - loss: 0.3667 - mae: 0.4805 - mape: 158.4849 - val_loss: 0.1359 - val_mae: 0.3507 - val_mape: 40.5632\n",
      "Epoch 31/200\n",
      "4/4 [==============================] - 0s 38ms/step - loss: 0.3410 - mae: 0.4577 - mape: 124.5281 - val_loss: 0.1361 - val_mae: 0.3519 - val_mape: 40.6830\n",
      "Epoch 32/200\n",
      "4/4 [==============================] - 0s 38ms/step - loss: 0.3643 - mae: 0.4728 - mape: 110.8266 - val_loss: 0.1360 - val_mae: 0.3524 - val_mape: 40.7747\n",
      "Epoch 33/200\n",
      "4/4 [==============================] - 0s 38ms/step - loss: 0.3543 - mae: 0.4830 - mape: 131.1853 - val_loss: 0.1360 - val_mae: 0.3525 - val_mape: 40.9028\n",
      "Epoch 34/200\n",
      "4/4 [==============================] - 0s 38ms/step - loss: 0.3509 - mae: 0.4753 - mape: 140.4311 - val_loss: 0.1356 - val_mae: 0.3521 - val_mape: 40.8582\n",
      "Epoch 35/200\n",
      "4/4 [==============================] - 0s 37ms/step - loss: 0.3503 - mae: 0.4714 - mape: 128.3606 - val_loss: 0.1355 - val_mae: 0.3523 - val_mape: 41.1086\n",
      "Epoch 36/200\n",
      "4/4 [==============================] - 0s 36ms/step - loss: 0.3799 - mae: 0.4944 - mape: 125.3359 - val_loss: 0.1344 - val_mae: 0.3514 - val_mape: 41.2492\n",
      "Epoch 37/200\n",
      "4/4 [==============================] - 0s 38ms/step - loss: 0.3501 - mae: 0.4744 - mape: 138.8773 - val_loss: 0.1335 - val_mae: 0.3506 - val_mape: 41.5346\n",
      "Epoch 38/200\n",
      "4/4 [==============================] - 0s 38ms/step - loss: 0.3681 - mae: 0.4891 - mape: 134.3496 - val_loss: 0.1338 - val_mae: 0.3509 - val_mape: 41.8634\n",
      "Epoch 39/200\n",
      "4/4 [==============================] - 0s 36ms/step - loss: 0.3191 - mae: 0.4567 - mape: 126.9504 - val_loss: 0.1359 - val_mae: 0.3531 - val_mape: 42.4177\n",
      "Epoch 40/200\n",
      "4/4 [==============================] - 0s 35ms/step - loss: 0.3602 - mae: 0.4763 - mape: 131.8733 - val_loss: 0.1368 - val_mae: 0.3547 - val_mape: 42.5627\n",
      "Epoch 41/200\n",
      "4/4 [==============================] - 0s 35ms/step - loss: 0.3393 - mae: 0.4601 - mape: 132.1179 - val_loss: 0.1369 - val_mae: 0.3559 - val_mape: 42.3527\n",
      "Epoch 42/200\n",
      "4/4 [==============================] - 0s 37ms/step - loss: 0.3627 - mae: 0.4807 - mape: 126.5389 - val_loss: 0.1371 - val_mae: 0.3572 - val_mape: 41.9356\n",
      "Epoch 43/200\n",
      "4/4 [==============================] - 0s 36ms/step - loss: 0.3491 - mae: 0.4702 - mape: 136.3965 - val_loss: 0.1367 - val_mae: 0.3573 - val_mape: 41.2897\n",
      "Epoch 44/200\n",
      "4/4 [==============================] - 0s 37ms/step - loss: 0.3372 - mae: 0.4629 - mape: 133.7992 - val_loss: 0.1366 - val_mae: 0.3569 - val_mape: 40.7146\n",
      "Epoch 45/200\n",
      "4/4 [==============================] - 0s 36ms/step - loss: 0.3423 - mae: 0.4613 - mape: 128.5275 - val_loss: 0.1367 - val_mae: 0.3557 - val_mape: 39.8863\n",
      "Epoch 46/200\n",
      "4/4 [==============================] - 0s 36ms/step - loss: 0.3100 - mae: 0.4404 - mape: 120.6457 - val_loss: 0.1369 - val_mae: 0.3536 - val_mape: 38.8929\n",
      "Epoch 47/200\n",
      "4/4 [==============================] - 0s 37ms/step - loss: 0.3153 - mae: 0.4577 - mape: 115.8247 - val_loss: 0.1367 - val_mae: 0.3519 - val_mape: 38.3934\n",
      "Epoch 48/200\n",
      "4/4 [==============================] - 0s 36ms/step - loss: 0.3301 - mae: 0.4589 - mape: 106.6508 - val_loss: 0.1361 - val_mae: 0.3509 - val_mape: 38.2304\n",
      "Epoch 49/200\n",
      "4/4 [==============================] - 0s 38ms/step - loss: 0.3686 - mae: 0.4664 - mape: 124.5126 - val_loss: 0.1345 - val_mae: 0.3501 - val_mape: 38.3405\n",
      "Epoch 50/200\n",
      "4/4 [==============================] - 0s 37ms/step - loss: 0.3454 - mae: 0.4571 - mape: 120.6007 - val_loss: 0.1327 - val_mae: 0.3485 - val_mape: 38.2754\n",
      "Epoch 51/200\n",
      "4/4 [==============================] - 0s 38ms/step - loss: 0.3642 - mae: 0.4765 - mape: 133.5704 - val_loss: 0.1317 - val_mae: 0.3473 - val_mape: 38.1319\n",
      "Epoch 52/200\n",
      "4/4 [==============================] - 0s 35ms/step - loss: 0.3553 - mae: 0.4571 - mape: 111.9843 - val_loss: 0.1331 - val_mae: 0.3475 - val_mape: 37.7682\n",
      "Epoch 53/200\n",
      "4/4 [==============================] - 0s 36ms/step - loss: 0.3141 - mae: 0.4445 - mape: 111.2388 - val_loss: 0.1365 - val_mae: 0.3486 - val_mape: 37.3366\n",
      "Epoch 54/200\n",
      "4/4 [==============================] - 0s 36ms/step - loss: 0.3373 - mae: 0.4643 - mape: 135.5684 - val_loss: 0.1398 - val_mae: 0.3502 - val_mape: 37.0763\n",
      "Epoch 55/200\n",
      "4/4 [==============================] - 0s 37ms/step - loss: 0.3272 - mae: 0.4555 - mape: 126.2276 - val_loss: 0.1423 - val_mae: 0.3514 - val_mape: 36.8738\n",
      "Epoch 56/200\n",
      "4/4 [==============================] - 0s 37ms/step - loss: 0.3017 - mae: 0.4304 - mape: 96.8292 - val_loss: 0.1426 - val_mae: 0.3513 - val_mape: 36.7456\n",
      "Epoch 57/200\n",
      "4/4 [==============================] - 0s 35ms/step - loss: 0.3386 - mae: 0.4610 - mape: 125.4863 - val_loss: 0.1429 - val_mae: 0.3502 - val_mape: 36.3722\n",
      "Epoch 58/200\n",
      "4/4 [==============================] - 0s 35ms/step - loss: 0.3115 - mae: 0.4322 - mape: 113.7782 - val_loss: 0.1432 - val_mae: 0.3483 - val_mape: 35.8310\n",
      "Epoch 59/200\n",
      "4/4 [==============================] - 0s 37ms/step - loss: 0.3289 - mae: 0.4447 - mape: 103.5650 - val_loss: 0.1420 - val_mae: 0.3466 - val_mape: 35.6297\n",
      "Epoch 60/200\n",
      "4/4 [==============================] - 0s 36ms/step - loss: 0.3524 - mae: 0.4668 - mape: 118.1797 - val_loss: 0.1390 - val_mae: 0.3451 - val_mape: 35.7320\n",
      "Epoch 61/200\n",
      "4/4 [==============================] - 0s 36ms/step - loss: 0.3322 - mae: 0.4540 - mape: 113.2511 - val_loss: 0.1361 - val_mae: 0.3439 - val_mape: 35.9225\n",
      "Epoch 62/200\n",
      "4/4 [==============================] - 0s 37ms/step - loss: 0.3422 - mae: 0.4468 - mape: 101.7127 - val_loss: 0.1330 - val_mae: 0.3420 - val_mape: 36.0130\n",
      "Epoch 63/200\n",
      "4/4 [==============================] - 0s 40ms/step - loss: 0.3130 - mae: 0.4323 - mape: 107.9675 - val_loss: 0.1301 - val_mae: 0.3410 - val_mape: 36.3064\n",
      "Epoch 64/200\n",
      "4/4 [==============================] - 0s 38ms/step - loss: 0.2967 - mae: 0.4295 - mape: 108.8135 - val_loss: 0.1286 - val_mae: 0.3405 - val_mape: 36.4705\n",
      "Epoch 65/200\n",
      "4/4 [==============================] - 0s 36ms/step - loss: 0.3194 - mae: 0.4419 - mape: 125.2489 - val_loss: 0.1275 - val_mae: 0.3404 - val_mape: 36.6935\n",
      "Epoch 66/200\n",
      "4/4 [==============================] - 0s 37ms/step - loss: 0.3408 - mae: 0.4584 - mape: 116.8784 - val_loss: 0.1266 - val_mae: 0.3403 - val_mape: 36.8346\n",
      "Epoch 67/200\n",
      "4/4 [==============================] - 0s 37ms/step - loss: 0.3242 - mae: 0.4168 - mape: 107.4218 - val_loss: 0.1248 - val_mae: 0.3395 - val_mape: 37.0062\n",
      "Epoch 68/200\n",
      "4/4 [==============================] - 0s 37ms/step - loss: 0.3031 - mae: 0.4337 - mape: 112.1204 - val_loss: 0.1217 - val_mae: 0.3374 - val_mape: 37.1791\n",
      "Epoch 69/200\n",
      "4/4 [==============================] - 0s 36ms/step - loss: 0.3244 - mae: 0.4490 - mape: 124.8410 - val_loss: 0.1198 - val_mae: 0.3360 - val_mape: 37.3220\n",
      "Epoch 70/200\n",
      "4/4 [==============================] - 0s 36ms/step - loss: 0.3142 - mae: 0.4469 - mape: 119.9381 - val_loss: 0.1191 - val_mae: 0.3357 - val_mape: 37.4135\n",
      "Epoch 71/200\n",
      "4/4 [==============================] - 0s 36ms/step - loss: 0.3167 - mae: 0.4376 - mape: 109.7611 - val_loss: 0.1183 - val_mae: 0.3335 - val_mape: 36.8663\n",
      "Epoch 72/200\n",
      "4/4 [==============================] - 0s 36ms/step - loss: 0.3524 - mae: 0.4649 - mape: 134.9520 - val_loss: 0.1195 - val_mae: 0.3330 - val_mape: 36.3139\n",
      "Epoch 73/200\n",
      "4/4 [==============================] - 0s 36ms/step - loss: 0.3088 - mae: 0.4289 - mape: 111.8036 - val_loss: 0.1214 - val_mae: 0.3329 - val_mape: 35.8287\n",
      "Epoch 74/200\n",
      "4/4 [==============================] - 0s 37ms/step - loss: 0.2753 - mae: 0.4105 - mape: 116.5079 - val_loss: 0.1237 - val_mae: 0.3322 - val_mape: 35.1697\n",
      "Epoch 75/200\n",
      "4/4 [==============================] - 0s 38ms/step - loss: 0.3220 - mae: 0.4481 - mape: 109.8551 - val_loss: 0.1259 - val_mae: 0.3324 - val_mape: 34.8167\n",
      "Epoch 76/200\n",
      "4/4 [==============================] - 0s 35ms/step - loss: 0.3592 - mae: 0.4676 - mape: 107.4804 - val_loss: 0.1273 - val_mae: 0.3330 - val_mape: 34.7022\n",
      "Epoch 77/200\n",
      "4/4 [==============================] - 0s 37ms/step - loss: 0.3051 - mae: 0.4383 - mape: 104.9516 - val_loss: 0.1268 - val_mae: 0.3333 - val_mape: 34.8571\n",
      "Epoch 78/200\n",
      "4/4 [==============================] - 0s 37ms/step - loss: 0.3317 - mae: 0.4596 - mape: 119.7399 - val_loss: 0.1266 - val_mae: 0.3338 - val_mape: 35.0024\n",
      "Epoch 79/200\n",
      "4/4 [==============================] - 0s 37ms/step - loss: 0.3016 - mae: 0.4251 - mape: 88.1676 - val_loss: 0.1283 - val_mae: 0.3355 - val_mape: 35.0947\n",
      "Epoch 80/200\n",
      "4/4 [==============================] - 0s 37ms/step - loss: 0.2833 - mae: 0.4155 - mape: 104.6730 - val_loss: 0.1295 - val_mae: 0.3369 - val_mape: 35.2291\n",
      "Epoch 81/200\n",
      "4/4 [==============================] - 0s 37ms/step - loss: 0.3042 - mae: 0.4304 - mape: 111.5650 - val_loss: 0.1292 - val_mae: 0.3376 - val_mape: 35.4463\n",
      "Epoch 82/200\n",
      "4/4 [==============================] - 0s 36ms/step - loss: 0.3350 - mae: 0.4275 - mape: 112.5119 - val_loss: 0.1312 - val_mae: 0.3388 - val_mape: 35.3725\n",
      "Epoch 83/200\n",
      "4/4 [==============================] - 0s 37ms/step - loss: 0.3214 - mae: 0.4433 - mape: 111.0037 - val_loss: 0.1321 - val_mae: 0.3383 - val_mape: 35.1148\n",
      "Epoch 84/200\n",
      "4/4 [==============================] - 0s 36ms/step - loss: 0.3373 - mae: 0.4458 - mape: 111.9023 - val_loss: 0.1320 - val_mae: 0.3386 - val_mape: 35.1931\n",
      "Epoch 85/200\n",
      "4/4 [==============================] - 0s 36ms/step - loss: 0.3031 - mae: 0.4296 - mape: 106.8692 - val_loss: 0.1320 - val_mae: 0.3386 - val_mape: 35.1867\n",
      "Epoch 86/200\n",
      "4/4 [==============================] - 0s 37ms/step - loss: 0.3253 - mae: 0.4260 - mape: 103.0812 - val_loss: 0.1319 - val_mae: 0.3379 - val_mape: 35.0019\n",
      "Epoch 87/200\n",
      "4/4 [==============================] - 0s 37ms/step - loss: 0.3082 - mae: 0.4148 - mape: 95.7061 - val_loss: 0.1288 - val_mae: 0.3372 - val_mape: 35.3216\n",
      "Epoch 88/200\n",
      "4/4 [==============================] - 0s 36ms/step - loss: 0.2976 - mae: 0.4189 - mape: 109.6497 - val_loss: 0.1255 - val_mae: 0.3368 - val_mape: 35.8356\n",
      "Epoch 89/200\n",
      "4/4 [==============================] - 0s 37ms/step - loss: 0.3080 - mae: 0.4206 - mape: 106.9167 - val_loss: 0.1234 - val_mae: 0.3369 - val_mape: 36.2703\n",
      "Epoch 90/200\n",
      "4/4 [==============================] - 0s 38ms/step - loss: 0.3554 - mae: 0.4580 - mape: 111.3833 - val_loss: 0.1217 - val_mae: 0.3365 - val_mape: 36.5735\n",
      "Epoch 91/200\n",
      "4/4 [==============================] - 0s 37ms/step - loss: 0.3012 - mae: 0.4195 - mape: 106.0577 - val_loss: 0.1211 - val_mae: 0.3369 - val_mape: 36.8456\n",
      "Epoch 92/200\n",
      "4/4 [==============================] - 0s 36ms/step - loss: 0.3243 - mae: 0.4428 - mape: 116.8236 - val_loss: 0.1215 - val_mae: 0.3380 - val_mape: 37.0775\n",
      "Epoch 93/200\n",
      "4/4 [==============================] - 0s 37ms/step - loss: 0.3175 - mae: 0.4351 - mape: 106.4130 - val_loss: 0.1222 - val_mae: 0.3385 - val_mape: 37.0172\n",
      "Epoch 94/200\n",
      "4/4 [==============================] - 0s 37ms/step - loss: 0.3062 - mae: 0.4317 - mape: 114.9603 - val_loss: 0.1233 - val_mae: 0.3398 - val_mape: 37.0845\n",
      "Epoch 95/200\n",
      "4/4 [==============================] - 0s 35ms/step - loss: 0.2955 - mae: 0.4220 - mape: 106.0035 - val_loss: 0.1260 - val_mae: 0.3415 - val_mape: 36.9114\n",
      "Epoch 96/200\n",
      "4/4 [==============================] - 0s 36ms/step - loss: 0.3062 - mae: 0.4309 - mape: 104.4742 - val_loss: 0.1282 - val_mae: 0.3420 - val_mape: 36.5184\n",
      "Epoch 97/200\n",
      "4/4 [==============================] - 0s 36ms/step - loss: 0.3125 - mae: 0.4358 - mape: 111.9578 - val_loss: 0.1289 - val_mae: 0.3423 - val_mape: 36.4398\n",
      "Epoch 98/200\n",
      "4/4 [==============================] - 0s 38ms/step - loss: 0.2923 - mae: 0.4263 - mape: 112.0462 - val_loss: 0.1282 - val_mae: 0.3442 - val_mape: 37.1132\n",
      "Epoch 99/200\n",
      "4/4 [==============================] - 0s 37ms/step - loss: 0.3167 - mae: 0.4306 - mape: 100.3728 - val_loss: 0.1277 - val_mae: 0.3473 - val_mape: 38.2558\n",
      "Epoch 100/200\n",
      "4/4 [==============================] - 0s 37ms/step - loss: 0.2970 - mae: 0.4151 - mape: 108.6502 - val_loss: 0.1275 - val_mae: 0.3490 - val_mape: 38.9567\n",
      "Epoch 101/200\n",
      "4/4 [==============================] - 0s 35ms/step - loss: 0.3171 - mae: 0.4311 - mape: 112.9901 - val_loss: 0.1266 - val_mae: 0.3485 - val_mape: 39.0790\n",
      "Epoch 102/200\n",
      "4/4 [==============================] - 0s 37ms/step - loss: 0.3446 - mae: 0.4395 - mape: 117.1070 - val_loss: 0.1265 - val_mae: 0.3488 - val_mape: 39.2341\n",
      "Epoch 103/200\n",
      "4/4 [==============================] - 0s 36ms/step - loss: 0.3311 - mae: 0.4478 - mape: 124.1908 - val_loss: 0.1266 - val_mae: 0.3486 - val_mape: 39.1084\n",
      "Epoch 104/200\n",
      "4/4 [==============================] - 0s 36ms/step - loss: 0.2976 - mae: 0.4132 - mape: 112.9618 - val_loss: 0.1271 - val_mae: 0.3491 - val_mape: 39.1063\n",
      "Epoch 105/200\n",
      "4/4 [==============================] - 0s 38ms/step - loss: 0.2929 - mae: 0.4222 - mape: 102.6931 - val_loss: 0.1285 - val_mae: 0.3510 - val_mape: 39.3608\n",
      "Epoch 106/200\n",
      "4/4 [==============================] - 0s 39ms/step - loss: 0.3054 - mae: 0.4315 - mape: 113.7227 - val_loss: 0.1300 - val_mae: 0.3526 - val_mape: 39.4085\n",
      "Epoch 107/200\n",
      "4/4 [==============================] - 0s 36ms/step - loss: 0.2836 - mae: 0.4016 - mape: 107.8920 - val_loss: 0.1314 - val_mae: 0.3532 - val_mape: 39.0802\n",
      "Epoch 108/200\n",
      "4/4 [==============================] - 0s 37ms/step - loss: 0.3338 - mae: 0.4491 - mape: 110.3863 - val_loss: 0.1327 - val_mae: 0.3524 - val_mape: 38.4610\n",
      "Epoch 109/200\n",
      "4/4 [==============================] - 0s 40ms/step - loss: 0.2718 - mae: 0.4174 - mape: 107.0195 - val_loss: 0.1339 - val_mae: 0.3531 - val_mape: 38.3605\n",
      "Epoch 110/200\n",
      "4/4 [==============================] - 0s 35ms/step - loss: 0.2882 - mae: 0.4135 - mape: 105.2172 - val_loss: 0.1334 - val_mae: 0.3556 - val_mape: 39.3073\n",
      "Epoch 111/200\n",
      "4/4 [==============================] - 0s 36ms/step - loss: 0.2969 - mae: 0.4263 - mape: 104.7010 - val_loss: 0.1328 - val_mae: 0.3583 - val_mape: 40.6585\n",
      "Epoch 112/200\n",
      "4/4 [==============================] - 0s 35ms/step - loss: 0.3040 - mae: 0.4287 - mape: 107.7516 - val_loss: 0.1330 - val_mae: 0.3597 - val_mape: 41.3266\n",
      "Epoch 113/200\n",
      "4/4 [==============================] - 0s 37ms/step - loss: 0.2995 - mae: 0.4217 - mape: 117.2010 - val_loss: 0.1337 - val_mae: 0.3611 - val_mape: 41.8488\n",
      "Epoch 114/200\n",
      "4/4 [==============================] - 0s 39ms/step - loss: 0.3283 - mae: 0.4296 - mape: 117.8213 - val_loss: 0.1341 - val_mae: 0.3618 - val_mape: 42.1125\n",
      "Epoch 115/200\n",
      "4/4 [==============================] - 0s 36ms/step - loss: 0.3453 - mae: 0.4587 - mape: 114.9555 - val_loss: 0.1341 - val_mae: 0.3618 - val_mape: 42.1146\n",
      "Epoch 116/200\n",
      "4/4 [==============================] - 0s 37ms/step - loss: 0.2791 - mae: 0.4102 - mape: 107.6027 - val_loss: 0.1342 - val_mae: 0.3618 - val_mape: 41.9521\n",
      "Epoch 117/200\n",
      "4/4 [==============================] - 0s 35ms/step - loss: 0.3248 - mae: 0.4355 - mape: 114.6420 - val_loss: 0.1346 - val_mae: 0.3619 - val_mape: 41.6162\n",
      "Epoch 118/200\n",
      "4/4 [==============================] - 0s 36ms/step - loss: 0.3178 - mae: 0.4377 - mape: 113.8682 - val_loss: 0.1347 - val_mae: 0.3617 - val_mape: 41.4394\n",
      "Epoch 119/200\n",
      "4/4 [==============================] - 0s 35ms/step - loss: 0.3119 - mae: 0.4165 - mape: 104.9015 - val_loss: 0.1337 - val_mae: 0.3605 - val_mape: 41.2559\n",
      "Epoch 120/200\n",
      "4/4 [==============================] - 0s 38ms/step - loss: 0.3022 - mae: 0.4154 - mape: 110.8320 - val_loss: 0.1296 - val_mae: 0.3560 - val_mape: 41.2296\n",
      "Epoch 121/200\n",
      "4/4 [==============================] - 0s 38ms/step - loss: 0.3184 - mae: 0.4323 - mape: 118.3807 - val_loss: 0.1266 - val_mae: 0.3521 - val_mape: 41.1482\n",
      "Epoch 122/200\n",
      "4/4 [==============================] - 0s 38ms/step - loss: 0.3243 - mae: 0.4520 - mape: 116.5027 - val_loss: 0.1249 - val_mae: 0.3498 - val_mape: 41.1475\n",
      "Epoch 123/200\n",
      "4/4 [==============================] - 0s 35ms/step - loss: 0.3051 - mae: 0.4308 - mape: 110.9628 - val_loss: 0.1240 - val_mae: 0.3486 - val_mape: 41.0001\n",
      "Epoch 124/200\n",
      "4/4 [==============================] - 0s 38ms/step - loss: 0.3235 - mae: 0.4447 - mape: 121.7393 - val_loss: 0.1236 - val_mae: 0.3480 - val_mape: 40.3691\n",
      "Epoch 125/200\n",
      "4/4 [==============================] - 0s 38ms/step - loss: 0.3201 - mae: 0.4375 - mape: 131.3094 - val_loss: 0.1255 - val_mae: 0.3501 - val_mape: 40.1907\n",
      "Epoch 126/200\n",
      "4/4 [==============================] - 0s 36ms/step - loss: 0.3209 - mae: 0.4085 - mape: 103.2022 - val_loss: 0.1284 - val_mae: 0.3541 - val_mape: 40.6318\n",
      "Epoch 127/200\n",
      "4/4 [==============================] - 0s 35ms/step - loss: 0.2923 - mae: 0.4157 - mape: 109.4629 - val_loss: 0.1297 - val_mae: 0.3555 - val_mape: 40.5883\n",
      "Epoch 128/200\n",
      "4/4 [==============================] - 0s 35ms/step - loss: 0.3308 - mae: 0.4437 - mape: 116.2046 - val_loss: 0.1305 - val_mae: 0.3546 - val_mape: 39.8101\n",
      "Epoch 129/200\n",
      "4/4 [==============================] - 0s 38ms/step - loss: 0.2815 - mae: 0.4042 - mape: 98.0966 - val_loss: 0.1308 - val_mae: 0.3530 - val_mape: 39.1260\n",
      "Epoch 130/200\n",
      "4/4 [==============================] - 0s 38ms/step - loss: 0.3055 - mae: 0.4222 - mape: 117.0871 - val_loss: 0.1328 - val_mae: 0.3513 - val_mape: 38.0925\n",
      "Epoch 131/200\n",
      "4/4 [==============================] - 0s 38ms/step - loss: 0.3284 - mae: 0.4372 - mape: 103.8615 - val_loss: 0.1335 - val_mae: 0.3493 - val_mape: 37.4096\n",
      "Epoch 132/200\n",
      "4/4 [==============================] - 0s 37ms/step - loss: 0.2786 - mae: 0.4108 - mape: 109.8365 - val_loss: 0.1332 - val_mae: 0.3458 - val_mape: 36.5744\n",
      "Epoch 133/200\n",
      "4/4 [==============================] - 0s 40ms/step - loss: 0.2990 - mae: 0.4199 - mape: 100.3053 - val_loss: 0.1329 - val_mae: 0.3442 - val_mape: 36.2034\n",
      "Epoch 134/200\n",
      "4/4 [==============================] - 0s 39ms/step - loss: 0.2951 - mae: 0.4046 - mape: 93.6851 - val_loss: 0.1353 - val_mae: 0.3454 - val_mape: 36.0998\n",
      "Epoch 135/200\n",
      "4/4 [==============================] - 0s 37ms/step - loss: 0.3281 - mae: 0.4369 - mape: 106.8967 - val_loss: 0.1361 - val_mae: 0.3459 - val_mape: 36.1084\n",
      "Epoch 136/200\n",
      "4/4 [==============================] - 0s 39ms/step - loss: 0.3069 - mae: 0.4204 - mape: 99.4490 - val_loss: 0.1357 - val_mae: 0.3457 - val_mape: 36.1538\n",
      "Epoch 137/200\n",
      "4/4 [==============================] - 0s 37ms/step - loss: 0.3009 - mae: 0.4231 - mape: 100.8278 - val_loss: 0.1350 - val_mae: 0.3454 - val_mape: 36.1970\n",
      "Epoch 138/200\n",
      "4/4 [==============================] - 0s 37ms/step - loss: 0.3447 - mae: 0.4528 - mape: 108.5484 - val_loss: 0.1341 - val_mae: 0.3454 - val_mape: 36.3258\n",
      "Epoch 139/200\n",
      "4/4 [==============================] - 0s 36ms/step - loss: 0.2991 - mae: 0.4284 - mape: 102.2247 - val_loss: 0.1295 - val_mae: 0.3443 - val_mape: 36.8975\n",
      "Epoch 140/200\n",
      "4/4 [==============================] - 0s 35ms/step - loss: 0.3171 - mae: 0.4347 - mape: 99.4107 - val_loss: 0.1258 - val_mae: 0.3430 - val_mape: 37.3476\n",
      "Epoch 141/200\n",
      "4/4 [==============================] - 0s 36ms/step - loss: 0.3014 - mae: 0.4340 - mape: 109.9015 - val_loss: 0.1228 - val_mae: 0.3429 - val_mape: 38.2163\n",
      "Epoch 142/200\n",
      "4/4 [==============================] - 0s 36ms/step - loss: 0.3080 - mae: 0.4357 - mape: 103.8528 - val_loss: 0.1214 - val_mae: 0.3446 - val_mape: 39.6643\n",
      "Epoch 143/200\n",
      "4/4 [==============================] - 0s 36ms/step - loss: 0.3162 - mae: 0.4425 - mape: 111.4368 - val_loss: 0.1219 - val_mae: 0.3460 - val_mape: 40.7045\n",
      "Epoch 144/200\n",
      "4/4 [==============================] - 0s 38ms/step - loss: 0.3237 - mae: 0.4361 - mape: 122.2222 - val_loss: 0.1229 - val_mae: 0.3473 - val_mape: 41.1361\n",
      "Epoch 145/200\n",
      "4/4 [==============================] - 0s 35ms/step - loss: 0.2926 - mae: 0.4194 - mape: 122.8754 - val_loss: 0.1229 - val_mae: 0.3474 - val_mape: 41.1487\n",
      "Epoch 146/200\n",
      "4/4 [==============================] - 0s 36ms/step - loss: 0.2870 - mae: 0.4136 - mape: 102.1524 - val_loss: 0.1233 - val_mae: 0.3476 - val_mape: 41.4440\n",
      "Epoch 147/200\n",
      "4/4 [==============================] - 0s 37ms/step - loss: 0.3178 - mae: 0.4385 - mape: 117.9912 - val_loss: 0.1240 - val_mae: 0.3483 - val_mape: 41.7649\n",
      "Epoch 148/200\n",
      "4/4 [==============================] - 0s 37ms/step - loss: 0.3383 - mae: 0.4510 - mape: 125.6372 - val_loss: 0.1238 - val_mae: 0.3485 - val_mape: 41.4780\n",
      "Epoch 149/200\n",
      "4/4 [==============================] - 0s 36ms/step - loss: 0.3358 - mae: 0.4418 - mape: 127.0498 - val_loss: 0.1242 - val_mae: 0.3490 - val_mape: 41.5084\n",
      "Epoch 150/200\n",
      "4/4 [==============================] - 0s 38ms/step - loss: 0.3186 - mae: 0.4313 - mape: 115.9627 - val_loss: 0.1240 - val_mae: 0.3481 - val_mape: 41.7904\n",
      "Epoch 151/200\n",
      "4/4 [==============================] - 0s 39ms/step - loss: 0.3154 - mae: 0.4173 - mape: 115.3525 - val_loss: 0.1226 - val_mae: 0.3461 - val_mape: 41.5768\n",
      "Epoch 152/200\n",
      "4/4 [==============================] - 0s 37ms/step - loss: 0.3003 - mae: 0.4233 - mape: 136.5297 - val_loss: 0.1218 - val_mae: 0.3452 - val_mape: 41.4225\n",
      "Epoch 153/200\n",
      "4/4 [==============================] - 0s 37ms/step - loss: 0.3208 - mae: 0.4347 - mape: 120.8461 - val_loss: 0.1211 - val_mae: 0.3447 - val_mape: 40.8452\n",
      "Epoch 154/200\n",
      "4/4 [==============================] - 0s 35ms/step - loss: 0.3176 - mae: 0.4298 - mape: 120.8732 - val_loss: 0.1213 - val_mae: 0.3449 - val_mape: 40.3830\n",
      "Epoch 155/200\n",
      "4/4 [==============================] - 0s 37ms/step - loss: 0.3272 - mae: 0.4372 - mape: 112.6506 - val_loss: 0.1224 - val_mae: 0.3463 - val_mape: 40.1692\n",
      "Epoch 156/200\n",
      "4/4 [==============================] - 0s 35ms/step - loss: 0.3276 - mae: 0.4470 - mape: 112.8901 - val_loss: 0.1241 - val_mae: 0.3484 - val_mape: 40.1983\n",
      "Epoch 157/200\n",
      "4/4 [==============================] - 0s 35ms/step - loss: 0.3056 - mae: 0.4310 - mape: 125.8552 - val_loss: 0.1258 - val_mae: 0.3504 - val_mape: 40.2125\n",
      "Epoch 158/200\n",
      "4/4 [==============================] - 0s 36ms/step - loss: 0.2926 - mae: 0.4136 - mape: 92.0958 - val_loss: 0.1261 - val_mae: 0.3499 - val_mape: 39.8223\n",
      "Epoch 159/200\n",
      "4/4 [==============================] - 0s 38ms/step - loss: 0.2997 - mae: 0.4329 - mape: 109.3463 - val_loss: 0.1265 - val_mae: 0.3494 - val_mape: 39.3467\n",
      "Epoch 160/200\n",
      "4/4 [==============================] - 0s 35ms/step - loss: 0.3375 - mae: 0.4494 - mape: 115.2954 - val_loss: 0.1260 - val_mae: 0.3483 - val_mape: 39.0699\n",
      "Epoch 161/200\n",
      "4/4 [==============================] - 0s 35ms/step - loss: 0.3211 - mae: 0.4308 - mape: 125.8857 - val_loss: 0.1260 - val_mae: 0.3480 - val_mape: 38.9686\n",
      "Epoch 162/200\n",
      "4/4 [==============================] - 0s 39ms/step - loss: 0.2820 - mae: 0.4130 - mape: 107.0597 - val_loss: 0.1263 - val_mae: 0.3484 - val_mape: 39.0064\n",
      "Epoch 163/200\n",
      "4/4 [==============================] - 0s 36ms/step - loss: 0.2980 - mae: 0.4133 - mape: 113.4656 - val_loss: 0.1255 - val_mae: 0.3471 - val_mape: 38.8624\n",
      "Epoch 164/200\n",
      "4/4 [==============================] - 0s 38ms/step - loss: 0.3170 - mae: 0.4424 - mape: 123.9913 - val_loss: 0.1248 - val_mae: 0.3462 - val_mape: 38.8381\n",
      "Epoch 165/200\n",
      "4/4 [==============================] - 0s 36ms/step - loss: 0.3064 - mae: 0.4356 - mape: 114.8784 - val_loss: 0.1230 - val_mae: 0.3455 - val_mape: 39.3719\n",
      "Epoch 166/200\n",
      "4/4 [==============================] - 0s 38ms/step - loss: 0.3358 - mae: 0.4466 - mape: 112.2637 - val_loss: 0.1224 - val_mae: 0.3454 - val_mape: 39.7612\n",
      "Epoch 167/200\n",
      "4/4 [==============================] - 0s 36ms/step - loss: 0.2929 - mae: 0.4247 - mape: 120.2189 - val_loss: 0.1225 - val_mae: 0.3457 - val_mape: 39.9748\n",
      "Epoch 168/200\n",
      "4/4 [==============================] - 0s 37ms/step - loss: 0.2902 - mae: 0.4118 - mape: 101.4315 - val_loss: 0.1229 - val_mae: 0.3463 - val_mape: 39.9955\n",
      "Epoch 169/200\n",
      "4/4 [==============================] - 0s 35ms/step - loss: 0.2925 - mae: 0.4144 - mape: 95.9479 - val_loss: 0.1243 - val_mae: 0.3483 - val_mape: 40.3714\n",
      "Epoch 170/200\n",
      "4/4 [==============================] - 0s 35ms/step - loss: 0.3033 - mae: 0.4312 - mape: 110.5565 - val_loss: 0.1251 - val_mae: 0.3495 - val_mape: 40.6437\n",
      "Epoch 171/200\n",
      "4/4 [==============================] - 0s 36ms/step - loss: 0.2911 - mae: 0.4206 - mape: 112.3295 - val_loss: 0.1256 - val_mae: 0.3504 - val_mape: 40.8179\n",
      "Epoch 172/200\n",
      "4/4 [==============================] - 0s 38ms/step - loss: 0.2835 - mae: 0.4173 - mape: 122.6745 - val_loss: 0.1261 - val_mae: 0.3512 - val_mape: 41.6548\n",
      "Epoch 173/200\n",
      "4/4 [==============================] - 0s 37ms/step - loss: 0.3235 - mae: 0.4450 - mape: 116.5253 - val_loss: 0.1263 - val_mae: 0.3515 - val_mape: 41.7874\n",
      "Epoch 174/200\n",
      "4/4 [==============================] - 0s 36ms/step - loss: 0.3214 - mae: 0.4388 - mape: 115.5766 - val_loss: 0.1261 - val_mae: 0.3512 - val_mape: 41.6633\n",
      "Epoch 175/200\n",
      "4/4 [==============================] - 0s 35ms/step - loss: 0.3224 - mae: 0.4394 - mape: 119.7840 - val_loss: 0.1259 - val_mae: 0.3510 - val_mape: 41.4535\n",
      "Epoch 176/200\n",
      "4/4 [==============================] - 0s 37ms/step - loss: 0.2900 - mae: 0.4196 - mape: 118.4843 - val_loss: 0.1243 - val_mae: 0.3489 - val_mape: 40.6949\n",
      "Epoch 177/200\n",
      "4/4 [==============================] - 0s 37ms/step - loss: 0.2832 - mae: 0.4180 - mape: 113.9852 - val_loss: 0.1242 - val_mae: 0.3475 - val_mape: 39.7293\n",
      "Epoch 178/200\n",
      "4/4 [==============================] - 0s 37ms/step - loss: 0.2889 - mae: 0.4264 - mape: 107.7055 - val_loss: 0.1255 - val_mae: 0.3454 - val_mape: 38.2577\n",
      "Epoch 179/200\n",
      "4/4 [==============================] - 0s 35ms/step - loss: 0.3208 - mae: 0.4348 - mape: 118.6626 - val_loss: 0.1272 - val_mae: 0.3427 - val_mape: 37.0040\n",
      "Epoch 180/200\n",
      "4/4 [==============================] - 0s 35ms/step - loss: 0.3166 - mae: 0.4462 - mape: 108.5022 - val_loss: 0.1280 - val_mae: 0.3412 - val_mape: 36.4247\n",
      "Epoch 181/200\n",
      "4/4 [==============================] - 0s 39ms/step - loss: 0.3125 - mae: 0.4212 - mape: 97.0276 - val_loss: 0.1272 - val_mae: 0.3419 - val_mape: 36.7863\n",
      "Epoch 182/200\n",
      "4/4 [==============================] - 0s 36ms/step - loss: 0.3032 - mae: 0.4244 - mape: 122.3212 - val_loss: 0.1266 - val_mae: 0.3425 - val_mape: 37.1192\n",
      "Epoch 183/200\n",
      "4/4 [==============================] - 0s 39ms/step - loss: 0.2923 - mae: 0.4197 - mape: 94.8022 - val_loss: 0.1268 - val_mae: 0.3436 - val_mape: 37.3805\n",
      "Epoch 184/200\n",
      "4/4 [==============================] - 0s 36ms/step - loss: 0.2875 - mae: 0.4137 - mape: 104.2753 - val_loss: 0.1269 - val_mae: 0.3454 - val_mape: 37.9209\n",
      "Epoch 185/200\n",
      "4/4 [==============================] - 0s 39ms/step - loss: 0.2651 - mae: 0.3971 - mape: 100.3868 - val_loss: 0.1269 - val_mae: 0.3470 - val_mape: 38.4811\n",
      "Epoch 186/200\n",
      "4/4 [==============================] - 0s 36ms/step - loss: 0.2943 - mae: 0.4254 - mape: 97.0700 - val_loss: 0.1260 - val_mae: 0.3481 - val_mape: 39.1724\n",
      "Epoch 187/200\n",
      "4/4 [==============================] - 0s 39ms/step - loss: 0.3091 - mae: 0.4311 - mape: 103.1664 - val_loss: 0.1257 - val_mae: 0.3494 - val_mape: 39.8713\n",
      "Epoch 188/200\n",
      "4/4 [==============================] - 0s 36ms/step - loss: 0.2732 - mae: 0.3990 - mape: 98.0518 - val_loss: 0.1265 - val_mae: 0.3513 - val_mape: 40.5223\n",
      "Epoch 189/200\n",
      "4/4 [==============================] - 0s 36ms/step - loss: 0.3054 - mae: 0.4258 - mape: 107.4860 - val_loss: 0.1269 - val_mae: 0.3525 - val_mape: 41.1369\n",
      "Epoch 190/200\n",
      "4/4 [==============================] - 0s 36ms/step - loss: 0.3104 - mae: 0.4397 - mape: 107.7883 - val_loss: 0.1272 - val_mae: 0.3527 - val_mape: 41.3253\n",
      "Epoch 191/200\n",
      "4/4 [==============================] - 0s 36ms/step - loss: 0.3515 - mae: 0.4520 - mape: 116.8303 - val_loss: 0.1273 - val_mae: 0.3526 - val_mape: 41.0894\n",
      "Epoch 192/200\n",
      "4/4 [==============================] - 0s 37ms/step - loss: 0.2980 - mae: 0.4097 - mape: 112.7397 - val_loss: 0.1272 - val_mae: 0.3523 - val_mape: 41.0099\n",
      "Epoch 193/200\n",
      "4/4 [==============================] - 0s 39ms/step - loss: 0.2908 - mae: 0.4162 - mape: 96.9402 - val_loss: 0.1264 - val_mae: 0.3512 - val_mape: 40.8949\n",
      "Epoch 194/200\n",
      "4/4 [==============================] - 0s 38ms/step - loss: 0.2646 - mae: 0.4042 - mape: 101.1572 - val_loss: 0.1255 - val_mae: 0.3502 - val_mape: 41.4502\n",
      "Epoch 195/200\n",
      "4/4 [==============================] - 0s 37ms/step - loss: 0.2977 - mae: 0.4326 - mape: 117.8945 - val_loss: 0.1260 - val_mae: 0.3504 - val_mape: 42.0300\n",
      "Epoch 196/200\n",
      "4/4 [==============================] - 0s 38ms/step - loss: 0.2756 - mae: 0.4119 - mape: 95.9510 - val_loss: 0.1266 - val_mae: 0.3498 - val_mape: 42.6067\n",
      "Epoch 197/200\n",
      "4/4 [==============================] - 0s 38ms/step - loss: 0.3281 - mae: 0.4557 - mape: 110.8275 - val_loss: 0.1269 - val_mae: 0.3492 - val_mape: 42.8542\n",
      "Epoch 198/200\n",
      "4/4 [==============================] - 0s 37ms/step - loss: 0.2930 - mae: 0.4170 - mape: 107.1652 - val_loss: 0.1270 - val_mae: 0.3482 - val_mape: 43.0498\n",
      "Epoch 199/200\n",
      "4/4 [==============================] - 0s 36ms/step - loss: 0.3190 - mae: 0.4431 - mape: 124.4484 - val_loss: 0.1257 - val_mae: 0.3483 - val_mape: 42.4881\n",
      "Epoch 200/200\n",
      "4/4 [==============================] - 0s 36ms/step - loss: 0.3085 - mae: 0.4266 - mape: 114.6734 - val_loss: 0.1245 - val_mae: 0.3484 - val_mape: 41.3777\n"
     ]
    }
   ],
   "source": [
    "history_Blstm2 = compile_and_fit_lstm(\n",
    "    model=lstm_SRT, \n",
    "    window = cr_window, \n",
    "    loss = 'mse', \n",
    "    EPOCHS=200,\n",
    "    VERBOSE=1)"
   ]
  },
  {
   "cell_type": "code",
   "execution_count": 31,
   "id": "d8929df9-8a38-41e5-8954-ada1ba8edd2d",
   "metadata": {},
   "outputs": [
    {
     "data": {
      "text/html": [
       "<pre style=\"white-space:pre;overflow-x:auto;line-height:normal;font-family:Menlo,'DejaVu Sans Mono',consolas,'Courier New',monospace\"><span style=\"color: #800000; text-decoration-color: #800000\">╭─────────────────────────────── </span><span style=\"color: #800000; text-decoration-color: #800000; font-weight: bold\">Traceback </span><span style=\"color: #bf7f7f; text-decoration-color: #bf7f7f; font-weight: bold\">(most recent call last)</span><span style=\"color: #800000; text-decoration-color: #800000\"> ────────────────────────────────╮</span>\n",
       "<span style=\"color: #800000; text-decoration-color: #800000\">│</span> <span style=\"color: #bfbf7f; text-decoration-color: #bfbf7f\">/tmp/ipykernel_19085/</span><span style=\"color: #808000; text-decoration-color: #808000; font-weight: bold\">2025648206.py</span>:<span style=\"color: #0000ff; text-decoration-color: #0000ff\">2</span> in <span style=\"color: #00ff00; text-decoration-color: #00ff00\">&lt;cell line: 2&gt;</span>                                           <span style=\"color: #800000; text-decoration-color: #800000\">│</span>\n",
       "<span style=\"color: #800000; text-decoration-color: #800000\">│</span>                                                                                                  <span style=\"color: #800000; text-decoration-color: #800000\">│</span>\n",
       "<span style=\"color: #800000; text-decoration-color: #800000\">│</span> <span style=\"color: #800000; text-decoration-color: #800000; font-style: italic\">[Errno 2] No such file or directory: '/tmp/ipykernel_19085/2025648206.py'</span>                        <span style=\"color: #800000; text-decoration-color: #800000\">│</span>\n",
       "<span style=\"color: #800000; text-decoration-color: #800000\">╰──────────────────────────────────────────────────────────────────────────────────────────────────╯</span>\n",
       "<span style=\"color: #ff0000; text-decoration-color: #ff0000; font-weight: bold\">NameError: </span>name <span style=\"color: #008000; text-decoration-color: #008000\">'cp_val'</span> is not defined\n",
       "</pre>\n"
      ],
      "text/plain": [
       "\u001b[31m╭─\u001b[0m\u001b[31m────────────────────────────── \u001b[0m\u001b[1;31mTraceback \u001b[0m\u001b[1;2;31m(most recent call last)\u001b[0m\u001b[31m ───────────────────────────────\u001b[0m\u001b[31m─╮\u001b[0m\n",
       "\u001b[31m│\u001b[0m \u001b[2;33m/tmp/ipykernel_19085/\u001b[0m\u001b[1;33m2025648206.py\u001b[0m:\u001b[94m2\u001b[0m in \u001b[92m<cell line: 2>\u001b[0m                                           \u001b[31m│\u001b[0m\n",
       "\u001b[31m│\u001b[0m                                                                                                  \u001b[31m│\u001b[0m\n",
       "\u001b[31m│\u001b[0m \u001b[3;31m[Errno 2] No such file or directory: '/tmp/ipykernel_19085/2025648206.py'\u001b[0m                        \u001b[31m│\u001b[0m\n",
       "\u001b[31m╰──────────────────────────────────────────────────────────────────────────────────────────────────╯\u001b[0m\n",
       "\u001b[1;91mNameError: \u001b[0mname \u001b[32m'cp_val'\u001b[0m is not defined\n"
      ]
     },
     "metadata": {},
     "output_type": "display_data"
    }
   ],
   "source": [
    "# metric\n",
    "lstm_result_dict2 = cp_val(lstm_SRT, cr_window, train_df, val_df)\n",
    "lstm_result_dict2"
   ]
  },
  {
   "cell_type": "code",
   "execution_count": 32,
   "id": "dbd4028c-15d9-4076-b14d-d8c4ac925278",
   "metadata": {},
   "outputs": [
    {
     "data": {
      "text/html": [
       "<pre style=\"white-space:pre;overflow-x:auto;line-height:normal;font-family:Menlo,'DejaVu Sans Mono',consolas,'Courier New',monospace\">\n",
       "<span style=\"font-weight: bold\">{</span>\n",
       "    <span style=\"color: #008000; text-decoration-color: #008000\">'mae'</span>: <span style=\"font-weight: bold\">&lt;</span><span style=\"color: #ff00ff; text-decoration-color: #ff00ff; font-weight: bold\">tf.Tensor:</span><span style=\"color: #000000; text-decoration-color: #000000\"> </span><span style=\"color: #808000; text-decoration-color: #808000\">shape</span><span style=\"color: #000000; text-decoration-color: #000000\">=</span><span style=\"color: #000000; text-decoration-color: #000000; font-weight: bold\">()</span><span style=\"color: #000000; text-decoration-color: #000000\">, </span><span style=\"color: #808000; text-decoration-color: #808000\">dtype</span><span style=\"color: #000000; text-decoration-color: #000000\">=</span><span style=\"color: #800080; text-decoration-color: #800080\">float32</span><span style=\"color: #000000; text-decoration-color: #000000\">, </span><span style=\"color: #808000; text-decoration-color: #808000\">numpy</span><span style=\"color: #000000; text-decoration-color: #000000\">=</span><span style=\"color: #008080; text-decoration-color: #008080; font-weight: bold\">0.4044818</span><span style=\"font-weight: bold\">&gt;</span>,\n",
       "    <span style=\"color: #008000; text-decoration-color: #008000\">'mape'</span>: <span style=\"font-weight: bold\">&lt;</span><span style=\"color: #ff00ff; text-decoration-color: #ff00ff; font-weight: bold\">tf.Tensor:</span><span style=\"color: #000000; text-decoration-color: #000000\"> </span><span style=\"color: #808000; text-decoration-color: #808000\">shape</span><span style=\"color: #000000; text-decoration-color: #000000\">=</span><span style=\"color: #000000; text-decoration-color: #000000; font-weight: bold\">()</span><span style=\"color: #000000; text-decoration-color: #000000\">, </span><span style=\"color: #808000; text-decoration-color: #808000\">dtype</span><span style=\"color: #000000; text-decoration-color: #000000\">=</span><span style=\"color: #800080; text-decoration-color: #800080\">float32</span><span style=\"color: #000000; text-decoration-color: #000000\">, </span><span style=\"color: #808000; text-decoration-color: #808000\">numpy</span><span style=\"color: #000000; text-decoration-color: #000000\">=</span><span style=\"color: #008080; text-decoration-color: #008080; font-weight: bold\">45.89017</span><span style=\"font-weight: bold\">&gt;</span>\n",
       "<span style=\"font-weight: bold\">}</span>\n",
       "</pre>\n"
      ],
      "text/plain": [
       "\n",
       "\u001b[1m{\u001b[0m\n",
       "    \u001b[32m'mae'\u001b[0m: \u001b[1m<\u001b[0m\u001b[1;95mtf.Tensor:\u001b[0m\u001b[39m \u001b[0m\u001b[33mshape\u001b[0m\u001b[39m=\u001b[0m\u001b[1;39m(\u001b[0m\u001b[1;39m)\u001b[0m\u001b[39m, \u001b[0m\u001b[33mdtype\u001b[0m\u001b[39m=\u001b[0m\u001b[35mfloat32\u001b[0m\u001b[39m, \u001b[0m\u001b[33mnumpy\u001b[0m\u001b[39m=\u001b[0m\u001b[1;36m0\u001b[0m\u001b[1;36m.4044818\u001b[0m\u001b[1m>\u001b[0m,\n",
       "    \u001b[32m'mape'\u001b[0m: \u001b[1m<\u001b[0m\u001b[1;95mtf.Tensor:\u001b[0m\u001b[39m \u001b[0m\u001b[33mshape\u001b[0m\u001b[39m=\u001b[0m\u001b[1;39m(\u001b[0m\u001b[1;39m)\u001b[0m\u001b[39m, \u001b[0m\u001b[33mdtype\u001b[0m\u001b[39m=\u001b[0m\u001b[35mfloat32\u001b[0m\u001b[39m, \u001b[0m\u001b[33mnumpy\u001b[0m\u001b[39m=\u001b[0m\u001b[1;36m45\u001b[0m\u001b[1;36m.89017\u001b[0m\u001b[1m>\u001b[0m\n",
       "\u001b[1m}\u001b[0m\n"
      ]
     },
     "metadata": {},
     "output_type": "display_data"
    }
   ],
   "source": [
    "cr_window.cp_val_lstm_mcdropout_oneshot(model=lstm_SRT)"
   ]
  },
  {
   "cell_type": "code",
   "execution_count": 39,
   "id": "cb1b4dc2-3e23-4052-9591-cd45db50544e",
   "metadata": {},
   "outputs": [
    {
     "name": "stderr",
     "output_type": "stream",
     "text": [
      "100%|██████████████████████████████████████████████████████████████████████████████████████████████████████████████████████████████████████████████████████████████████████████| 100/100 [00:06<00:00, 16.65it/s]\n"
     ]
    }
   ],
   "source": [
    "ensemble_results, mae_mean, mape_mean = cr_window.cp_val_B(\n",
    "    model=lstm_SRT, ensemble_size=100, style='mc_dropout')"
   ]
  },
  {
   "cell_type": "code",
   "execution_count": 40,
   "id": "1b9c3a37-ad69-4200-8d7b-abcc84790693",
   "metadata": {},
   "outputs": [
    {
     "data": {
      "text/html": [
       "<pre style=\"white-space:pre;overflow-x:auto;line-height:normal;font-family:Menlo,'DejaVu Sans Mono',consolas,'Courier New',monospace\"><span style=\"color: #008080; text-decoration-color: #008080; font-weight: bold\">0.362164</span>\n",
       "</pre>\n"
      ],
      "text/plain": [
       "\u001b[1;36m0.362164\u001b[0m\n"
      ]
     },
     "metadata": {},
     "output_type": "display_data"
    }
   ],
   "source": [
    "mae_mean"
   ]
  },
  {
   "cell_type": "code",
   "execution_count": 41,
   "id": "9d0f1b78-16ab-4213-b273-457995115d3f",
   "metadata": {},
   "outputs": [
    {
     "data": {
      "text/html": [
       "<pre style=\"white-space:pre;overflow-x:auto;line-height:normal;font-family:Menlo,'DejaVu Sans Mono',consolas,'Courier New',monospace\"><span style=\"color: #008080; text-decoration-color: #008080; font-weight: bold\">39.930233</span>\n",
       "</pre>\n"
      ],
      "text/plain": [
       "\u001b[1;36m39.930233\u001b[0m\n"
      ]
     },
     "metadata": {},
     "output_type": "display_data"
    }
   ],
   "source": [
    "mape_mean"
   ]
  },
  {
   "cell_type": "code",
   "execution_count": 35,
   "id": "8b58c73b-8297-4d2a-86a6-9d6cc2b73798",
   "metadata": {},
   "outputs": [
    {
     "data": {
      "application/vnd.jupyter.widget-view+json": {
       "model_id": "d26ea7f9ed374b0f979d394cf5e61d4c",
       "version_major": 2,
       "version_minor": 0
      },
      "image/png": "[encoded data removed]",
      "text/html": [
       "\n",
       "            <div style=\"display: inline-block;\">\n",
       "                <div class=\"jupyter-widgets widget-label\" style=\"text-align: center;\">\n",
       "                    Figure\n",
       "                </div>\n",
       "                <img src='data:image/png;base64,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' width=1200.0/>\n",
       "            </div>\n",
       "        "
      ],
      "text/plain": [
       "Canvas(toolbar=Toolbar(toolitems=[('Home', 'Reset original view', 'home', 'home'), ('Back', 'Back to previous …"
      ]
     },
     "metadata": {},
     "output_type": "display_data"
    }
   ],
   "source": [
    "cr_window.display_lstm_val(ensemble_results, val_x_axis)\n",
    "save2Vis('BLSTM_epistemic_uncertainty')"
   ]
  },
  {
   "cell_type": "code",
   "execution_count": null,
   "id": "6e255365-8045-4dc7-a19c-b9df645aa624",
   "metadata": {},
   "outputs": [],
   "source": []
  },
  {
   "cell_type": "code",
   "execution_count": null,
   "id": "ce20f226-5b54-4cf0-8969-585c6c3f2f85",
   "metadata": {},
   "outputs": [],
   "source": []
  },
  {
   "cell_type": "code",
   "execution_count": null,
   "id": "589511a2-ea20-47fa-a281-919e1fe32bba",
   "metadata": {},
   "outputs": [],
   "source": []
  },
  {
   "cell_type": "markdown",
   "id": "6462d2cb-d5d8-476e-9276-5983feb9761c",
   "metadata": {
    "jp-MarkdownHeadingCollapsed": true,
    "tags": []
   },
   "source": [
    "### Bayesian LSTM model"
   ]
  },
  {
   "cell_type": "code",
   "execution_count": null,
   "id": "b5478a25-d309-4472-8e19-9e96e2954795",
   "metadata": {},
   "outputs": [],
   "source": [
    "''' reference '''\n",
    "\n",
    "# Flipout_ensem_forecasts = w1.val_fcast_MC_DNN(\n",
    "#     data=val_df, \n",
    "#     model=model_flipout, \n",
    "#     ensemble_size=50)"
   ]
  },
  {
   "cell_type": "code",
   "execution_count": null,
   "id": "78840f48-12c8-43d7-88f5-3abf60b058b5",
   "metadata": {},
   "outputs": [],
   "source": [
    "B_lstm_model = build_BLSTM_svi(latent_dim=16, KL_scaling_factor=200)"
   ]
  },
  {
   "cell_type": "code",
   "execution_count": null,
   "id": "cd8ab495-e62c-4d40-ab21-af8c2bb1ccba",
   "metadata": {},
   "outputs": [],
   "source": [
    "history_Blstm = compile_and_fit_lstm(\n",
    "    model=B_lstm_model, \n",
    "    window = cr_window, \n",
    "    loss = nll, \n",
    "    EPOCHS=500,\n",
    "    VERBOSE=1)"
   ]
  },
  {
   "cell_type": "code",
   "execution_count": null,
   "id": "d3feee4d-8838-428a-8ef4-8c5d38f49805",
   "metadata": {},
   "outputs": [],
   "source": [
    "plot_history_info(history_Blstm)"
   ]
  },
  {
   "cell_type": "code",
   "execution_count": null,
   "id": "ae9f2885-e91a-4be0-863a-30de51aa8780",
   "metadata": {},
   "outputs": [],
   "source": [
    "# check the input \n",
    "for ex_input, ex_output in cr_window.val.take(1):\n",
    "    print(\"training dp input:\", ex_input.shape)\n",
    "    print(\"training dp output:\", ex_output.shape)"
   ]
  },
  {
   "cell_type": "code",
   "execution_count": null,
   "id": "ba997e48-23ee-4ac1-9d81-8efa11774cd2",
   "metadata": {},
   "outputs": [],
   "source": [
    "ensemble_results = cr_window.cp_val(model = B_lstm_model, ensemble_size=300)"
   ]
  },
  {
   "cell_type": "code",
   "execution_count": null,
   "id": "171899b7-2fad-4a6d-b794-deb78fd4360e",
   "metadata": {},
   "outputs": [],
   "source": [
    "ensemble_results"
   ]
  },
  {
   "cell_type": "code",
   "execution_count": null,
   "id": "5044a0eb-900d-491f-8bb6-4bccf6b88bb8",
   "metadata": {},
   "outputs": [],
   "source": [
    "# specifically, now the gt value is the normalized 'revenue' shown only in `val_df`"
   ]
  },
  {
   "cell_type": "code",
   "execution_count": null,
   "id": "73f14793-7176-403a-aa2c-6541af7d7b74",
   "metadata": {},
   "outputs": [],
   "source": [
    "# add the predictions then \n",
    "fig, ax = plt.subplots()\n",
    "ax.scatter(val_x_axis, val_df['revenue'], color='r', marker='o')\n",
    "ax.scatter(val_x_axis, test_preds, color='b', marker='x')\n",
    "# plt.xlim([0, 4])"
   ]
  },
  {
   "cell_type": "code",
   "execution_count": null,
   "id": "1c7d52cc-c585-41d5-8f42-22c7bc54d50c",
   "metadata": {},
   "outputs": [],
   "source": []
  },
  {
   "cell_type": "markdown",
   "id": "9c662f7f-fead-496c-b966-f7675a1fc51c",
   "metadata": {
    "tags": []
   },
   "source": [
    "# metrics"
   ]
  },
  {
   "cell_type": "code",
   "execution_count": null,
   "id": "8d330a69-0c88-4e5f-90bf-108303934969",
   "metadata": {},
   "outputs": [],
   "source": [
    "# deterministic metrics such as ensemble-averaged mae, mape, etc ..."
   ]
  },
  {
   "cell_type": "code",
   "execution_count": null,
   "id": "4a642c87-1fdf-4a0b-a3bc-7f1082dbd2a7",
   "metadata": {},
   "outputs": [],
   "source": [
    "# uncertainty metrics ..."
   ]
  },
  {
   "cell_type": "code",
   "execution_count": null,
   "id": "4101367d-6aa8-407d-acc2-a56eec959d29",
   "metadata": {},
   "outputs": [],
   "source": []
  },
  {
   "cell_type": "code",
   "execution_count": null,
   "id": "c89a5cae-d6e3-4d48-aa0c-1894a081d964",
   "metadata": {},
   "outputs": [],
   "source": []
  },
  {
   "cell_type": "markdown",
   "id": "15b3d606-6804-451f-b4af-017b1a4b0f48",
   "metadata": {
    "jp-MarkdownHeadingCollapsed": true,
    "tags": []
   },
   "source": [
    "# pool"
   ]
  },
  {
   "cell_type": "code",
   "execution_count": null,
   "id": "868c51b4-0c4f-4e4b-9edb-5cc3fcf8d082",
   "metadata": {},
   "outputs": [],
   "source": [
    "# # loop on each data point\n",
    "\n",
    "# preds = []\n",
    "# for i in range(200, 208):\n",
    "#     pred_dp = lstm_model(tf.expand_dims(all_normalized_data[i-cr_window.input_width:i, :], axis=0))\n",
    "#     preds.append(pred_dp)\n",
    "\n",
    "# preds = np.stack(preds)"
   ]
  },
  {
   "cell_type": "code",
   "execution_count": null,
   "id": "06652861-17fe-458e-9044-0edc527bf1eb",
   "metadata": {},
   "outputs": [],
   "source": [
    "# # without normalization\n",
    "\n",
    "# dnn_model = keras.Sequential([\n",
    "#   layers.Dense(128, activation='relu', input_shape=(5,)),\n",
    "#   layers.Dense(128, activation='relu'),\n",
    "#   layers.Dense(1)\n",
    "# ])\n",
    "\n",
    "# dnn_model.compile(loss='mae',\n",
    "#             optimizer=tf.keras.optimizers.Adam(),\n",
    "#             metrics=[tf.keras.metrics.MeanAbsolutePercentageError(\n",
    "#     name='mean_absolute_percentage_error', dtype=None\n",
    "# )])"
   ]
  }
 ],
 "metadata": {
  "kernelspec": {
   "display_name": "Python 3 (ipykernel)",
   "language": "python",
   "name": "python3"
  },
  "language_info": {
   "codemirror_mode": {
    "name": "ipython",
    "version": 3
   },
   "file_extension": ".py",
   "mimetype": "text/x-python",
   "name": "python",
   "nbconvert_exporter": "python",
   "pygments_lexer": "ipython3",
   "version": "3.8.13"
  },
  "toc-autonumbering": true
 },
 "nbformat": 4,
 "nbformat_minor": 5
}
